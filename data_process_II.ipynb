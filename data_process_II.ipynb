{
 "cells": [
  {
   "cell_type": "code",
   "execution_count": 13,
   "metadata": {},
   "outputs": [],
   "source": [
    "import pandas as pd\n",
    "import numpy as np\n",
    "from tqdm import tqdm"
   ]
  },
  {
   "cell_type": "code",
   "execution_count": null,
   "metadata": {},
   "outputs": [],
   "source": [
    "df = pd.read_feather('./data/df.feather')\n",
    "df.replace([np.inf, -np.inf], np.nan, inplace=True)  # 处理 inf 值\n",
    "df.fillna(0, inplace=True)\n",
    "df.head()"
   ]
  },
  {
   "cell_type": "code",
   "execution_count": null,
   "metadata": {},
   "outputs": [],
   "source": [
    "df.columns.tolist()"
   ]
  },
  {
   "cell_type": "code",
   "execution_count": null,
   "metadata": {},
   "outputs": [],
   "source": [
    "X_train, y_train = [], []\n",
    "X_test, y_test = [], []\n",
    "\n",
    "features =['count', 'std_7', 'prc', 'vol', 'cap', 'ret',]\n",
    "step = 7\n",
    "split_date = '2021-07-01'\n",
    "\n",
    "for ticker_f, data in tqdm(df.groupby('ticker_f')):\n",
    "    data.sort_values('date', inplace=True)\n",
    "    \n",
    "    for i in range(step, len(data), 1):\n",
    "        _X = data.iloc[i-step:i, data.columns.isin(features)].values\n",
    "        _y = int(data.iloc[i, data.columns.isin(['30d_return'])].item() >= 0)\n",
    "        \n",
    "        if data.iloc[i, data.columns.get_loc('date')] < pd.to_datetime(split_date):\n",
    "            X_train.append(_X)\n",
    "            y_train.append(_y)\n",
    "        else:\n",
    "            X_test.append(_X)\n",
    "            y_test.append(_y)\n",
    "        \n",
    "    # break\n",
    "\n",
    "X_train = np.array(X_train)\n",
    "y_train = np.array(y_train)\n",
    "X_test = np.array(X_test)\n",
    "y_test = np.array(y_test)\n",
    "\n",
    "print(X_train.shape, y_train.shape, X_test.shape, y_test.shape)"
   ]
  },
  {
   "cell_type": "code",
   "execution_count": 12,
   "metadata": {},
   "outputs": [],
   "source": [
    "data = {\n",
    "    \"X_train\": X_train,\n",
    "    \"X_test\": X_test,\n",
    "    \"y_train\": y_train,\n",
    "    \"y_test\": y_test\n",
    "}\n",
    "\n",
    "import pickle\n",
    "with open('./data/data.pkl', 'wb') as f:\n",
    "    pickle.dump(data, f)\n"
   ]
  }
 ],
 "metadata": {
  "kernelspec": {
   "display_name": "heywhale",
   "language": "python",
   "name": "python3"
  },
  "language_info": {
   "codemirror_mode": {
    "name": "ipython",
    "version": 3
   },
   "file_extension": ".py",
   "mimetype": "text/x-python",
   "name": "python",
   "nbconvert_exporter": "python",
   "pygments_lexer": "ipython3",
   "version": "3.11.9"
  }
 },
 "nbformat": 4,
 "nbformat_minor": 2
}
