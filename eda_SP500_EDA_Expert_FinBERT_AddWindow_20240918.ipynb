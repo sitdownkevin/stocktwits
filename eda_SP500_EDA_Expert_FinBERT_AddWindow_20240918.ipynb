{
 "cells": [
  {
   "cell_type": "markdown",
   "metadata": {
    "id": "5FEDAD2AFD824DE8BDEA42E7B3192EE5",
    "jupyter": {},
    "notebookId": "66bd9a11f69c7398daacb180",
    "runtime": {
     "execution_status": null,
     "status": "default"
    },
    "scrolled": false,
    "slideshow": {
     "slide_type": "slide"
    },
    "tags": []
   },
   "source": [
    "# Baiscs"
   ]
  },
  {
   "cell_type": "code",
   "execution_count": 1,
   "metadata": {
    "collapsed": false,
    "id": "9DF246825CEB457D8D6A1A0AF6644FF9",
    "jupyter": {
     "outputs_hidden": false
    },
    "notebookId": "66bd9a11f69c7398daacb180",
    "slideshow": {
     "slide_type": "slide"
    },
    "tags": []
   },
   "outputs": [],
   "source": [
    "import json\n",
    "import os\n",
    "import glob\n",
    "import random\n",
    "import re\n",
    "\n",
    "from tqdm import tqdm\n",
    "import pandas as pd\n",
    "import numpy as np\n",
    "\n",
    "from collections import Counter\n",
    "\n",
    "import matplotlib.pyplot as plt\n",
    "\n",
    "import datetime\n",
    "import calendar\n",
    "\n",
    "import seaborn as sns"
   ]
  },
  {
   "cell_type": "markdown",
   "metadata": {
    "id": "7894A2ADB51248CF953D36D6F1096A76",
    "jupyter": {},
    "notebookId": "66bd9a11f69c7398daacb180",
    "runtime": {
     "execution_status": null,
     "status": "default"
    },
    "scrolled": false,
    "slideshow": {
     "slide_type": "slide"
    },
    "tags": []
   },
   "source": [
    "# Self-defined Functions"
   ]
  },
  {
   "cell_type": "code",
   "execution_count": 3,
   "metadata": {
    "collapsed": false,
    "id": "2718BBEA81004529B65E40FDA843A32A",
    "jupyter": {
     "outputs_hidden": false
    },
    "notebookId": "66bd9a11f69c7398daacb180",
    "slideshow": {
     "slide_type": "slide"
    },
    "tags": []
   },
   "outputs": [
    {
     "name": "stdout",
     "output_type": "stream",
     "text": [
      "The autoreload extension is already loaded. To reload it, use:\n",
      "  %reload_ext autoreload\n"
     ]
    }
   ],
   "source": [
    "%load_ext autoreload\n",
    "%autoreload 2\n",
    "#\n",
    "import sys\n",
    "sys.path.append('../')\n",
    "from myutils.read_save import *\n",
    "from myutils.tools import *\n",
    "from settings.paths import *\n",
    "from myutils.visualization import *"
   ]
  },
  {
   "cell_type": "code",
   "execution_count": 6,
   "metadata": {
    "collapsed": false,
    "id": "105FD9F6CD3446BF92C9160C005ADBCA",
    "jupyter": {
     "outputs_hidden": false
    },
    "notebookId": "66bd9a11f69c7398daacb180",
    "slideshow": {
     "slide_type": "slide"
    },
    "tags": []
   },
   "outputs": [],
   "source": [
    "####\n",
    "# path\n",
    "# path_data = my_path().stocktwits\n",
    "# path_data2 = my_path().stocktwits2\n",
    "# path_input = os.path.abspath(os.path.join(\n",
    "#     my_path().parent,\n",
    "#     'Input'\n",
    "# ))\n",
    "path_input = '\\GME Short Squeeze Study\\Input'\n",
    "path_output = '\\GME Short Squeeze Study\\Output'\n",
    "# path_input = os.path.abspath(os.path.join(\n",
    "#     my_path().parent,\n",
    "#     'Output'\n",
    "# ))"
   ]
  },
  {
   "cell_type": "markdown",
   "metadata": {
    "id": "9E987A8A5F254CA48B200BCE5EF6F1C2",
    "jupyter": {},
    "notebookId": "66bd9a11f69c7398daacb180",
    "runtime": {
     "execution_status": null,
     "status": "default"
    },
    "scrolled": false,
    "slideshow": {
     "slide_type": "slide"
    },
    "tags": []
   },
   "source": [
    "---  \n",
    "---  \n",
    "---  \n",
    "\n",
    "\n",
    "# Input Data  \n",
    "\n",
    "## `df_input`"
   ]
  },
  {
   "cell_type": "code",
   "execution_count": 7,
   "metadata": {
    "collapsed": false,
    "id": "3BEBE2D18D7249C4A6CE909EAA8A03DC",
    "jupyter": {
     "outputs_hidden": false
    },
    "notebookId": "66bd9a11f69c7398daacb180",
    "slideshow": {
     "slide_type": "slide"
    },
    "tags": []
   },
   "outputs": [],
   "source": [
    "# df_input = read_input()\n",
    "fname = os.path.join(path_input, 'tickerList500.csv')\n",
    "df_input = pd.read_csv(\n",
    "    fname, \n",
    "    encoding = 'utf-8',\n",
    "    names = ['ticker', 'company', 'exchange', 'market_cap']\n",
    ")"
   ]
  },
  {
   "cell_type": "code",
   "execution_count": 8,
   "metadata": {
    "collapsed": false,
    "id": "7E9EA17B515D43D1B40D21517FB2B47E",
    "jupyter": {
     "outputs_hidden": false
    },
    "notebookId": "66bd9a11f69c7398daacb180",
    "slideshow": {
     "slide_type": "slide"
    },
    "tags": []
   },
   "outputs": [
    {
     "data": {
      "text/plain": [
       "(500, 4)"
      ]
     },
     "execution_count": 8,
     "metadata": {},
     "output_type": "execute_result"
    }
   ],
   "source": [
    "df_input.shape"
   ]
  },
  {
   "cell_type": "code",
   "execution_count": 9,
   "metadata": {
    "collapsed": false,
    "id": "38160CD6F88B4CDB8DA7E4BFA5455266",
    "jupyter": {
     "outputs_hidden": false
    },
    "notebookId": "66bd9a11f69c7398daacb180",
    "scrolled": true,
    "slideshow": {
     "slide_type": "slide"
    },
    "tags": []
   },
   "outputs": [
    {
     "data": {
      "text/html": [
       "<div>\n",
       "<style scoped>\n",
       "    .dataframe tbody tr th:only-of-type {\n",
       "        vertical-align: middle;\n",
       "    }\n",
       "\n",
       "    .dataframe tbody tr th {\n",
       "        vertical-align: top;\n",
       "    }\n",
       "\n",
       "    .dataframe thead th {\n",
       "        text-align: right;\n",
       "    }\n",
       "</style>\n",
       "<table border=\"1\" class=\"dataframe\">\n",
       "  <thead>\n",
       "    <tr style=\"text-align: right;\">\n",
       "      <th></th>\n",
       "      <th>ticker</th>\n",
       "      <th>company</th>\n",
       "      <th>exchange</th>\n",
       "      <th>market_cap</th>\n",
       "    </tr>\n",
       "  </thead>\n",
       "  <tbody>\n",
       "    <tr>\n",
       "      <th>0</th>\n",
       "      <td>MSFT</td>\n",
       "      <td>Microsoft Corporation</td>\n",
       "      <td>NASDAQ</td>\n",
       "      <td>7.792130e+11</td>\n",
       "    </tr>\n",
       "    <tr>\n",
       "      <th>1</th>\n",
       "      <td>AAPL</td>\n",
       "      <td>Apple Inc</td>\n",
       "      <td>NASDAQ</td>\n",
       "      <td>7.442210e+11</td>\n",
       "    </tr>\n",
       "    <tr>\n",
       "      <th>2</th>\n",
       "      <td>AMZN</td>\n",
       "      <td>Amazoncom Inc</td>\n",
       "      <td>NASDAQ</td>\n",
       "      <td>7.143000e+11</td>\n",
       "    </tr>\n",
       "    <tr>\n",
       "      <th>3</th>\n",
       "      <td>GOOGL</td>\n",
       "      <td>Alphabet Inc</td>\n",
       "      <td>NASDAQ</td>\n",
       "      <td>7.118650e+11</td>\n",
       "    </tr>\n",
       "    <tr>\n",
       "      <th>4</th>\n",
       "      <td>GOOG</td>\n",
       "      <td>Alphabet Inc</td>\n",
       "      <td>NASDAQ</td>\n",
       "      <td>7.020100e+11</td>\n",
       "    </tr>\n",
       "  </tbody>\n",
       "</table>\n",
       "</div>"
      ],
      "text/plain": [
       "  ticker                company exchange    market_cap\n",
       "0   MSFT  Microsoft Corporation   NASDAQ  7.792130e+11\n",
       "1   AAPL              Apple Inc   NASDAQ  7.442210e+11\n",
       "2   AMZN          Amazoncom Inc   NASDAQ  7.143000e+11\n",
       "3  GOOGL           Alphabet Inc   NASDAQ  7.118650e+11\n",
       "4   GOOG           Alphabet Inc   NASDAQ  7.020100e+11"
      ]
     },
     "execution_count": 9,
     "metadata": {},
     "output_type": "execute_result"
    }
   ],
   "source": [
    "df_input.head()"
   ]
  },
  {
   "cell_type": "markdown",
   "metadata": {
    "id": "E310523DAB4946E5B26FF280CC732E3A",
    "jupyter": {},
    "notebookId": "66bd9a11f69c7398daacb180",
    "runtime": {
     "execution_status": null,
     "status": "default"
    },
    "scrolled": false,
    "slideshow": {
     "slide_type": "slide"
    },
    "tags": []
   },
   "source": [
    "## `df_price`: Price"
   ]
  },
  {
   "cell_type": "code",
   "execution_count": 10,
   "metadata": {
    "collapsed": false,
    "id": "496BE787E3B143558C7EFEBE9EB5ADCE",
    "jupyter": {
     "outputs_hidden": false
    },
    "notebookId": "66bd9a11f69c7398daacb180",
    "slideshow": {
     "slide_type": "slide"
    },
    "tags": []
   },
   "outputs": [],
   "source": [
    "folder = os.path.abspath(os.path.join(\n",
    "    os.getcwd(),\n",
    "    os.pardir,\n",
    "    'Data',\n",
    "    'stocktwits',\n",
    "    'price'\n",
    "))\n",
    "fname = os.path.join(folder, 'SP500_financial_data_pivot.csv')\n",
    "df_price = pd.read_csv(\n",
    "    fname,\n",
    "    encoding = 'utf-8'\n",
    ")"
   ]
  },
  {
   "cell_type": "code",
   "execution_count": 11,
   "metadata": {
    "collapsed": false,
    "id": "83DD9D76B82447809A1E652F20FAF0C9",
    "jupyter": {
     "outputs_hidden": false
    },
    "notebookId": "66bd9a11f69c7398daacb180",
    "slideshow": {
     "slide_type": "slide"
    },
    "tags": []
   },
   "outputs": [
    {
     "data": {
      "text/plain": [
       "(156576, 18)"
      ]
     },
     "execution_count": 11,
     "metadata": {},
     "output_type": "execute_result"
    }
   ],
   "source": [
    "df_price.shape"
   ]
  },
  {
   "cell_type": "code",
   "execution_count": 12,
   "metadata": {
    "collapsed": false,
    "id": "2141077585994D9B8BF562E74CD09401",
    "jupyter": {
     "outputs_hidden": false
    },
    "notebookId": "66bd9a11f69c7398daacb180",
    "slideshow": {
     "slide_type": "slide"
    },
    "tags": []
   },
   "outputs": [
    {
     "data": {
      "text/html": [
       "<div>\n",
       "<style scoped>\n",
       "    .dataframe tbody tr th:only-of-type {\n",
       "        vertical-align: middle;\n",
       "    }\n",
       "\n",
       "    .dataframe tbody tr th {\n",
       "        vertical-align: top;\n",
       "    }\n",
       "\n",
       "    .dataframe thead th {\n",
       "        text-align: right;\n",
       "    }\n",
       "</style>\n",
       "<table border=\"1\" class=\"dataframe\">\n",
       "  <thead>\n",
       "    <tr style=\"text-align: right;\">\n",
       "      <th></th>\n",
       "      <th>ticker</th>\n",
       "      <th>date</th>\n",
       "      <th>prc</th>\n",
       "      <th>vol</th>\n",
       "      <th>ret</th>\n",
       "      <th>cap</th>\n",
       "      <th>ret_roll_avg_21d</th>\n",
       "      <th>prc_roll_avg_21d</th>\n",
       "      <th>vol_roll_avg_21d</th>\n",
       "      <th>ret_lag_1</th>\n",
       "      <th>ret_lag_2</th>\n",
       "      <th>ret_lag_3</th>\n",
       "      <th>prc_lag_1</th>\n",
       "      <th>prc_lag_2</th>\n",
       "      <th>prc_lag_3</th>\n",
       "      <th>vol_lag_1</th>\n",
       "      <th>vol_lag_2</th>\n",
       "      <th>vol_lag_3</th>\n",
       "    </tr>\n",
       "  </thead>\n",
       "  <tbody>\n",
       "    <tr>\n",
       "      <th>0</th>\n",
       "      <td>A</td>\n",
       "      <td>2020-06-29</td>\n",
       "      <td>87.29</td>\n",
       "      <td>1302474.0</td>\n",
       "      <td>0.018277</td>\n",
       "      <td>2.695318e+10</td>\n",
       "      <td>-0.000231</td>\n",
       "      <td>88.442857</td>\n",
       "      <td>1.692013e+06</td>\n",
       "      <td>-0.015586</td>\n",
       "      <td>0.008087</td>\n",
       "      <td>-0.030466</td>\n",
       "      <td>85.90</td>\n",
       "      <td>87.26</td>\n",
       "      <td>86.56</td>\n",
       "      <td>2225790.0</td>\n",
       "      <td>1350229.0</td>\n",
       "      <td>1806600.0</td>\n",
       "    </tr>\n",
       "    <tr>\n",
       "      <th>1</th>\n",
       "      <td>A</td>\n",
       "      <td>2020-06-30</td>\n",
       "      <td>88.37</td>\n",
       "      <td>1920184.0</td>\n",
       "      <td>0.012373</td>\n",
       "      <td>2.728666e+10</td>\n",
       "      <td>-0.000599</td>\n",
       "      <td>88.369524</td>\n",
       "      <td>1.665249e+06</td>\n",
       "      <td>0.018277</td>\n",
       "      <td>-0.015586</td>\n",
       "      <td>0.008087</td>\n",
       "      <td>87.29</td>\n",
       "      <td>85.90</td>\n",
       "      <td>87.26</td>\n",
       "      <td>1302474.0</td>\n",
       "      <td>2225790.0</td>\n",
       "      <td>1350229.0</td>\n",
       "    </tr>\n",
       "    <tr>\n",
       "      <th>2</th>\n",
       "      <td>A</td>\n",
       "      <td>2020-07-01</td>\n",
       "      <td>88.11</td>\n",
       "      <td>1136989.0</td>\n",
       "      <td>-0.002942</td>\n",
       "      <td>2.720638e+10</td>\n",
       "      <td>-0.000940</td>\n",
       "      <td>88.265714</td>\n",
       "      <td>1.639251e+06</td>\n",
       "      <td>0.012373</td>\n",
       "      <td>0.018277</td>\n",
       "      <td>-0.015586</td>\n",
       "      <td>88.37</td>\n",
       "      <td>87.29</td>\n",
       "      <td>85.90</td>\n",
       "      <td>1920184.0</td>\n",
       "      <td>1302474.0</td>\n",
       "      <td>2225790.0</td>\n",
       "    </tr>\n",
       "    <tr>\n",
       "      <th>3</th>\n",
       "      <td>A</td>\n",
       "      <td>2020-07-02</td>\n",
       "      <td>88.68</td>\n",
       "      <td>1507700.0</td>\n",
       "      <td>0.006469</td>\n",
       "      <td>2.738238e+10</td>\n",
       "      <td>-0.000737</td>\n",
       "      <td>88.179524</td>\n",
       "      <td>1.645204e+06</td>\n",
       "      <td>-0.002942</td>\n",
       "      <td>0.012373</td>\n",
       "      <td>0.018277</td>\n",
       "      <td>88.11</td>\n",
       "      <td>88.37</td>\n",
       "      <td>87.29</td>\n",
       "      <td>1136989.0</td>\n",
       "      <td>1920184.0</td>\n",
       "      <td>1302474.0</td>\n",
       "    </tr>\n",
       "    <tr>\n",
       "      <th>4</th>\n",
       "      <td>A</td>\n",
       "      <td>2020-07-06</td>\n",
       "      <td>89.31</td>\n",
       "      <td>1412249.0</td>\n",
       "      <td>0.007104</td>\n",
       "      <td>2.757691e+10</td>\n",
       "      <td>-0.000741</td>\n",
       "      <td>88.092381</td>\n",
       "      <td>1.606384e+06</td>\n",
       "      <td>0.006469</td>\n",
       "      <td>-0.002942</td>\n",
       "      <td>0.012373</td>\n",
       "      <td>88.68</td>\n",
       "      <td>88.11</td>\n",
       "      <td>88.37</td>\n",
       "      <td>1507700.0</td>\n",
       "      <td>1136989.0</td>\n",
       "      <td>1920184.0</td>\n",
       "    </tr>\n",
       "  </tbody>\n",
       "</table>\n",
       "</div>"
      ],
      "text/plain": [
       "  ticker        date    prc        vol       ret           cap  \\\n",
       "0      A  2020-06-29  87.29  1302474.0  0.018277  2.695318e+10   \n",
       "1      A  2020-06-30  88.37  1920184.0  0.012373  2.728666e+10   \n",
       "2      A  2020-07-01  88.11  1136989.0 -0.002942  2.720638e+10   \n",
       "3      A  2020-07-02  88.68  1507700.0  0.006469  2.738238e+10   \n",
       "4      A  2020-07-06  89.31  1412249.0  0.007104  2.757691e+10   \n",
       "\n",
       "   ret_roll_avg_21d  prc_roll_avg_21d  vol_roll_avg_21d  ret_lag_1  ret_lag_2  \\\n",
       "0         -0.000231         88.442857      1.692013e+06  -0.015586   0.008087   \n",
       "1         -0.000599         88.369524      1.665249e+06   0.018277  -0.015586   \n",
       "2         -0.000940         88.265714      1.639251e+06   0.012373   0.018277   \n",
       "3         -0.000737         88.179524      1.645204e+06  -0.002942   0.012373   \n",
       "4         -0.000741         88.092381      1.606384e+06   0.006469  -0.002942   \n",
       "\n",
       "   ret_lag_3  prc_lag_1  prc_lag_2  prc_lag_3  vol_lag_1  vol_lag_2  vol_lag_3  \n",
       "0  -0.030466      85.90      87.26      86.56  2225790.0  1350229.0  1806600.0  \n",
       "1   0.008087      87.29      85.90      87.26  1302474.0  2225790.0  1350229.0  \n",
       "2  -0.015586      88.37      87.29      85.90  1920184.0  1302474.0  2225790.0  \n",
       "3   0.018277      88.11      88.37      87.29  1136989.0  1920184.0  1302474.0  \n",
       "4   0.012373      88.68      88.11      88.37  1507700.0  1136989.0  1920184.0  "
      ]
     },
     "execution_count": 12,
     "metadata": {},
     "output_type": "execute_result"
    }
   ],
   "source": [
    "df_price.head()"
   ]
  },
  {
   "cell_type": "code",
   "execution_count": 13,
   "metadata": {
    "collapsed": false,
    "id": "9DB3E740E0AC477C8B4CC00EF88E32AD",
    "jupyter": {
     "outputs_hidden": false
    },
    "notebookId": "66bd9a11f69c7398daacb180",
    "slideshow": {
     "slide_type": "slide"
    },
    "tags": []
   },
   "outputs": [
    {
     "data": {
      "text/plain": [
       "466"
      ]
     },
     "execution_count": 13,
     "metadata": {},
     "output_type": "execute_result"
    }
   ],
   "source": [
    "df_price['ticker'].nunique()"
   ]
  },
  {
   "cell_type": "code",
   "execution_count": 14,
   "metadata": {
    "collapsed": false,
    "id": "56DAE45B426546899B1C79B769BB06CB",
    "jupyter": {
     "outputs_hidden": false
    },
    "notebookId": "66bd9a11f69c7398daacb180",
    "slideshow": {
     "slide_type": "slide"
    },
    "tags": []
   },
   "outputs": [
    {
     "data": {
      "text/plain": [
       "336"
      ]
     },
     "execution_count": 14,
     "metadata": {},
     "output_type": "execute_result"
    }
   ],
   "source": [
    "df_price['date'].nunique()"
   ]
  },
  {
   "cell_type": "code",
   "execution_count": 15,
   "metadata": {
    "collapsed": false,
    "id": "0DCBEC21407740EB9FE4072A12070C3E",
    "jupyter": {
     "outputs_hidden": false
    },
    "notebookId": "66bd9a11f69c7398daacb180",
    "slideshow": {
     "slide_type": "slide"
    },
    "tags": []
   },
   "outputs": [
    {
     "data": {
      "text/plain": [
       "'2020-06-29'"
      ]
     },
     "execution_count": 15,
     "metadata": {},
     "output_type": "execute_result"
    }
   ],
   "source": [
    "df_price['date'].min()"
   ]
  },
  {
   "cell_type": "code",
   "execution_count": 16,
   "metadata": {
    "collapsed": false,
    "id": "3355429E08FD43188D151331A384C29B",
    "jupyter": {
     "outputs_hidden": false
    },
    "notebookId": "66bd9a11f69c7398daacb180",
    "slideshow": {
     "slide_type": "slide"
    },
    "tags": []
   },
   "outputs": [
    {
     "data": {
      "text/plain": [
       "'2021-10-26'"
      ]
     },
     "execution_count": 16,
     "metadata": {},
     "output_type": "execute_result"
    }
   ],
   "source": [
    "df_price['date'].max()"
   ]
  },
  {
   "cell_type": "markdown",
   "metadata": {
    "id": "A6072E404AD14C7EBC08738FA361C466",
    "jupyter": {},
    "notebookId": "66bd9a11f69c7398daacb180",
    "runtime": {
     "execution_status": null,
     "status": "default"
    },
    "scrolled": false,
    "slideshow": {
     "slide_type": "slide"
    },
    "tags": []
   },
   "source": [
    "### 处理price空缺值"
   ]
  },
  {
   "cell_type": "code",
   "execution_count": 17,
   "metadata": {
    "collapsed": false,
    "id": "9390C420A5944D0B8342EDF51E8A0936",
    "jupyter": {
     "outputs_hidden": false
    },
    "notebookId": "66bd9a11f69c7398daacb180",
    "slideshow": {
     "slide_type": "slide"
    },
    "tags": []
   },
   "outputs": [],
   "source": [
    "df_price['date'] = pd.to_datetime(df_price['date'])"
   ]
  },
  {
   "cell_type": "code",
   "execution_count": 18,
   "metadata": {
    "collapsed": false,
    "id": "5C728DBBD2C749D18A0AF0767E191863",
    "jupyter": {
     "outputs_hidden": false
    },
    "notebookId": "66bd9a11f69c7398daacb180",
    "slideshow": {
     "slide_type": "slide"
    },
    "tags": []
   },
   "outputs": [],
   "source": [
    "full_date_range = pd.date_range(start='2020-06-29', end='2021-10-26')"
   ]
  },
  {
   "cell_type": "code",
   "execution_count": 19,
   "metadata": {
    "collapsed": false,
    "id": "C056764F9A9242BC9FE309D4721BBE40",
    "jupyter": {
     "outputs_hidden": false
    },
    "notebookId": "66bd9a11f69c7398daacb180",
    "slideshow": {
     "slide_type": "slide"
    },
    "tags": []
   },
   "outputs": [],
   "source": [
    "# 对每个股票，生成完整的日期数据\n",
    "df_price_full = df_price.set_index('date').groupby('ticker').apply(\n",
    "    lambda x: x.reindex(full_date_range, method='ffill')\n",
    ").reset_index(level=0, drop=True)"
   ]
  },
  {
   "cell_type": "code",
   "execution_count": 20,
   "metadata": {
    "collapsed": false,
    "id": "612CC10D448644DF97A50D576A9CD22C",
    "jupyter": {
     "outputs_hidden": false
    },
    "notebookId": "66bd9a11f69c7398daacb180",
    "slideshow": {
     "slide_type": "slide"
    },
    "tags": []
   },
   "outputs": [
    {
     "data": {
      "text/html": [
       "<div>\n",
       "<style scoped>\n",
       "    .dataframe tbody tr th:only-of-type {\n",
       "        vertical-align: middle;\n",
       "    }\n",
       "\n",
       "    .dataframe tbody tr th {\n",
       "        vertical-align: top;\n",
       "    }\n",
       "\n",
       "    .dataframe thead th {\n",
       "        text-align: right;\n",
       "    }\n",
       "</style>\n",
       "<table border=\"1\" class=\"dataframe\">\n",
       "  <thead>\n",
       "    <tr style=\"text-align: right;\">\n",
       "      <th></th>\n",
       "      <th>ticker</th>\n",
       "      <th>prc</th>\n",
       "      <th>vol</th>\n",
       "      <th>ret</th>\n",
       "      <th>cap</th>\n",
       "      <th>ret_roll_avg_21d</th>\n",
       "      <th>prc_roll_avg_21d</th>\n",
       "      <th>vol_roll_avg_21d</th>\n",
       "      <th>ret_lag_1</th>\n",
       "      <th>ret_lag_2</th>\n",
       "      <th>ret_lag_3</th>\n",
       "      <th>prc_lag_1</th>\n",
       "      <th>prc_lag_2</th>\n",
       "      <th>prc_lag_3</th>\n",
       "      <th>vol_lag_1</th>\n",
       "      <th>vol_lag_2</th>\n",
       "      <th>vol_lag_3</th>\n",
       "    </tr>\n",
       "  </thead>\n",
       "  <tbody>\n",
       "    <tr>\n",
       "      <th>2020-06-29</th>\n",
       "      <td>A</td>\n",
       "      <td>87.29</td>\n",
       "      <td>1302474.0</td>\n",
       "      <td>0.018277</td>\n",
       "      <td>2.695318e+10</td>\n",
       "      <td>-0.000231</td>\n",
       "      <td>88.442857</td>\n",
       "      <td>1.692013e+06</td>\n",
       "      <td>-0.015586</td>\n",
       "      <td>0.008087</td>\n",
       "      <td>-0.030466</td>\n",
       "      <td>85.90</td>\n",
       "      <td>87.26</td>\n",
       "      <td>86.56</td>\n",
       "      <td>2225790.0</td>\n",
       "      <td>1350229.0</td>\n",
       "      <td>1806600.0</td>\n",
       "    </tr>\n",
       "    <tr>\n",
       "      <th>2020-06-30</th>\n",
       "      <td>A</td>\n",
       "      <td>88.37</td>\n",
       "      <td>1920184.0</td>\n",
       "      <td>0.012373</td>\n",
       "      <td>2.728666e+10</td>\n",
       "      <td>-0.000599</td>\n",
       "      <td>88.369524</td>\n",
       "      <td>1.665249e+06</td>\n",
       "      <td>0.018277</td>\n",
       "      <td>-0.015586</td>\n",
       "      <td>0.008087</td>\n",
       "      <td>87.29</td>\n",
       "      <td>85.90</td>\n",
       "      <td>87.26</td>\n",
       "      <td>1302474.0</td>\n",
       "      <td>2225790.0</td>\n",
       "      <td>1350229.0</td>\n",
       "    </tr>\n",
       "    <tr>\n",
       "      <th>2020-07-01</th>\n",
       "      <td>A</td>\n",
       "      <td>88.11</td>\n",
       "      <td>1136989.0</td>\n",
       "      <td>-0.002942</td>\n",
       "      <td>2.720638e+10</td>\n",
       "      <td>-0.000940</td>\n",
       "      <td>88.265714</td>\n",
       "      <td>1.639251e+06</td>\n",
       "      <td>0.012373</td>\n",
       "      <td>0.018277</td>\n",
       "      <td>-0.015586</td>\n",
       "      <td>88.37</td>\n",
       "      <td>87.29</td>\n",
       "      <td>85.90</td>\n",
       "      <td>1920184.0</td>\n",
       "      <td>1302474.0</td>\n",
       "      <td>2225790.0</td>\n",
       "    </tr>\n",
       "    <tr>\n",
       "      <th>2020-07-02</th>\n",
       "      <td>A</td>\n",
       "      <td>88.68</td>\n",
       "      <td>1507700.0</td>\n",
       "      <td>0.006469</td>\n",
       "      <td>2.738238e+10</td>\n",
       "      <td>-0.000737</td>\n",
       "      <td>88.179524</td>\n",
       "      <td>1.645204e+06</td>\n",
       "      <td>-0.002942</td>\n",
       "      <td>0.012373</td>\n",
       "      <td>0.018277</td>\n",
       "      <td>88.11</td>\n",
       "      <td>88.37</td>\n",
       "      <td>87.29</td>\n",
       "      <td>1136989.0</td>\n",
       "      <td>1920184.0</td>\n",
       "      <td>1302474.0</td>\n",
       "    </tr>\n",
       "    <tr>\n",
       "      <th>2020-07-03</th>\n",
       "      <td>A</td>\n",
       "      <td>88.68</td>\n",
       "      <td>1507700.0</td>\n",
       "      <td>0.006469</td>\n",
       "      <td>2.738238e+10</td>\n",
       "      <td>-0.000737</td>\n",
       "      <td>88.179524</td>\n",
       "      <td>1.645204e+06</td>\n",
       "      <td>-0.002942</td>\n",
       "      <td>0.012373</td>\n",
       "      <td>0.018277</td>\n",
       "      <td>88.11</td>\n",
       "      <td>88.37</td>\n",
       "      <td>87.29</td>\n",
       "      <td>1136989.0</td>\n",
       "      <td>1920184.0</td>\n",
       "      <td>1302474.0</td>\n",
       "    </tr>\n",
       "    <tr>\n",
       "      <th>...</th>\n",
       "      <td>...</td>\n",
       "      <td>...</td>\n",
       "      <td>...</td>\n",
       "      <td>...</td>\n",
       "      <td>...</td>\n",
       "      <td>...</td>\n",
       "      <td>...</td>\n",
       "      <td>...</td>\n",
       "      <td>...</td>\n",
       "      <td>...</td>\n",
       "      <td>...</td>\n",
       "      <td>...</td>\n",
       "      <td>...</td>\n",
       "      <td>...</td>\n",
       "      <td>...</td>\n",
       "      <td>...</td>\n",
       "      <td>...</td>\n",
       "    </tr>\n",
       "    <tr>\n",
       "      <th>2021-10-22</th>\n",
       "      <td>ZTS</td>\n",
       "      <td>208.51</td>\n",
       "      <td>1104379.0</td>\n",
       "      <td>-0.000527</td>\n",
       "      <td>9.865147e+10</td>\n",
       "      <td>0.000956</td>\n",
       "      <td>199.472381</td>\n",
       "      <td>1.386384e+06</td>\n",
       "      <td>0.011197</td>\n",
       "      <td>0.009147</td>\n",
       "      <td>0.008435</td>\n",
       "      <td>208.62</td>\n",
       "      <td>206.31</td>\n",
       "      <td>204.44</td>\n",
       "      <td>956999.0</td>\n",
       "      <td>794843.0</td>\n",
       "      <td>813720.0</td>\n",
       "    </tr>\n",
       "    <tr>\n",
       "      <th>2021-10-23</th>\n",
       "      <td>ZTS</td>\n",
       "      <td>208.51</td>\n",
       "      <td>1104379.0</td>\n",
       "      <td>-0.000527</td>\n",
       "      <td>9.865147e+10</td>\n",
       "      <td>0.000956</td>\n",
       "      <td>199.472381</td>\n",
       "      <td>1.386384e+06</td>\n",
       "      <td>0.011197</td>\n",
       "      <td>0.009147</td>\n",
       "      <td>0.008435</td>\n",
       "      <td>208.62</td>\n",
       "      <td>206.31</td>\n",
       "      <td>204.44</td>\n",
       "      <td>956999.0</td>\n",
       "      <td>794843.0</td>\n",
       "      <td>813720.0</td>\n",
       "    </tr>\n",
       "    <tr>\n",
       "      <th>2021-10-24</th>\n",
       "      <td>ZTS</td>\n",
       "      <td>208.51</td>\n",
       "      <td>1104379.0</td>\n",
       "      <td>-0.000527</td>\n",
       "      <td>9.865147e+10</td>\n",
       "      <td>0.000956</td>\n",
       "      <td>199.472381</td>\n",
       "      <td>1.386384e+06</td>\n",
       "      <td>0.011197</td>\n",
       "      <td>0.009147</td>\n",
       "      <td>0.008435</td>\n",
       "      <td>208.62</td>\n",
       "      <td>206.31</td>\n",
       "      <td>204.44</td>\n",
       "      <td>956999.0</td>\n",
       "      <td>794843.0</td>\n",
       "      <td>813720.0</td>\n",
       "    </tr>\n",
       "    <tr>\n",
       "      <th>2021-10-25</th>\n",
       "      <td>ZTS</td>\n",
       "      <td>211.52</td>\n",
       "      <td>1224710.0</td>\n",
       "      <td>0.014436</td>\n",
       "      <td>1.000756e+11</td>\n",
       "      <td>0.001639</td>\n",
       "      <td>199.795714</td>\n",
       "      <td>1.391753e+06</td>\n",
       "      <td>-0.000527</td>\n",
       "      <td>0.011197</td>\n",
       "      <td>0.009147</td>\n",
       "      <td>208.51</td>\n",
       "      <td>208.62</td>\n",
       "      <td>206.31</td>\n",
       "      <td>1104379.0</td>\n",
       "      <td>956999.0</td>\n",
       "      <td>794843.0</td>\n",
       "    </tr>\n",
       "    <tr>\n",
       "      <th>2021-10-26</th>\n",
       "      <td>ZTS</td>\n",
       "      <td>210.52</td>\n",
       "      <td>1219253.0</td>\n",
       "      <td>-0.004728</td>\n",
       "      <td>9.960245e+10</td>\n",
       "      <td>0.003026</td>\n",
       "      <td>200.401429</td>\n",
       "      <td>1.356288e+06</td>\n",
       "      <td>0.014436</td>\n",
       "      <td>-0.000527</td>\n",
       "      <td>0.011197</td>\n",
       "      <td>211.52</td>\n",
       "      <td>208.51</td>\n",
       "      <td>208.62</td>\n",
       "      <td>1224710.0</td>\n",
       "      <td>1104379.0</td>\n",
       "      <td>956999.0</td>\n",
       "    </tr>\n",
       "  </tbody>\n",
       "</table>\n",
       "<p>226010 rows × 17 columns</p>\n",
       "</div>"
      ],
      "text/plain": [
       "           ticker     prc        vol       ret           cap  \\\n",
       "2020-06-29      A   87.29  1302474.0  0.018277  2.695318e+10   \n",
       "2020-06-30      A   88.37  1920184.0  0.012373  2.728666e+10   \n",
       "2020-07-01      A   88.11  1136989.0 -0.002942  2.720638e+10   \n",
       "2020-07-02      A   88.68  1507700.0  0.006469  2.738238e+10   \n",
       "2020-07-03      A   88.68  1507700.0  0.006469  2.738238e+10   \n",
       "...           ...     ...        ...       ...           ...   \n",
       "2021-10-22    ZTS  208.51  1104379.0 -0.000527  9.865147e+10   \n",
       "2021-10-23    ZTS  208.51  1104379.0 -0.000527  9.865147e+10   \n",
       "2021-10-24    ZTS  208.51  1104379.0 -0.000527  9.865147e+10   \n",
       "2021-10-25    ZTS  211.52  1224710.0  0.014436  1.000756e+11   \n",
       "2021-10-26    ZTS  210.52  1219253.0 -0.004728  9.960245e+10   \n",
       "\n",
       "            ret_roll_avg_21d  prc_roll_avg_21d  vol_roll_avg_21d  ret_lag_1  \\\n",
       "2020-06-29         -0.000231         88.442857      1.692013e+06  -0.015586   \n",
       "2020-06-30         -0.000599         88.369524      1.665249e+06   0.018277   \n",
       "2020-07-01         -0.000940         88.265714      1.639251e+06   0.012373   \n",
       "2020-07-02         -0.000737         88.179524      1.645204e+06  -0.002942   \n",
       "2020-07-03         -0.000737         88.179524      1.645204e+06  -0.002942   \n",
       "...                      ...               ...               ...        ...   \n",
       "2021-10-22          0.000956        199.472381      1.386384e+06   0.011197   \n",
       "2021-10-23          0.000956        199.472381      1.386384e+06   0.011197   \n",
       "2021-10-24          0.000956        199.472381      1.386384e+06   0.011197   \n",
       "2021-10-25          0.001639        199.795714      1.391753e+06  -0.000527   \n",
       "2021-10-26          0.003026        200.401429      1.356288e+06   0.014436   \n",
       "\n",
       "            ret_lag_2  ret_lag_3  prc_lag_1  prc_lag_2  prc_lag_3  vol_lag_1  \\\n",
       "2020-06-29   0.008087  -0.030466      85.90      87.26      86.56  2225790.0   \n",
       "2020-06-30  -0.015586   0.008087      87.29      85.90      87.26  1302474.0   \n",
       "2020-07-01   0.018277  -0.015586      88.37      87.29      85.90  1920184.0   \n",
       "2020-07-02   0.012373   0.018277      88.11      88.37      87.29  1136989.0   \n",
       "2020-07-03   0.012373   0.018277      88.11      88.37      87.29  1136989.0   \n",
       "...               ...        ...        ...        ...        ...        ...   \n",
       "2021-10-22   0.009147   0.008435     208.62     206.31     204.44   956999.0   \n",
       "2021-10-23   0.009147   0.008435     208.62     206.31     204.44   956999.0   \n",
       "2021-10-24   0.009147   0.008435     208.62     206.31     204.44   956999.0   \n",
       "2021-10-25   0.011197   0.009147     208.51     208.62     206.31  1104379.0   \n",
       "2021-10-26  -0.000527   0.011197     211.52     208.51     208.62  1224710.0   \n",
       "\n",
       "            vol_lag_2  vol_lag_3  \n",
       "2020-06-29  1350229.0  1806600.0  \n",
       "2020-06-30  2225790.0  1350229.0  \n",
       "2020-07-01  1302474.0  2225790.0  \n",
       "2020-07-02  1920184.0  1302474.0  \n",
       "2020-07-03  1920184.0  1302474.0  \n",
       "...               ...        ...  \n",
       "2021-10-22   794843.0   813720.0  \n",
       "2021-10-23   794843.0   813720.0  \n",
       "2021-10-24   794843.0   813720.0  \n",
       "2021-10-25   956999.0   794843.0  \n",
       "2021-10-26  1104379.0   956999.0  \n",
       "\n",
       "[226010 rows x 17 columns]"
      ]
     },
     "execution_count": 20,
     "metadata": {},
     "output_type": "execute_result"
    }
   ],
   "source": [
    "df_price_full"
   ]
  },
  {
   "cell_type": "code",
   "execution_count": 21,
   "metadata": {
    "collapsed": false,
    "id": "18FDAA61D0FF47ACA2D657FD23EC4BDC",
    "jupyter": {
     "outputs_hidden": false
    },
    "notebookId": "66bd9a11f69c7398daacb180",
    "slideshow": {
     "slide_type": "slide"
    },
    "tags": []
   },
   "outputs": [],
   "source": [
    "df_price_full = df_price_full.reset_index().rename(columns={'index':'date'})"
   ]
  },
  {
   "cell_type": "code",
   "execution_count": 22,
   "metadata": {
    "collapsed": false,
    "id": "41C2695A14E44AB28067772ADB77A23F",
    "jupyter": {
     "outputs_hidden": false
    },
    "notebookId": "66bd9a11f69c7398daacb180",
    "slideshow": {
     "slide_type": "slide"
    },
    "tags": []
   },
   "outputs": [
    {
     "data": {
      "text/html": [
       "<div>\n",
       "<style scoped>\n",
       "    .dataframe tbody tr th:only-of-type {\n",
       "        vertical-align: middle;\n",
       "    }\n",
       "\n",
       "    .dataframe tbody tr th {\n",
       "        vertical-align: top;\n",
       "    }\n",
       "\n",
       "    .dataframe thead th {\n",
       "        text-align: right;\n",
       "    }\n",
       "</style>\n",
       "<table border=\"1\" class=\"dataframe\">\n",
       "  <thead>\n",
       "    <tr style=\"text-align: right;\">\n",
       "      <th></th>\n",
       "      <th>date</th>\n",
       "      <th>ticker</th>\n",
       "      <th>prc</th>\n",
       "      <th>vol</th>\n",
       "      <th>ret</th>\n",
       "      <th>cap</th>\n",
       "      <th>ret_roll_avg_21d</th>\n",
       "      <th>prc_roll_avg_21d</th>\n",
       "      <th>vol_roll_avg_21d</th>\n",
       "      <th>ret_lag_1</th>\n",
       "      <th>ret_lag_2</th>\n",
       "      <th>ret_lag_3</th>\n",
       "      <th>prc_lag_1</th>\n",
       "      <th>prc_lag_2</th>\n",
       "      <th>prc_lag_3</th>\n",
       "      <th>vol_lag_1</th>\n",
       "      <th>vol_lag_2</th>\n",
       "      <th>vol_lag_3</th>\n",
       "    </tr>\n",
       "  </thead>\n",
       "  <tbody>\n",
       "    <tr>\n",
       "      <th>0</th>\n",
       "      <td>2020-06-29</td>\n",
       "      <td>A</td>\n",
       "      <td>87.29</td>\n",
       "      <td>1302474.0</td>\n",
       "      <td>0.018277</td>\n",
       "      <td>2.695318e+10</td>\n",
       "      <td>-0.000231</td>\n",
       "      <td>88.442857</td>\n",
       "      <td>1.692013e+06</td>\n",
       "      <td>-0.015586</td>\n",
       "      <td>0.008087</td>\n",
       "      <td>-0.030466</td>\n",
       "      <td>85.90</td>\n",
       "      <td>87.26</td>\n",
       "      <td>86.56</td>\n",
       "      <td>2225790.0</td>\n",
       "      <td>1350229.0</td>\n",
       "      <td>1806600.0</td>\n",
       "    </tr>\n",
       "    <tr>\n",
       "      <th>1</th>\n",
       "      <td>2020-06-30</td>\n",
       "      <td>A</td>\n",
       "      <td>88.37</td>\n",
       "      <td>1920184.0</td>\n",
       "      <td>0.012373</td>\n",
       "      <td>2.728666e+10</td>\n",
       "      <td>-0.000599</td>\n",
       "      <td>88.369524</td>\n",
       "      <td>1.665249e+06</td>\n",
       "      <td>0.018277</td>\n",
       "      <td>-0.015586</td>\n",
       "      <td>0.008087</td>\n",
       "      <td>87.29</td>\n",
       "      <td>85.90</td>\n",
       "      <td>87.26</td>\n",
       "      <td>1302474.0</td>\n",
       "      <td>2225790.0</td>\n",
       "      <td>1350229.0</td>\n",
       "    </tr>\n",
       "    <tr>\n",
       "      <th>2</th>\n",
       "      <td>2020-07-01</td>\n",
       "      <td>A</td>\n",
       "      <td>88.11</td>\n",
       "      <td>1136989.0</td>\n",
       "      <td>-0.002942</td>\n",
       "      <td>2.720638e+10</td>\n",
       "      <td>-0.000940</td>\n",
       "      <td>88.265714</td>\n",
       "      <td>1.639251e+06</td>\n",
       "      <td>0.012373</td>\n",
       "      <td>0.018277</td>\n",
       "      <td>-0.015586</td>\n",
       "      <td>88.37</td>\n",
       "      <td>87.29</td>\n",
       "      <td>85.90</td>\n",
       "      <td>1920184.0</td>\n",
       "      <td>1302474.0</td>\n",
       "      <td>2225790.0</td>\n",
       "    </tr>\n",
       "    <tr>\n",
       "      <th>3</th>\n",
       "      <td>2020-07-02</td>\n",
       "      <td>A</td>\n",
       "      <td>88.68</td>\n",
       "      <td>1507700.0</td>\n",
       "      <td>0.006469</td>\n",
       "      <td>2.738238e+10</td>\n",
       "      <td>-0.000737</td>\n",
       "      <td>88.179524</td>\n",
       "      <td>1.645204e+06</td>\n",
       "      <td>-0.002942</td>\n",
       "      <td>0.012373</td>\n",
       "      <td>0.018277</td>\n",
       "      <td>88.11</td>\n",
       "      <td>88.37</td>\n",
       "      <td>87.29</td>\n",
       "      <td>1136989.0</td>\n",
       "      <td>1920184.0</td>\n",
       "      <td>1302474.0</td>\n",
       "    </tr>\n",
       "    <tr>\n",
       "      <th>4</th>\n",
       "      <td>2020-07-03</td>\n",
       "      <td>A</td>\n",
       "      <td>88.68</td>\n",
       "      <td>1507700.0</td>\n",
       "      <td>0.006469</td>\n",
       "      <td>2.738238e+10</td>\n",
       "      <td>-0.000737</td>\n",
       "      <td>88.179524</td>\n",
       "      <td>1.645204e+06</td>\n",
       "      <td>-0.002942</td>\n",
       "      <td>0.012373</td>\n",
       "      <td>0.018277</td>\n",
       "      <td>88.11</td>\n",
       "      <td>88.37</td>\n",
       "      <td>87.29</td>\n",
       "      <td>1136989.0</td>\n",
       "      <td>1920184.0</td>\n",
       "      <td>1302474.0</td>\n",
       "    </tr>\n",
       "    <tr>\n",
       "      <th>5</th>\n",
       "      <td>2020-07-04</td>\n",
       "      <td>A</td>\n",
       "      <td>88.68</td>\n",
       "      <td>1507700.0</td>\n",
       "      <td>0.006469</td>\n",
       "      <td>2.738238e+10</td>\n",
       "      <td>-0.000737</td>\n",
       "      <td>88.179524</td>\n",
       "      <td>1.645204e+06</td>\n",
       "      <td>-0.002942</td>\n",
       "      <td>0.012373</td>\n",
       "      <td>0.018277</td>\n",
       "      <td>88.11</td>\n",
       "      <td>88.37</td>\n",
       "      <td>87.29</td>\n",
       "      <td>1136989.0</td>\n",
       "      <td>1920184.0</td>\n",
       "      <td>1302474.0</td>\n",
       "    </tr>\n",
       "    <tr>\n",
       "      <th>6</th>\n",
       "      <td>2020-07-05</td>\n",
       "      <td>A</td>\n",
       "      <td>88.68</td>\n",
       "      <td>1507700.0</td>\n",
       "      <td>0.006469</td>\n",
       "      <td>2.738238e+10</td>\n",
       "      <td>-0.000737</td>\n",
       "      <td>88.179524</td>\n",
       "      <td>1.645204e+06</td>\n",
       "      <td>-0.002942</td>\n",
       "      <td>0.012373</td>\n",
       "      <td>0.018277</td>\n",
       "      <td>88.11</td>\n",
       "      <td>88.37</td>\n",
       "      <td>87.29</td>\n",
       "      <td>1136989.0</td>\n",
       "      <td>1920184.0</td>\n",
       "      <td>1302474.0</td>\n",
       "    </tr>\n",
       "    <tr>\n",
       "      <th>7</th>\n",
       "      <td>2020-07-06</td>\n",
       "      <td>A</td>\n",
       "      <td>89.31</td>\n",
       "      <td>1412249.0</td>\n",
       "      <td>0.007104</td>\n",
       "      <td>2.757691e+10</td>\n",
       "      <td>-0.000741</td>\n",
       "      <td>88.092381</td>\n",
       "      <td>1.606384e+06</td>\n",
       "      <td>0.006469</td>\n",
       "      <td>-0.002942</td>\n",
       "      <td>0.012373</td>\n",
       "      <td>88.68</td>\n",
       "      <td>88.11</td>\n",
       "      <td>88.37</td>\n",
       "      <td>1507700.0</td>\n",
       "      <td>1136989.0</td>\n",
       "      <td>1920184.0</td>\n",
       "    </tr>\n",
       "    <tr>\n",
       "      <th>8</th>\n",
       "      <td>2020-07-07</td>\n",
       "      <td>A</td>\n",
       "      <td>89.21</td>\n",
       "      <td>1441704.0</td>\n",
       "      <td>-0.001120</td>\n",
       "      <td>2.754603e+10</td>\n",
       "      <td>-0.000397</td>\n",
       "      <td>88.036667</td>\n",
       "      <td>1.539575e+06</td>\n",
       "      <td>0.007104</td>\n",
       "      <td>0.006469</td>\n",
       "      <td>-0.002942</td>\n",
       "      <td>89.31</td>\n",
       "      <td>88.68</td>\n",
       "      <td>88.11</td>\n",
       "      <td>1412249.0</td>\n",
       "      <td>1507700.0</td>\n",
       "      <td>1136989.0</td>\n",
       "    </tr>\n",
       "    <tr>\n",
       "      <th>9</th>\n",
       "      <td>2020-07-08</td>\n",
       "      <td>A</td>\n",
       "      <td>89.54</td>\n",
       "      <td>1069596.0</td>\n",
       "      <td>0.003699</td>\n",
       "      <td>2.764793e+10</td>\n",
       "      <td>-0.000174</td>\n",
       "      <td>88.000952</td>\n",
       "      <td>1.504568e+06</td>\n",
       "      <td>-0.001120</td>\n",
       "      <td>0.007104</td>\n",
       "      <td>0.006469</td>\n",
       "      <td>89.21</td>\n",
       "      <td>89.31</td>\n",
       "      <td>88.68</td>\n",
       "      <td>1441704.0</td>\n",
       "      <td>1412249.0</td>\n",
       "      <td>1507700.0</td>\n",
       "    </tr>\n",
       "  </tbody>\n",
       "</table>\n",
       "</div>"
      ],
      "text/plain": [
       "        date ticker    prc        vol       ret           cap  \\\n",
       "0 2020-06-29      A  87.29  1302474.0  0.018277  2.695318e+10   \n",
       "1 2020-06-30      A  88.37  1920184.0  0.012373  2.728666e+10   \n",
       "2 2020-07-01      A  88.11  1136989.0 -0.002942  2.720638e+10   \n",
       "3 2020-07-02      A  88.68  1507700.0  0.006469  2.738238e+10   \n",
       "4 2020-07-03      A  88.68  1507700.0  0.006469  2.738238e+10   \n",
       "5 2020-07-04      A  88.68  1507700.0  0.006469  2.738238e+10   \n",
       "6 2020-07-05      A  88.68  1507700.0  0.006469  2.738238e+10   \n",
       "7 2020-07-06      A  89.31  1412249.0  0.007104  2.757691e+10   \n",
       "8 2020-07-07      A  89.21  1441704.0 -0.001120  2.754603e+10   \n",
       "9 2020-07-08      A  89.54  1069596.0  0.003699  2.764793e+10   \n",
       "\n",
       "   ret_roll_avg_21d  prc_roll_avg_21d  vol_roll_avg_21d  ret_lag_1  ret_lag_2  \\\n",
       "0         -0.000231         88.442857      1.692013e+06  -0.015586   0.008087   \n",
       "1         -0.000599         88.369524      1.665249e+06   0.018277  -0.015586   \n",
       "2         -0.000940         88.265714      1.639251e+06   0.012373   0.018277   \n",
       "3         -0.000737         88.179524      1.645204e+06  -0.002942   0.012373   \n",
       "4         -0.000737         88.179524      1.645204e+06  -0.002942   0.012373   \n",
       "5         -0.000737         88.179524      1.645204e+06  -0.002942   0.012373   \n",
       "6         -0.000737         88.179524      1.645204e+06  -0.002942   0.012373   \n",
       "7         -0.000741         88.092381      1.606384e+06   0.006469  -0.002942   \n",
       "8         -0.000397         88.036667      1.539575e+06   0.007104   0.006469   \n",
       "9         -0.000174         88.000952      1.504568e+06  -0.001120   0.007104   \n",
       "\n",
       "   ret_lag_3  prc_lag_1  prc_lag_2  prc_lag_3  vol_lag_1  vol_lag_2  vol_lag_3  \n",
       "0  -0.030466      85.90      87.26      86.56  2225790.0  1350229.0  1806600.0  \n",
       "1   0.008087      87.29      85.90      87.26  1302474.0  2225790.0  1350229.0  \n",
       "2  -0.015586      88.37      87.29      85.90  1920184.0  1302474.0  2225790.0  \n",
       "3   0.018277      88.11      88.37      87.29  1136989.0  1920184.0  1302474.0  \n",
       "4   0.018277      88.11      88.37      87.29  1136989.0  1920184.0  1302474.0  \n",
       "5   0.018277      88.11      88.37      87.29  1136989.0  1920184.0  1302474.0  \n",
       "6   0.018277      88.11      88.37      87.29  1136989.0  1920184.0  1302474.0  \n",
       "7   0.012373      88.68      88.11      88.37  1507700.0  1136989.0  1920184.0  \n",
       "8  -0.002942      89.31      88.68      88.11  1412249.0  1507700.0  1136989.0  \n",
       "9   0.006469      89.21      89.31      88.68  1441704.0  1412249.0  1507700.0  "
      ]
     },
     "execution_count": 22,
     "metadata": {},
     "output_type": "execute_result"
    }
   ],
   "source": [
    "df_price_full[:10]"
   ]
  },
  {
   "cell_type": "markdown",
   "metadata": {
    "id": "E0885303081C408B87BB49B3E2BB555A",
    "jupyter": {},
    "notebookId": "66bd9a11f69c7398daacb180",
    "runtime": {
     "execution_status": null,
     "status": "default"
    },
    "scrolled": false,
    "slideshow": {
     "slide_type": "slide"
    },
    "tags": []
   },
   "source": [
    "### 滚动窗口求return"
   ]
  },
  {
   "cell_type": "code",
   "execution_count": 23,
   "metadata": {
    "collapsed": false,
    "id": "19F925969526423FA8E9C40D4A46E6A7",
    "jupyter": {
     "outputs_hidden": false
    },
    "notebookId": "66bd9a11f69c7398daacb180",
    "slideshow": {
     "slide_type": "slide"
    },
    "tags": []
   },
   "outputs": [],
   "source": [
    "df_price_roll = df_price_full[['ticker','date','prc']]"
   ]
  },
  {
   "cell_type": "code",
   "execution_count": 24,
   "metadata": {
    "collapsed": false,
    "id": "ECB1B4DAA20846558D96B00EA853A362",
    "jupyter": {
     "outputs_hidden": false
    },
    "notebookId": "66bd9a11f69c7398daacb180",
    "slideshow": {
     "slide_type": "slide"
    },
    "tags": []
   },
   "outputs": [
    {
     "name": "stderr",
     "output_type": "stream",
     "text": [
      "C:\\Users\\lenovo\\AppData\\Local\\Temp\\ipykernel_22904\\2310603591.py:2: SettingWithCopyWarning: \n",
      "A value is trying to be set on a copy of a slice from a DataFrame.\n",
      "Try using .loc[row_indexer,col_indexer] = value instead\n",
      "\n",
      "See the caveats in the documentation: https://pandas.pydata.org/pandas-docs/stable/user_guide/indexing.html#returning-a-view-versus-a-copy\n",
      "  df_price_roll['prc_next{}'.format(window_t)] = df_price_roll.groupby(['ticker'])['prc'].shift(-window_t)\n",
      "C:\\Users\\lenovo\\AppData\\Local\\Temp\\ipykernel_22904\\2310603591.py:3: SettingWithCopyWarning: \n",
      "A value is trying to be set on a copy of a slice from a DataFrame.\n",
      "Try using .loc[row_indexer,col_indexer] = value instead\n",
      "\n",
      "See the caveats in the documentation: https://pandas.pydata.org/pandas-docs/stable/user_guide/indexing.html#returning-a-view-versus-a-copy\n",
      "  df_price_roll['ret_next{}'.format(window_t)] = df_price_roll['prc_next{}'.format(window_t)]/df_price_roll['prc']\n",
      "C:\\Users\\lenovo\\AppData\\Local\\Temp\\ipykernel_22904\\2310603591.py:4: SettingWithCopyWarning: \n",
      "A value is trying to be set on a copy of a slice from a DataFrame.\n",
      "Try using .loc[row_indexer,col_indexer] = value instead\n",
      "\n",
      "See the caveats in the documentation: https://pandas.pydata.org/pandas-docs/stable/user_guide/indexing.html#returning-a-view-versus-a-copy\n",
      "  df_price_roll['up_next{}'.format(window_t)] = (df_price_roll['ret_next{}'.format(window_t)] > 1.0).astype(int)\n",
      "C:\\Users\\lenovo\\AppData\\Local\\Temp\\ipykernel_22904\\2310603591.py:2: SettingWithCopyWarning: \n",
      "A value is trying to be set on a copy of a slice from a DataFrame.\n",
      "Try using .loc[row_indexer,col_indexer] = value instead\n",
      "\n",
      "See the caveats in the documentation: https://pandas.pydata.org/pandas-docs/stable/user_guide/indexing.html#returning-a-view-versus-a-copy\n",
      "  df_price_roll['prc_next{}'.format(window_t)] = df_price_roll.groupby(['ticker'])['prc'].shift(-window_t)\n",
      "C:\\Users\\lenovo\\AppData\\Local\\Temp\\ipykernel_22904\\2310603591.py:3: SettingWithCopyWarning: \n",
      "A value is trying to be set on a copy of a slice from a DataFrame.\n",
      "Try using .loc[row_indexer,col_indexer] = value instead\n",
      "\n",
      "See the caveats in the documentation: https://pandas.pydata.org/pandas-docs/stable/user_guide/indexing.html#returning-a-view-versus-a-copy\n",
      "  df_price_roll['ret_next{}'.format(window_t)] = df_price_roll['prc_next{}'.format(window_t)]/df_price_roll['prc']\n",
      "C:\\Users\\lenovo\\AppData\\Local\\Temp\\ipykernel_22904\\2310603591.py:4: SettingWithCopyWarning: \n",
      "A value is trying to be set on a copy of a slice from a DataFrame.\n",
      "Try using .loc[row_indexer,col_indexer] = value instead\n",
      "\n",
      "See the caveats in the documentation: https://pandas.pydata.org/pandas-docs/stable/user_guide/indexing.html#returning-a-view-versus-a-copy\n",
      "  df_price_roll['up_next{}'.format(window_t)] = (df_price_roll['ret_next{}'.format(window_t)] > 1.0).astype(int)\n",
      "C:\\Users\\lenovo\\AppData\\Local\\Temp\\ipykernel_22904\\2310603591.py:2: SettingWithCopyWarning: \n",
      "A value is trying to be set on a copy of a slice from a DataFrame.\n",
      "Try using .loc[row_indexer,col_indexer] = value instead\n",
      "\n",
      "See the caveats in the documentation: https://pandas.pydata.org/pandas-docs/stable/user_guide/indexing.html#returning-a-view-versus-a-copy\n",
      "  df_price_roll['prc_next{}'.format(window_t)] = df_price_roll.groupby(['ticker'])['prc'].shift(-window_t)\n",
      "C:\\Users\\lenovo\\AppData\\Local\\Temp\\ipykernel_22904\\2310603591.py:3: SettingWithCopyWarning: \n",
      "A value is trying to be set on a copy of a slice from a DataFrame.\n",
      "Try using .loc[row_indexer,col_indexer] = value instead\n",
      "\n",
      "See the caveats in the documentation: https://pandas.pydata.org/pandas-docs/stable/user_guide/indexing.html#returning-a-view-versus-a-copy\n",
      "  df_price_roll['ret_next{}'.format(window_t)] = df_price_roll['prc_next{}'.format(window_t)]/df_price_roll['prc']\n",
      "C:\\Users\\lenovo\\AppData\\Local\\Temp\\ipykernel_22904\\2310603591.py:4: SettingWithCopyWarning: \n",
      "A value is trying to be set on a copy of a slice from a DataFrame.\n",
      "Try using .loc[row_indexer,col_indexer] = value instead\n",
      "\n",
      "See the caveats in the documentation: https://pandas.pydata.org/pandas-docs/stable/user_guide/indexing.html#returning-a-view-versus-a-copy\n",
      "  df_price_roll['up_next{}'.format(window_t)] = (df_price_roll['ret_next{}'.format(window_t)] > 1.0).astype(int)\n",
      "C:\\Users\\lenovo\\AppData\\Local\\Temp\\ipykernel_22904\\2310603591.py:2: SettingWithCopyWarning: \n",
      "A value is trying to be set on a copy of a slice from a DataFrame.\n",
      "Try using .loc[row_indexer,col_indexer] = value instead\n",
      "\n",
      "See the caveats in the documentation: https://pandas.pydata.org/pandas-docs/stable/user_guide/indexing.html#returning-a-view-versus-a-copy\n",
      "  df_price_roll['prc_next{}'.format(window_t)] = df_price_roll.groupby(['ticker'])['prc'].shift(-window_t)\n",
      "C:\\Users\\lenovo\\AppData\\Local\\Temp\\ipykernel_22904\\2310603591.py:3: SettingWithCopyWarning: \n",
      "A value is trying to be set on a copy of a slice from a DataFrame.\n",
      "Try using .loc[row_indexer,col_indexer] = value instead\n",
      "\n",
      "See the caveats in the documentation: https://pandas.pydata.org/pandas-docs/stable/user_guide/indexing.html#returning-a-view-versus-a-copy\n",
      "  df_price_roll['ret_next{}'.format(window_t)] = df_price_roll['prc_next{}'.format(window_t)]/df_price_roll['prc']\n",
      "C:\\Users\\lenovo\\AppData\\Local\\Temp\\ipykernel_22904\\2310603591.py:4: SettingWithCopyWarning: \n",
      "A value is trying to be set on a copy of a slice from a DataFrame.\n",
      "Try using .loc[row_indexer,col_indexer] = value instead\n",
      "\n",
      "See the caveats in the documentation: https://pandas.pydata.org/pandas-docs/stable/user_guide/indexing.html#returning-a-view-versus-a-copy\n",
      "  df_price_roll['up_next{}'.format(window_t)] = (df_price_roll['ret_next{}'.format(window_t)] > 1.0).astype(int)\n",
      "C:\\Users\\lenovo\\AppData\\Local\\Temp\\ipykernel_22904\\2310603591.py:2: SettingWithCopyWarning: \n",
      "A value is trying to be set on a copy of a slice from a DataFrame.\n",
      "Try using .loc[row_indexer,col_indexer] = value instead\n",
      "\n",
      "See the caveats in the documentation: https://pandas.pydata.org/pandas-docs/stable/user_guide/indexing.html#returning-a-view-versus-a-copy\n",
      "  df_price_roll['prc_next{}'.format(window_t)] = df_price_roll.groupby(['ticker'])['prc'].shift(-window_t)\n",
      "C:\\Users\\lenovo\\AppData\\Local\\Temp\\ipykernel_22904\\2310603591.py:3: SettingWithCopyWarning: \n",
      "A value is trying to be set on a copy of a slice from a DataFrame.\n",
      "Try using .loc[row_indexer,col_indexer] = value instead\n",
      "\n",
      "See the caveats in the documentation: https://pandas.pydata.org/pandas-docs/stable/user_guide/indexing.html#returning-a-view-versus-a-copy\n",
      "  df_price_roll['ret_next{}'.format(window_t)] = df_price_roll['prc_next{}'.format(window_t)]/df_price_roll['prc']\n"
     ]
    }
   ],
   "source": [
    "for window_t in [1,7,16,23,30,37,44,60]:\n",
    "    df_price_roll['prc_next{}'.format(window_t)] = df_price_roll.groupby(['ticker'])['prc'].shift(-window_t)\n",
    "    df_price_roll['ret_next{}'.format(window_t)] = df_price_roll['prc_next{}'.format(window_t)]/df_price_roll['prc']\n",
    "    df_price_roll['up_next{}'.format(window_t)] = (df_price_roll['ret_next{}'.format(window_t)] > 1.0).astype(int)"
   ]
  },
  {
   "cell_type": "code",
   "execution_count": 25,
   "metadata": {
    "collapsed": false,
    "id": "326DCABC515347D99D91B6941B2B5345",
    "jupyter": {
     "outputs_hidden": false
    },
    "notebookId": "66bd9a11f69c7398daacb180",
    "slideshow": {
     "slide_type": "slide"
    },
    "tags": []
   },
   "outputs": [
    {
     "data": {
      "text/html": [
       "<div>\n",
       "<style scoped>\n",
       "    .dataframe tbody tr th:only-of-type {\n",
       "        vertical-align: middle;\n",
       "    }\n",
       "\n",
       "    .dataframe tbody tr th {\n",
       "        vertical-align: top;\n",
       "    }\n",
       "\n",
       "    .dataframe thead th {\n",
       "        text-align: right;\n",
       "    }\n",
       "</style>\n",
       "<table border=\"1\" class=\"dataframe\">\n",
       "  <thead>\n",
       "    <tr style=\"text-align: right;\">\n",
       "      <th></th>\n",
       "      <th>ticker</th>\n",
       "      <th>date</th>\n",
       "      <th>prc</th>\n",
       "      <th>prc_next1</th>\n",
       "      <th>ret_next1</th>\n",
       "      <th>up_next1</th>\n",
       "      <th>prc_next7</th>\n",
       "      <th>ret_next7</th>\n",
       "      <th>up_next7</th>\n",
       "      <th>prc_next16</th>\n",
       "      <th>...</th>\n",
       "      <th>up_next30</th>\n",
       "      <th>prc_next37</th>\n",
       "      <th>ret_next37</th>\n",
       "      <th>up_next37</th>\n",
       "      <th>prc_next44</th>\n",
       "      <th>ret_next44</th>\n",
       "      <th>up_next44</th>\n",
       "      <th>prc_next60</th>\n",
       "      <th>ret_next60</th>\n",
       "      <th>up_next60</th>\n",
       "    </tr>\n",
       "  </thead>\n",
       "  <tbody>\n",
       "    <tr>\n",
       "      <th>0</th>\n",
       "      <td>A</td>\n",
       "      <td>2020-06-29</td>\n",
       "      <td>87.29</td>\n",
       "      <td>88.37</td>\n",
       "      <td>1.012373</td>\n",
       "      <td>1</td>\n",
       "      <td>89.31</td>\n",
       "      <td>1.023141</td>\n",
       "      <td>1</td>\n",
       "      <td>92.88</td>\n",
       "      <td>...</td>\n",
       "      <td>1</td>\n",
       "      <td>97.89</td>\n",
       "      <td>1.121434</td>\n",
       "      <td>1</td>\n",
       "      <td>97.63</td>\n",
       "      <td>1.118456</td>\n",
       "      <td>1</td>\n",
       "      <td>99.90</td>\n",
       "      <td>1.144461</td>\n",
       "      <td>1</td>\n",
       "    </tr>\n",
       "    <tr>\n",
       "      <th>1</th>\n",
       "      <td>A</td>\n",
       "      <td>2020-06-30</td>\n",
       "      <td>88.37</td>\n",
       "      <td>88.11</td>\n",
       "      <td>0.997058</td>\n",
       "      <td>0</td>\n",
       "      <td>89.21</td>\n",
       "      <td>1.009505</td>\n",
       "      <td>1</td>\n",
       "      <td>92.86</td>\n",
       "      <td>...</td>\n",
       "      <td>1</td>\n",
       "      <td>97.45</td>\n",
       "      <td>1.102750</td>\n",
       "      <td>1</td>\n",
       "      <td>98.77</td>\n",
       "      <td>1.117687</td>\n",
       "      <td>1</td>\n",
       "      <td>99.90</td>\n",
       "      <td>1.130474</td>\n",
       "      <td>1</td>\n",
       "    </tr>\n",
       "    <tr>\n",
       "      <th>2</th>\n",
       "      <td>A</td>\n",
       "      <td>2020-07-01</td>\n",
       "      <td>88.11</td>\n",
       "      <td>88.68</td>\n",
       "      <td>1.006469</td>\n",
       "      <td>1</td>\n",
       "      <td>89.54</td>\n",
       "      <td>1.016230</td>\n",
       "      <td>1</td>\n",
       "      <td>94.37</td>\n",
       "      <td>...</td>\n",
       "      <td>1</td>\n",
       "      <td>97.78</td>\n",
       "      <td>1.109749</td>\n",
       "      <td>1</td>\n",
       "      <td>97.37</td>\n",
       "      <td>1.105096</td>\n",
       "      <td>1</td>\n",
       "      <td>99.90</td>\n",
       "      <td>1.133810</td>\n",
       "      <td>1</td>\n",
       "    </tr>\n",
       "    <tr>\n",
       "      <th>3</th>\n",
       "      <td>A</td>\n",
       "      <td>2020-07-02</td>\n",
       "      <td>88.68</td>\n",
       "      <td>88.68</td>\n",
       "      <td>1.000000</td>\n",
       "      <td>0</td>\n",
       "      <td>89.92</td>\n",
       "      <td>1.013983</td>\n",
       "      <td>1</td>\n",
       "      <td>94.37</td>\n",
       "      <td>...</td>\n",
       "      <td>1</td>\n",
       "      <td>97.78</td>\n",
       "      <td>1.102616</td>\n",
       "      <td>1</td>\n",
       "      <td>97.37</td>\n",
       "      <td>1.097993</td>\n",
       "      <td>1</td>\n",
       "      <td>100.42</td>\n",
       "      <td>1.132386</td>\n",
       "      <td>1</td>\n",
       "    </tr>\n",
       "    <tr>\n",
       "      <th>4</th>\n",
       "      <td>A</td>\n",
       "      <td>2020-07-03</td>\n",
       "      <td>88.68</td>\n",
       "      <td>88.68</td>\n",
       "      <td>1.000000</td>\n",
       "      <td>0</td>\n",
       "      <td>89.42</td>\n",
       "      <td>1.008345</td>\n",
       "      <td>1</td>\n",
       "      <td>94.37</td>\n",
       "      <td>...</td>\n",
       "      <td>1</td>\n",
       "      <td>97.78</td>\n",
       "      <td>1.102616</td>\n",
       "      <td>1</td>\n",
       "      <td>97.37</td>\n",
       "      <td>1.097993</td>\n",
       "      <td>1</td>\n",
       "      <td>101.12</td>\n",
       "      <td>1.140280</td>\n",
       "      <td>1</td>\n",
       "    </tr>\n",
       "    <tr>\n",
       "      <th>5</th>\n",
       "      <td>A</td>\n",
       "      <td>2020-07-04</td>\n",
       "      <td>88.68</td>\n",
       "      <td>88.68</td>\n",
       "      <td>1.000000</td>\n",
       "      <td>0</td>\n",
       "      <td>89.42</td>\n",
       "      <td>1.008345</td>\n",
       "      <td>1</td>\n",
       "      <td>95.21</td>\n",
       "      <td>...</td>\n",
       "      <td>1</td>\n",
       "      <td>97.14</td>\n",
       "      <td>1.095399</td>\n",
       "      <td>1</td>\n",
       "      <td>97.51</td>\n",
       "      <td>1.099571</td>\n",
       "      <td>1</td>\n",
       "      <td>103.42</td>\n",
       "      <td>1.166216</td>\n",
       "      <td>1</td>\n",
       "    </tr>\n",
       "    <tr>\n",
       "      <th>6</th>\n",
       "      <td>A</td>\n",
       "      <td>2020-07-05</td>\n",
       "      <td>88.68</td>\n",
       "      <td>89.31</td>\n",
       "      <td>1.007104</td>\n",
       "      <td>1</td>\n",
       "      <td>89.42</td>\n",
       "      <td>1.008345</td>\n",
       "      <td>1</td>\n",
       "      <td>96.02</td>\n",
       "      <td>...</td>\n",
       "      <td>1</td>\n",
       "      <td>96.30</td>\n",
       "      <td>1.085927</td>\n",
       "      <td>1</td>\n",
       "      <td>97.86</td>\n",
       "      <td>1.103518</td>\n",
       "      <td>1</td>\n",
       "      <td>99.64</td>\n",
       "      <td>1.123590</td>\n",
       "      <td>1</td>\n",
       "    </tr>\n",
       "  </tbody>\n",
       "</table>\n",
       "<p>7 rows × 27 columns</p>\n",
       "</div>"
      ],
      "text/plain": [
       "  ticker       date    prc  prc_next1  ret_next1  up_next1  prc_next7  \\\n",
       "0      A 2020-06-29  87.29      88.37   1.012373         1      89.31   \n",
       "1      A 2020-06-30  88.37      88.11   0.997058         0      89.21   \n",
       "2      A 2020-07-01  88.11      88.68   1.006469         1      89.54   \n",
       "3      A 2020-07-02  88.68      88.68   1.000000         0      89.92   \n",
       "4      A 2020-07-03  88.68      88.68   1.000000         0      89.42   \n",
       "5      A 2020-07-04  88.68      88.68   1.000000         0      89.42   \n",
       "6      A 2020-07-05  88.68      89.31   1.007104         1      89.42   \n",
       "\n",
       "   ret_next7  up_next7  prc_next16  ...  up_next30  prc_next37  ret_next37  \\\n",
       "0   1.023141         1       92.88  ...          1       97.89    1.121434   \n",
       "1   1.009505         1       92.86  ...          1       97.45    1.102750   \n",
       "2   1.016230         1       94.37  ...          1       97.78    1.109749   \n",
       "3   1.013983         1       94.37  ...          1       97.78    1.102616   \n",
       "4   1.008345         1       94.37  ...          1       97.78    1.102616   \n",
       "5   1.008345         1       95.21  ...          1       97.14    1.095399   \n",
       "6   1.008345         1       96.02  ...          1       96.30    1.085927   \n",
       "\n",
       "   up_next37  prc_next44  ret_next44  up_next44  prc_next60  ret_next60  \\\n",
       "0          1       97.63    1.118456          1       99.90    1.144461   \n",
       "1          1       98.77    1.117687          1       99.90    1.130474   \n",
       "2          1       97.37    1.105096          1       99.90    1.133810   \n",
       "3          1       97.37    1.097993          1      100.42    1.132386   \n",
       "4          1       97.37    1.097993          1      101.12    1.140280   \n",
       "5          1       97.51    1.099571          1      103.42    1.166216   \n",
       "6          1       97.86    1.103518          1       99.64    1.123590   \n",
       "\n",
       "   up_next60  \n",
       "0          1  \n",
       "1          1  \n",
       "2          1  \n",
       "3          1  \n",
       "4          1  \n",
       "5          1  \n",
       "6          1  \n",
       "\n",
       "[7 rows x 27 columns]"
      ]
     },
     "execution_count": 25,
     "metadata": {},
     "output_type": "execute_result"
    }
   ],
   "source": [
    "df_price_roll[:7]"
   ]
  },
  {
   "cell_type": "markdown",
   "metadata": {
    "id": "89B65362338A4E7484C856AF5F8DD215",
    "jupyter": {},
    "notebookId": "66bd9a11f69c7398daacb180",
    "runtime": {
     "execution_status": null,
     "status": "default"
    },
    "scrolled": false,
    "slideshow": {
     "slide_type": "slide"
    },
    "tags": []
   },
   "source": [
    "## Sentiment"
   ]
  },
  {
   "cell_type": "code",
   "execution_count": 26,
   "metadata": {
    "collapsed": false,
    "id": "A8945B27D5414D958D54BD66FC8E9AFB",
    "jupyter": {
     "outputs_hidden": false
    },
    "notebookId": "66bd9a11f69c7398daacb180",
    "slideshow": {
     "slide_type": "slide"
    },
    "tags": []
   },
   "outputs": [
    {
     "name": "stderr",
     "output_type": "stream",
     "text": [
      "C:\\Users\\lenovo\\AppData\\Local\\Temp\\ipykernel_22904\\3066879913.py:3: DtypeWarning: Columns (2) have mixed types. Specify dtype option on import or set low_memory=False.\n",
      "  df_sentiment = pd.read_csv(fname, encoding = 'utf-8',index_col = 0)\n"
     ]
    }
   ],
   "source": [
    "folder = os.path.join(os.getcwd(), os.pardir, 'Output', 'FinBERT_Prediction', '20240218')\n",
    "fname = os.path.join(folder, 'df_finbert_prediction.csv')\n",
    "df_sentiment = pd.read_csv(fname, encoding = 'utf-8',index_col = 0)"
   ]
  },
  {
   "cell_type": "code",
   "execution_count": 27,
   "metadata": {
    "collapsed": false,
    "id": "08E3227176A343A7872BC6710DC3F1B8",
    "jupyter": {
     "outputs_hidden": false
    },
    "notebookId": "66bd9a11f69c7398daacb180",
    "slideshow": {
     "slide_type": "slide"
    },
    "tags": []
   },
   "outputs": [
    {
     "data": {
      "text/plain": [
       "(3826239, 5)"
      ]
     },
     "execution_count": 27,
     "metadata": {},
     "output_type": "execute_result"
    }
   ],
   "source": [
    "df_sentiment.shape"
   ]
  },
  {
   "cell_type": "code",
   "execution_count": 28,
   "metadata": {
    "collapsed": false,
    "id": "B2924E0C33B441E883E6AC2C528340D7",
    "jupyter": {
     "outputs_hidden": false
    },
    "notebookId": "66bd9a11f69c7398daacb180",
    "slideshow": {
     "slide_type": "slide"
    },
    "tags": []
   },
   "outputs": [],
   "source": [
    "df_sentiment.drop_duplicates(['id'], inplace = True)"
   ]
  },
  {
   "cell_type": "code",
   "execution_count": 29,
   "metadata": {
    "collapsed": false,
    "id": "42DBFB69102043C1B443B7005CC6A6CB",
    "jupyter": {
     "outputs_hidden": false
    },
    "notebookId": "66bd9a11f69c7398daacb180",
    "slideshow": {
     "slide_type": "slide"
    },
    "tags": []
   },
   "outputs": [
    {
     "data": {
      "text/plain": [
       "(3475706, 5)"
      ]
     },
     "execution_count": 29,
     "metadata": {},
     "output_type": "execute_result"
    }
   ],
   "source": [
    "df_sentiment.shape"
   ]
  },
  {
   "cell_type": "code",
   "execution_count": 30,
   "metadata": {
    "collapsed": false,
    "id": "79F9C9AC34AE4BD0B51C9264B4D508FD",
    "jupyter": {
     "outputs_hidden": false
    },
    "notebookId": "66bd9a11f69c7398daacb180",
    "slideshow": {
     "slide_type": "slide"
    },
    "tags": []
   },
   "outputs": [
    {
     "data": {
      "text/html": [
       "<div>\n",
       "<style scoped>\n",
       "    .dataframe tbody tr th:only-of-type {\n",
       "        vertical-align: middle;\n",
       "    }\n",
       "\n",
       "    .dataframe tbody tr th {\n",
       "        vertical-align: top;\n",
       "    }\n",
       "\n",
       "    .dataframe thead th {\n",
       "        text-align: right;\n",
       "    }\n",
       "</style>\n",
       "<table border=\"1\" class=\"dataframe\">\n",
       "  <thead>\n",
       "    <tr style=\"text-align: right;\">\n",
       "      <th></th>\n",
       "      <th>id</th>\n",
       "      <th>entities.sentiment.basic</th>\n",
       "      <th>train_val_test</th>\n",
       "      <th>label</th>\n",
       "      <th>pred_pos_prob</th>\n",
       "    </tr>\n",
       "  </thead>\n",
       "  <tbody>\n",
       "    <tr>\n",
       "      <th>3747772</th>\n",
       "      <td>275762064</td>\n",
       "      <td>Bullish</td>\n",
       "      <td>train</td>\n",
       "      <td>1</td>\n",
       "      <td>NaN</td>\n",
       "    </tr>\n",
       "    <tr>\n",
       "      <th>3451261</th>\n",
       "      <td>301267447</td>\n",
       "      <td>Bullish</td>\n",
       "      <td>train</td>\n",
       "      <td>1</td>\n",
       "      <td>NaN</td>\n",
       "    </tr>\n",
       "    <tr>\n",
       "      <th>3391184</th>\n",
       "      <td>280235550</td>\n",
       "      <td>Bullish</td>\n",
       "      <td>train</td>\n",
       "      <td>1</td>\n",
       "      <td>NaN</td>\n",
       "    </tr>\n",
       "    <tr>\n",
       "      <th>2738143</th>\n",
       "      <td>264405246</td>\n",
       "      <td>Bullish</td>\n",
       "      <td>train</td>\n",
       "      <td>1</td>\n",
       "      <td>NaN</td>\n",
       "    </tr>\n",
       "    <tr>\n",
       "      <th>2076108</th>\n",
       "      <td>274387557</td>\n",
       "      <td>Bullish</td>\n",
       "      <td>train</td>\n",
       "      <td>1</td>\n",
       "      <td>NaN</td>\n",
       "    </tr>\n",
       "  </tbody>\n",
       "</table>\n",
       "</div>"
      ],
      "text/plain": [
       "                id entities.sentiment.basic train_val_test  label  \\\n",
       "3747772  275762064                  Bullish          train      1   \n",
       "3451261  301267447                  Bullish          train      1   \n",
       "3391184  280235550                  Bullish          train      1   \n",
       "2738143  264405246                  Bullish          train      1   \n",
       "2076108  274387557                  Bullish          train      1   \n",
       "\n",
       "         pred_pos_prob  \n",
       "3747772            NaN  \n",
       "3451261            NaN  \n",
       "3391184            NaN  \n",
       "2738143            NaN  \n",
       "2076108            NaN  "
      ]
     },
     "execution_count": 30,
     "metadata": {},
     "output_type": "execute_result"
    }
   ],
   "source": [
    "df_sentiment.head()"
   ]
  },
  {
   "cell_type": "code",
   "execution_count": 31,
   "metadata": {
    "collapsed": false,
    "id": "DB39B21802064072BBD6A08B2026F51E",
    "jupyter": {
     "outputs_hidden": false
    },
    "notebookId": "66bd9a11f69c7398daacb180",
    "slideshow": {
     "slide_type": "slide"
    },
    "tags": []
   },
   "outputs": [
    {
     "data": {
      "text/plain": [
       "Index(['id', 'entities.sentiment.basic', 'train_val_test', 'label',\n",
       "       'pred_pos_prob'],\n",
       "      dtype='object')"
      ]
     },
     "execution_count": 31,
     "metadata": {},
     "output_type": "execute_result"
    }
   ],
   "source": [
    "df_sentiment.columns"
   ]
  },
  {
   "cell_type": "code",
   "execution_count": 32,
   "metadata": {
    "collapsed": false,
    "id": "D078E123F8094436967FA54C632FE8D4",
    "jupyter": {
     "outputs_hidden": false
    },
    "notebookId": "66bd9a11f69c7398daacb180",
    "slideshow": {
     "slide_type": "slide"
    },
    "tags": []
   },
   "outputs": [
    {
     "data": {
      "text/html": [
       "<div>\n",
       "<style scoped>\n",
       "    .dataframe tbody tr th:only-of-type {\n",
       "        vertical-align: middle;\n",
       "    }\n",
       "\n",
       "    .dataframe tbody tr th {\n",
       "        vertical-align: top;\n",
       "    }\n",
       "\n",
       "    .dataframe thead th {\n",
       "        text-align: right;\n",
       "    }\n",
       "</style>\n",
       "<table border=\"1\" class=\"dataframe\">\n",
       "  <thead>\n",
       "    <tr style=\"text-align: right;\">\n",
       "      <th></th>\n",
       "      <th>id</th>\n",
       "      <th>entities.sentiment.basic</th>\n",
       "      <th>train_val_test</th>\n",
       "      <th>label</th>\n",
       "      <th>pred_pos_prob</th>\n",
       "    </tr>\n",
       "  </thead>\n",
       "  <tbody>\n",
       "    <tr>\n",
       "      <th>0</th>\n",
       "      <td>247422369</td>\n",
       "      <td>NaN</td>\n",
       "      <td>test</td>\n",
       "      <td>1</td>\n",
       "      <td>0.998312</td>\n",
       "    </tr>\n",
       "    <tr>\n",
       "      <th>1</th>\n",
       "      <td>247423447</td>\n",
       "      <td>NaN</td>\n",
       "      <td>test</td>\n",
       "      <td>0</td>\n",
       "      <td>0.439025</td>\n",
       "    </tr>\n",
       "    <tr>\n",
       "      <th>2</th>\n",
       "      <td>247430338</td>\n",
       "      <td>NaN</td>\n",
       "      <td>test</td>\n",
       "      <td>1</td>\n",
       "      <td>0.998100</td>\n",
       "    </tr>\n",
       "    <tr>\n",
       "      <th>3</th>\n",
       "      <td>247431381</td>\n",
       "      <td>NaN</td>\n",
       "      <td>test</td>\n",
       "      <td>1</td>\n",
       "      <td>0.992323</td>\n",
       "    </tr>\n",
       "    <tr>\n",
       "      <th>4</th>\n",
       "      <td>247436393</td>\n",
       "      <td>NaN</td>\n",
       "      <td>test</td>\n",
       "      <td>1</td>\n",
       "      <td>0.973795</td>\n",
       "    </tr>\n",
       "  </tbody>\n",
       "</table>\n",
       "</div>"
      ],
      "text/plain": [
       "          id entities.sentiment.basic train_val_test  label  pred_pos_prob\n",
       "0  247422369                      NaN           test      1       0.998312\n",
       "1  247423447                      NaN           test      0       0.439025\n",
       "2  247430338                      NaN           test      1       0.998100\n",
       "3  247431381                      NaN           test      1       0.992323\n",
       "4  247436393                      NaN           test      1       0.973795"
      ]
     },
     "execution_count": 32,
     "metadata": {},
     "output_type": "execute_result"
    }
   ],
   "source": [
    "df_sentiment[df_sentiment['train_val_test'] == 'test'].head()"
   ]
  },
  {
   "cell_type": "markdown",
   "metadata": {
    "id": "0BF502A8D87640EE80B1AFDEF078739A",
    "jupyter": {},
    "notebookId": "66bd9a11f69c7398daacb180",
    "runtime": {
     "execution_status": null,
     "status": "default"
    },
    "scrolled": false,
    "slideshow": {
     "slide_type": "slide"
    },
    "tags": []
   },
   "source": [
    "## StockTwits Data"
   ]
  },
  {
   "cell_type": "code",
   "execution_count": 33,
   "metadata": {
    "collapsed": false,
    "id": "99DEA61E55FA4A1AA47B24B39E5CC266",
    "jupyter": {
     "outputs_hidden": false
    },
    "notebookId": "66bd9a11f69c7398daacb180",
    "slideshow": {
     "slide_type": "slide"
    },
    "tags": []
   },
   "outputs": [],
   "source": [
    "folder = os.path.abspath(os.path.join(\n",
    "    os.getcwd(),\n",
    "    os.pardir,\n",
    "    'Data',\n",
    "    'stocktwits', \n",
    "    'SP500_Merged',\n",
    "    '20230311'\n",
    "))                   "
   ]
  },
  {
   "cell_type": "code",
   "execution_count": 34,
   "metadata": {
    "collapsed": false,
    "id": "CADC7B9F8A0344E68C64768146FA60A7",
    "jupyter": {
     "outputs_hidden": false
    },
    "notebookId": "66bd9a11f69c7398daacb180",
    "slideshow": {
     "slide_type": "slide"
    },
    "tags": []
   },
   "outputs": [
    {
     "data": {
      "text/plain": [
       "'e:\\\\GME Short Squeeze Study\\\\Data\\\\stocktwits\\\\SP500_Merged\\\\20230311'"
      ]
     },
     "execution_count": 34,
     "metadata": {},
     "output_type": "execute_result"
    }
   ],
   "source": [
    "folder"
   ]
  },
  {
   "cell_type": "code",
   "execution_count": 35,
   "metadata": {
    "collapsed": false,
    "id": "2D652426A2D6498FBF8792D7BF430184",
    "jupyter": {
     "outputs_hidden": false
    },
    "notebookId": "66bd9a11f69c7398daacb180",
    "slideshow": {
     "slide_type": "slide"
    },
    "tags": []
   },
   "outputs": [],
   "source": [
    "files = glob.glob(os.path.join(folder , '*.csv'))"
   ]
  },
  {
   "cell_type": "code",
   "execution_count": 36,
   "metadata": {
    "collapsed": false,
    "id": "749D14A555FC44E8970E40259270AE79",
    "jupyter": {
     "outputs_hidden": false
    },
    "notebookId": "66bd9a11f69c7398daacb180",
    "slideshow": {
     "slide_type": "slide"
    },
    "tags": []
   },
   "outputs": [
    {
     "data": {
      "text/plain": [
       "367"
      ]
     },
     "execution_count": 36,
     "metadata": {},
     "output_type": "execute_result"
    }
   ],
   "source": [
    "len(files)"
   ]
  },
  {
   "cell_type": "code",
   "execution_count": 37,
   "metadata": {
    "collapsed": false,
    "id": "39320688E19D4982AA8D9D17261A03FE",
    "jupyter": {
     "outputs_hidden": false
    },
    "notebookId": "66bd9a11f69c7398daacb180",
    "slideshow": {
     "slide_type": "slide"
    },
    "tags": []
   },
   "outputs": [],
   "source": [
    "def get_ticker(x):\n",
    "    if type(x) is str:\n",
    "        res = eval(x)['symbol']\n",
    "    else:\n",
    "        res = ''\n",
    "    return res"
   ]
  },
  {
   "cell_type": "code",
   "execution_count": 38,
   "metadata": {
    "collapsed": false,
    "id": "CDF121C88E3644918FB10E924735AD38",
    "jupyter": {
     "outputs_hidden": false
    },
    "notebookId": "66bd9a11f69c7398daacb180",
    "scrolled": true,
    "slideshow": {
     "slide_type": "slide"
    },
    "tags": []
   },
   "outputs": [
    {
     "name": "stderr",
     "output_type": "stream",
     "text": [
      "  0%|          | 1/367 [00:00<01:41,  3.62it/s]C:\\Users\\lenovo\\AppData\\Local\\Temp\\ipykernel_22904\\338082097.py:4: DtypeWarning: Columns (45,47,48,49) have mixed types. Specify dtype option on import or set low_memory=False.\n",
      "  tmp = pd.read_csv(f, encoding = 'utf-8', index_col = 0)\n",
      "  1%|          | 3/367 [00:07<15:51,  2.61s/it]C:\\Users\\lenovo\\AppData\\Local\\Temp\\ipykernel_22904\\338082097.py:4: DtypeWarning: Columns (45,47,48,49,50) have mixed types. Specify dtype option on import or set low_memory=False.\n",
      "  tmp = pd.read_csv(f, encoding = 'utf-8', index_col = 0)\n",
      "  6%|▌         | 22/367 [00:59<05:14,  1.10it/s] C:\\Users\\lenovo\\AppData\\Local\\Temp\\ipykernel_22904\\338082097.py:4: DtypeWarning: Columns (45,47,48,49,51,53,54,56,57,58,59,60,61,62) have mixed types. Specify dtype option on import or set low_memory=False.\n",
      "  tmp = pd.read_csv(f, encoding = 'utf-8', index_col = 0)\n",
      "  7%|▋         | 27/367 [01:23<13:03,  2.31s/it]C:\\Users\\lenovo\\AppData\\Local\\Temp\\ipykernel_22904\\338082097.py:4: DtypeWarning: Columns (45,47,48,49,50) have mixed types. Specify dtype option on import or set low_memory=False.\n",
      "  tmp = pd.read_csv(f, encoding = 'utf-8', index_col = 0)\n",
      " 10%|█         | 38/367 [01:58<07:22,  1.34s/it]C:\\Users\\lenovo\\AppData\\Local\\Temp\\ipykernel_22904\\338082097.py:4: DtypeWarning: Columns (46,47,48,49) have mixed types. Specify dtype option on import or set low_memory=False.\n",
      "  tmp = pd.read_csv(f, encoding = 'utf-8', index_col = 0)\n",
      " 11%|█         | 39/367 [02:10<24:34,  4.49s/it]C:\\Users\\lenovo\\AppData\\Local\\Temp\\ipykernel_22904\\338082097.py:4: DtypeWarning: Columns (46,47,48,49,50) have mixed types. Specify dtype option on import or set low_memory=False.\n",
      "  tmp = pd.read_csv(f, encoding = 'utf-8', index_col = 0)\n",
      " 11%|█         | 40/367 [02:31<52:02,  9.55s/it]C:\\Users\\lenovo\\AppData\\Local\\Temp\\ipykernel_22904\\338082097.py:4: DtypeWarning: Columns (44,47,48,49) have mixed types. Specify dtype option on import or set low_memory=False.\n",
      "  tmp = pd.read_csv(f, encoding = 'utf-8', index_col = 0)\n",
      " 15%|█▍        | 54/367 [02:53<07:21,  1.41s/it]C:\\Users\\lenovo\\AppData\\Local\\Temp\\ipykernel_22904\\338082097.py:4: DtypeWarning: Columns (45,47,48,49) have mixed types. Specify dtype option on import or set low_memory=False.\n",
      "  tmp = pd.read_csv(f, encoding = 'utf-8', index_col = 0)\n",
      " 18%|█▊        | 66/367 [03:13<07:32,  1.50s/it]C:\\Users\\lenovo\\AppData\\Local\\Temp\\ipykernel_22904\\338082097.py:4: DtypeWarning: Columns (45,47,48,49,50) have mixed types. Specify dtype option on import or set low_memory=False.\n",
      "  tmp = pd.read_csv(f, encoding = 'utf-8', index_col = 0)\n",
      " 20%|█▉        | 72/367 [03:23<07:00,  1.42s/it]C:\\Users\\lenovo\\AppData\\Local\\Temp\\ipykernel_22904\\338082097.py:4: DtypeWarning: Columns (45,47,48,49) have mixed types. Specify dtype option on import or set low_memory=False.\n",
      "  tmp = pd.read_csv(f, encoding = 'utf-8', index_col = 0)\n",
      " 29%|██▊       | 105/367 [04:21<08:27,  1.94s/it]C:\\Users\\lenovo\\AppData\\Local\\Temp\\ipykernel_22904\\338082097.py:4: DtypeWarning: Columns (45,47,48,49) have mixed types. Specify dtype option on import or set low_memory=False.\n",
      "  tmp = pd.read_csv(f, encoding = 'utf-8', index_col = 0)\n",
      " 36%|███▌      | 133/367 [05:12<06:33,  1.68s/it]C:\\Users\\lenovo\\AppData\\Local\\Temp\\ipykernel_22904\\338082097.py:4: DtypeWarning: Columns (45,47,48,49) have mixed types. Specify dtype option on import or set low_memory=False.\n",
      "  tmp = pd.read_csv(f, encoding = 'utf-8', index_col = 0)\n",
      " 41%|████      | 151/367 [05:51<05:50,  1.62s/it]C:\\Users\\lenovo\\AppData\\Local\\Temp\\ipykernel_22904\\338082097.py:4: DtypeWarning: Columns (45,50) have mixed types. Specify dtype option on import or set low_memory=False.\n",
      "  tmp = pd.read_csv(f, encoding = 'utf-8', index_col = 0)\n",
      " 41%|████▏     | 152/367 [05:56<09:32,  2.66s/it]C:\\Users\\lenovo\\AppData\\Local\\Temp\\ipykernel_22904\\338082097.py:4: DtypeWarning: Columns (44,47,48,49,50) have mixed types. Specify dtype option on import or set low_memory=False.\n",
      "  tmp = pd.read_csv(f, encoding = 'utf-8', index_col = 0)\n",
      " 49%|████▊     | 178/367 [06:46<05:21,  1.70s/it]C:\\Users\\lenovo\\AppData\\Local\\Temp\\ipykernel_22904\\338082097.py:4: DtypeWarning: Columns (46,47,48,49,51) have mixed types. Specify dtype option on import or set low_memory=False.\n",
      "  tmp = pd.read_csv(f, encoding = 'utf-8', index_col = 0)\n",
      " 50%|█████     | 185/367 [07:01<05:31,  1.82s/it]C:\\Users\\lenovo\\AppData\\Local\\Temp\\ipykernel_22904\\338082097.py:4: DtypeWarning: Columns (45,47,48,49) have mixed types. Specify dtype option on import or set low_memory=False.\n",
      "  tmp = pd.read_csv(f, encoding = 'utf-8', index_col = 0)\n",
      " 51%|█████     | 186/367 [07:08<10:09,  3.37s/it]C:\\Users\\lenovo\\AppData\\Local\\Temp\\ipykernel_22904\\338082097.py:4: DtypeWarning: Columns (45) have mixed types. Specify dtype option on import or set low_memory=False.\n",
      "  tmp = pd.read_csv(f, encoding = 'utf-8', index_col = 0)\n",
      " 51%|█████     | 187/367 [07:13<10:53,  3.63s/it]C:\\Users\\lenovo\\AppData\\Local\\Temp\\ipykernel_22904\\338082097.py:4: DtypeWarning: Columns (45,47,48,49,50) have mixed types. Specify dtype option on import or set low_memory=False.\n",
      "  tmp = pd.read_csv(f, encoding = 'utf-8', index_col = 0)\n",
      " 62%|██████▏   | 229/367 [08:41<05:13,  2.27s/it]C:\\Users\\lenovo\\AppData\\Local\\Temp\\ipykernel_22904\\338082097.py:4: DtypeWarning: Columns (43,47,48,49,50) have mixed types. Specify dtype option on import or set low_memory=False.\n",
      "  tmp = pd.read_csv(f, encoding = 'utf-8', index_col = 0)\n",
      " 63%|██████▎   | 233/367 [08:57<06:23,  2.86s/it]C:\\Users\\lenovo\\AppData\\Local\\Temp\\ipykernel_22904\\338082097.py:4: DtypeWarning: Columns (45) have mixed types. Specify dtype option on import or set low_memory=False.\n",
      "  tmp = pd.read_csv(f, encoding = 'utf-8', index_col = 0)\n",
      " 65%|██████▍   | 237/367 [09:09<05:34,  2.58s/it]C:\\Users\\lenovo\\AppData\\Local\\Temp\\ipykernel_22904\\338082097.py:4: DtypeWarning: Columns (45,47,48,49,50) have mixed types. Specify dtype option on import or set low_memory=False.\n",
      "  tmp = pd.read_csv(f, encoding = 'utf-8', index_col = 0)\n",
      " 65%|██████▌   | 240/367 [09:20<06:28,  3.06s/it]C:\\Users\\lenovo\\AppData\\Local\\Temp\\ipykernel_22904\\338082097.py:4: DtypeWarning: Columns (46,47,48,49) have mixed types. Specify dtype option on import or set low_memory=False.\n",
      "  tmp = pd.read_csv(f, encoding = 'utf-8', index_col = 0)\n",
      " 72%|███████▏  | 263/367 [10:27<04:06,  2.37s/it]C:\\Users\\lenovo\\AppData\\Local\\Temp\\ipykernel_22904\\338082097.py:4: DtypeWarning: Columns (45,47,48,49,50) have mixed types. Specify dtype option on import or set low_memory=False.\n",
      "  tmp = pd.read_csv(f, encoding = 'utf-8', index_col = 0)\n",
      " 83%|████████▎ | 303/367 [12:15<02:51,  2.68s/it]C:\\Users\\lenovo\\AppData\\Local\\Temp\\ipykernel_22904\\338082097.py:4: DtypeWarning: Columns (45,47,48,49) have mixed types. Specify dtype option on import or set low_memory=False.\n",
      "  tmp = pd.read_csv(f, encoding = 'utf-8', index_col = 0)\n",
      " 85%|████████▌ | 313/367 [12:45<02:24,  2.67s/it]C:\\Users\\lenovo\\AppData\\Local\\Temp\\ipykernel_22904\\338082097.py:4: DtypeWarning: Columns (42,47,48,49) have mixed types. Specify dtype option on import or set low_memory=False.\n",
      "  tmp = pd.read_csv(f, encoding = 'utf-8', index_col = 0)\n",
      " 90%|█████████ | 331/367 [13:38<01:34,  2.63s/it]C:\\Users\\lenovo\\AppData\\Local\\Temp\\ipykernel_22904\\338082097.py:4: DtypeWarning: Columns (45,47,48,49,50) have mixed types. Specify dtype option on import or set low_memory=False.\n",
      "  tmp = pd.read_csv(f, encoding = 'utf-8', index_col = 0)\n",
      " 90%|█████████ | 332/367 [13:49<02:54,  4.98s/it]C:\\Users\\lenovo\\AppData\\Local\\Temp\\ipykernel_22904\\338082097.py:4: DtypeWarning: Columns (45) have mixed types. Specify dtype option on import or set low_memory=False.\n",
      "  tmp = pd.read_csv(f, encoding = 'utf-8', index_col = 0)\n",
      " 92%|█████████▏| 338/367 [14:07<01:29,  3.10s/it]C:\\Users\\lenovo\\AppData\\Local\\Temp\\ipykernel_22904\\338082097.py:4: DtypeWarning: Columns (47,48,49) have mixed types. Specify dtype option on import or set low_memory=False.\n",
      "  tmp = pd.read_csv(f, encoding = 'utf-8', index_col = 0)\n",
      " 96%|█████████▌| 353/367 [14:48<00:37,  2.71s/it]C:\\Users\\lenovo\\AppData\\Local\\Temp\\ipykernel_22904\\338082097.py:4: DtypeWarning: Columns (46,47,48,49) have mixed types. Specify dtype option on import or set low_memory=False.\n",
      "  tmp = pd.read_csv(f, encoding = 'utf-8', index_col = 0)\n",
      " 97%|█████████▋| 357/367 [15:01<00:28,  2.83s/it]C:\\Users\\lenovo\\AppData\\Local\\Temp\\ipykernel_22904\\338082097.py:4: DtypeWarning: Columns (45,47,48,49) have mixed types. Specify dtype option on import or set low_memory=False.\n",
      "  tmp = pd.read_csv(f, encoding = 'utf-8', index_col = 0)\n",
      " 99%|█████████▉| 363/367 [15:21<00:12,  3.09s/it]C:\\Users\\lenovo\\AppData\\Local\\Temp\\ipykernel_22904\\338082097.py:4: DtypeWarning: Columns (45,47,48,49) have mixed types. Specify dtype option on import or set low_memory=False.\n",
      "  tmp = pd.read_csv(f, encoding = 'utf-8', index_col = 0)\n",
      "100%|██████████| 367/367 [15:36<00:00,  2.55s/it]\n"
     ]
    }
   ],
   "source": [
    "df_msg = pd.DataFrame()\n",
    "# for f in tqdm(files[:10]):\n",
    "for f in tqdm(files):\n",
    "    tmp = pd.read_csv(f, encoding = 'utf-8', index_col = 0)\n",
    "    tmp['ticker_f'] = f.split(os.sep)[-1].replace('.csv', '')\n",
    "    cols = tmp.columns[tmp.columns.str.startswith('symbol')]\n",
    "    for c in cols:\n",
    "        tmp[c.replace('symbol', 'ticker')] = tmp[c].apply(lambda x: get_ticker(x))\n",
    "    ####\n",
    "    df_msg = pd.concat([df_msg, tmp], ignore_index = True)\n",
    "####\n",
    "df_msg.drop_duplicates(['id', 'ticker_f'], inplace = True)"
   ]
  },
  {
   "cell_type": "code",
   "execution_count": 39,
   "metadata": {
    "collapsed": false,
    "id": "49F7048AD73C42899AD6C8EB29E4A5F2",
    "jupyter": {
     "outputs_hidden": false
    },
    "notebookId": "66bd9a11f69c7398daacb180",
    "slideshow": {
     "slide_type": "slide"
    },
    "tags": []
   },
   "outputs": [
    {
     "data": {
      "text/plain": [
       "(3744701, 74)"
      ]
     },
     "execution_count": 39,
     "metadata": {},
     "output_type": "execute_result"
    }
   ],
   "source": [
    "df_msg.shape"
   ]
  },
  {
   "cell_type": "code",
   "execution_count": 40,
   "metadata": {
    "collapsed": false,
    "id": "D16F3DD613164C289882392E0AA6F4A2",
    "jupyter": {
     "outputs_hidden": false
    },
    "notebookId": "66bd9a11f69c7398daacb180",
    "slideshow": {
     "slide_type": "slide"
    },
    "tags": []
   },
   "outputs": [
    {
     "data": {
      "text/html": [
       "<div>\n",
       "<style scoped>\n",
       "    .dataframe tbody tr th:only-of-type {\n",
       "        vertical-align: middle;\n",
       "    }\n",
       "\n",
       "    .dataframe tbody tr th {\n",
       "        vertical-align: top;\n",
       "    }\n",
       "\n",
       "    .dataframe thead th {\n",
       "        text-align: right;\n",
       "    }\n",
       "</style>\n",
       "<table border=\"1\" class=\"dataframe\">\n",
       "  <thead>\n",
       "    <tr style=\"text-align: right;\">\n",
       "      <th></th>\n",
       "      <th>0</th>\n",
       "      <th>1</th>\n",
       "      <th>2</th>\n",
       "      <th>3</th>\n",
       "      <th>4</th>\n",
       "    </tr>\n",
       "  </thead>\n",
       "  <tbody>\n",
       "    <tr>\n",
       "      <th>id</th>\n",
       "      <td>247533715</td>\n",
       "      <td>247626645</td>\n",
       "      <td>247626778</td>\n",
       "      <td>247627289</td>\n",
       "      <td>247701534</td>\n",
       "    </tr>\n",
       "    <tr>\n",
       "      <th>body</th>\n",
       "      <td>Latest US Markets Earnings Preannouncements: $...</td>\n",
       "      <td>$A Form S-8 (securities to be offered to emplo...</td>\n",
       "      <td>$A [15s. delayed] filed form S-8 on October 01...</td>\n",
       "      <td>Securities to be offered to employees in emplo...</td>\n",
       "      <td>$A 1 Plate with fried Rice, orange chicken and...</td>\n",
       "    </tr>\n",
       "    <tr>\n",
       "      <th>created_at</th>\n",
       "      <td>2020-10-01T15:21:23Z</td>\n",
       "      <td>2020-10-01T20:06:35Z</td>\n",
       "      <td>2020-10-01T20:06:55Z</td>\n",
       "      <td>2020-10-01T20:08:12Z</td>\n",
       "      <td>2020-10-02T03:05:01Z</td>\n",
       "    </tr>\n",
       "    <tr>\n",
       "      <th>links</th>\n",
       "      <td>NaN</td>\n",
       "      <td>[{'title': 'S-8 Form - Securities to be offere...</td>\n",
       "      <td>[{'title': 'Flash Alert', 'url': 'https://s.fl...</td>\n",
       "      <td>[{'title': 'Conference Call Transcripts', 'url...</td>\n",
       "      <td>NaN</td>\n",
       "    </tr>\n",
       "    <tr>\n",
       "      <th>mentioned_users</th>\n",
       "      <td>[]</td>\n",
       "      <td>[]</td>\n",
       "      <td>[]</td>\n",
       "      <td>[]</td>\n",
       "      <td>[]</td>\n",
       "    </tr>\n",
       "    <tr>\n",
       "      <th>...</th>\n",
       "      <td>...</td>\n",
       "      <td>...</td>\n",
       "      <td>...</td>\n",
       "      <td>...</td>\n",
       "      <td>...</td>\n",
       "    </tr>\n",
       "    <tr>\n",
       "      <th>structurable.trigger</th>\n",
       "      <td>NaN</td>\n",
       "      <td>NaN</td>\n",
       "      <td>NaN</td>\n",
       "      <td>NaN</td>\n",
       "      <td>NaN</td>\n",
       "    </tr>\n",
       "    <tr>\n",
       "      <th>structurable.brokerage_order_type</th>\n",
       "      <td>NaN</td>\n",
       "      <td>NaN</td>\n",
       "      <td>NaN</td>\n",
       "      <td>NaN</td>\n",
       "      <td>NaN</td>\n",
       "    </tr>\n",
       "    <tr>\n",
       "      <th>structurable.created_at</th>\n",
       "      <td>NaN</td>\n",
       "      <td>NaN</td>\n",
       "      <td>NaN</td>\n",
       "      <td>NaN</td>\n",
       "      <td>NaN</td>\n",
       "    </tr>\n",
       "    <tr>\n",
       "      <th>structurable.share_copy</th>\n",
       "      <td>NaN</td>\n",
       "      <td>NaN</td>\n",
       "      <td>NaN</td>\n",
       "      <td>NaN</td>\n",
       "      <td>NaN</td>\n",
       "    </tr>\n",
       "    <tr>\n",
       "      <th>structurable.type</th>\n",
       "      <td>NaN</td>\n",
       "      <td>NaN</td>\n",
       "      <td>NaN</td>\n",
       "      <td>NaN</td>\n",
       "      <td>NaN</td>\n",
       "    </tr>\n",
       "  </tbody>\n",
       "</table>\n",
       "<p>74 rows × 5 columns</p>\n",
       "</div>"
      ],
      "text/plain": [
       "                                                                                   0  \\\n",
       "id                                                                         247533715   \n",
       "body                               Latest US Markets Earnings Preannouncements: $...   \n",
       "created_at                                                      2020-10-01T15:21:23Z   \n",
       "links                                                                            NaN   \n",
       "mentioned_users                                                                   []   \n",
       "...                                                                              ...   \n",
       "structurable.trigger                                                             NaN   \n",
       "structurable.brokerage_order_type                                                NaN   \n",
       "structurable.created_at                                                          NaN   \n",
       "structurable.share_copy                                                          NaN   \n",
       "structurable.type                                                                NaN   \n",
       "\n",
       "                                                                                   1  \\\n",
       "id                                                                         247626645   \n",
       "body                               $A Form S-8 (securities to be offered to emplo...   \n",
       "created_at                                                      2020-10-01T20:06:35Z   \n",
       "links                              [{'title': 'S-8 Form - Securities to be offere...   \n",
       "mentioned_users                                                                   []   \n",
       "...                                                                              ...   \n",
       "structurable.trigger                                                             NaN   \n",
       "structurable.brokerage_order_type                                                NaN   \n",
       "structurable.created_at                                                          NaN   \n",
       "structurable.share_copy                                                          NaN   \n",
       "structurable.type                                                                NaN   \n",
       "\n",
       "                                                                                   2  \\\n",
       "id                                                                         247626778   \n",
       "body                               $A [15s. delayed] filed form S-8 on October 01...   \n",
       "created_at                                                      2020-10-01T20:06:55Z   \n",
       "links                              [{'title': 'Flash Alert', 'url': 'https://s.fl...   \n",
       "mentioned_users                                                                   []   \n",
       "...                                                                              ...   \n",
       "structurable.trigger                                                             NaN   \n",
       "structurable.brokerage_order_type                                                NaN   \n",
       "structurable.created_at                                                          NaN   \n",
       "structurable.share_copy                                                          NaN   \n",
       "structurable.type                                                                NaN   \n",
       "\n",
       "                                                                                   3  \\\n",
       "id                                                                         247627289   \n",
       "body                               Securities to be offered to employees in emplo...   \n",
       "created_at                                                      2020-10-01T20:08:12Z   \n",
       "links                              [{'title': 'Conference Call Transcripts', 'url...   \n",
       "mentioned_users                                                                   []   \n",
       "...                                                                              ...   \n",
       "structurable.trigger                                                             NaN   \n",
       "structurable.brokerage_order_type                                                NaN   \n",
       "structurable.created_at                                                          NaN   \n",
       "structurable.share_copy                                                          NaN   \n",
       "structurable.type                                                                NaN   \n",
       "\n",
       "                                                                                   4  \n",
       "id                                                                         247701534  \n",
       "body                               $A 1 Plate with fried Rice, orange chicken and...  \n",
       "created_at                                                      2020-10-02T03:05:01Z  \n",
       "links                                                                            NaN  \n",
       "mentioned_users                                                                   []  \n",
       "...                                                                              ...  \n",
       "structurable.trigger                                                             NaN  \n",
       "structurable.brokerage_order_type                                                NaN  \n",
       "structurable.created_at                                                          NaN  \n",
       "structurable.share_copy                                                          NaN  \n",
       "structurable.type                                                                NaN  \n",
       "\n",
       "[74 rows x 5 columns]"
      ]
     },
     "execution_count": 40,
     "metadata": {},
     "output_type": "execute_result"
    }
   ],
   "source": [
    "df_msg.head().T"
   ]
  },
  {
   "cell_type": "code",
   "execution_count": 41,
   "metadata": {
    "collapsed": false,
    "id": "3CB8B08924D44828AF3F17F0C6887A8D",
    "jupyter": {
     "outputs_hidden": false
    },
    "notebookId": "66bd9a11f69c7398daacb180",
    "slideshow": {
     "slide_type": "slide"
    },
    "tags": []
   },
   "outputs": [
    {
     "data": {
      "text/plain": [
       "Index(['id', 'body', 'created_at', 'links', 'mentioned_users', 'user.id',\n",
       "       'user.username', 'user.name', 'user.avatar_url', 'user.avatar_url_ssl',\n",
       "       'user.join_date', 'user.official', 'user.identity',\n",
       "       'user.classification', 'user.followers', 'user.following', 'user.ideas',\n",
       "       'user.watchlist_stocks_count', 'user.like_count', 'user.plus_tier',\n",
       "       'user.premium_room', 'user.trade_app', 'user.portfolio_waitlist',\n",
       "       'user.portfolio_status', 'source.id', 'source.title', 'source.url',\n",
       "       'entities.sentiment', 'entities.sentiment.basic', 'likes.total',\n",
       "       'likes.user_ids', 'entities.chart.thumb', 'entities.chart.large',\n",
       "       'entities.chart.original', 'entities.chart.url',\n",
       "       'conversation.parent_message_id', 'conversation.in_reply_to_message_id',\n",
       "       'conversation.parent', 'conversation.replies', 'user.portfolio',\n",
       "       'reshares.reshared_count', 'reshares.user_ids', 'entities.giphy.id',\n",
       "       'entities.giphy.ratio', 'symbol0', 'symbol1', 'symbol2', 'symbol3',\n",
       "       'symbol4', 'ticker_f', 'ticker0', 'ticker1', 'ticker2', 'ticker3',\n",
       "       'ticker4', 'owned_symbols', 'reshare_message.reshared_count',\n",
       "       'reshare_message.reshared_deleted',\n",
       "       'reshare_message.reshared_user_deleted',\n",
       "       'reshare_message.parent_reshared_deleted',\n",
       "       'reshare_message.parent_reshared_url',\n",
       "       'reshare_message.parent_reshared_message_id', 'structurable.id',\n",
       "       'structurable.symbol', 'structurable.shares_quantity',\n",
       "       'structurable.state', 'structurable.order_type', 'structurable.price',\n",
       "       'structurable.side', 'structurable.trigger',\n",
       "       'structurable.brokerage_order_type', 'structurable.created_at',\n",
       "       'structurable.share_copy', 'structurable.type'],\n",
       "      dtype='object')"
      ]
     },
     "execution_count": 41,
     "metadata": {},
     "output_type": "execute_result"
    }
   ],
   "source": [
    "df_msg.columns"
   ]
  },
  {
   "cell_type": "markdown",
   "metadata": {
    "id": "4C414FE68D4C41C4813A72764D3E41C8",
    "jupyter": {},
    "notebookId": "66bd9a11f69c7398daacb180",
    "runtime": {
     "execution_status": null,
     "status": "default"
    },
    "scrolled": false,
    "slideshow": {
     "slide_type": "slide"
    },
    "tags": []
   },
   "source": [
    "### `mentioned_users`"
   ]
  },
  {
   "cell_type": "code",
   "execution_count": 42,
   "metadata": {
    "collapsed": false,
    "id": "EED5B45259B7476582FB9B05EBF6EAE9",
    "jupyter": {
     "outputs_hidden": false
    },
    "notebookId": "66bd9a11f69c7398daacb180",
    "slideshow": {
     "slide_type": "slide"
    },
    "tags": []
   },
   "outputs": [
    {
     "data": {
      "text/plain": [
       "10         ['@shortvolumes']\n",
       "81         ['@shortvolumes']\n",
       "205        ['@shortvolumes']\n",
       "339           ['@eWhispers']\n",
       "364           ['@eWhispers']\n",
       "                 ...        \n",
       "3825959    ['@shortvolumes']\n",
       "3826043    ['@shortvolumes']\n",
       "3826059    ['@shortvolumes']\n",
       "3826062    ['@shortvolumes']\n",
       "3826075    ['@shortvolumes']\n",
       "Name: mentioned_users, Length: 40035, dtype: object"
      ]
     },
     "execution_count": 42,
     "metadata": {},
     "output_type": "execute_result"
    }
   ],
   "source": [
    "df_msg[df_msg['mentioned_users'].str.len()>2]['mentioned_users']"
   ]
  },
  {
   "cell_type": "markdown",
   "metadata": {
    "id": "7D2F2CE3D35141EBA04021C1029DD357",
    "jupyter": {},
    "notebookId": "66bd9a11f69c7398daacb180",
    "runtime": {
     "execution_status": null,
     "status": "default"
    },
    "scrolled": false,
    "slideshow": {
     "slide_type": "slide"
    },
    "tags": []
   },
   "source": [
    "### `user.id`"
   ]
  },
  {
   "cell_type": "code",
   "execution_count": 43,
   "metadata": {
    "collapsed": false,
    "id": "70641ED6402646B0A5962BD90BD6D99F",
    "jupyter": {
     "outputs_hidden": false
    },
    "notebookId": "66bd9a11f69c7398daacb180",
    "slideshow": {
     "slide_type": "slide"
    },
    "tags": []
   },
   "outputs": [
    {
     "data": {
      "text/plain": [
       "user.id\n",
       "2762379    124453\n",
       "1555408     63127\n",
       "3434084     61916\n",
       "47688       52259\n",
       "4280914     49344\n",
       "            ...  \n",
       "1111990         1\n",
       "4156106         1\n",
       "764376          1\n",
       "2255028         1\n",
       "3290505         1\n",
       "Name: count, Length: 133206, dtype: int64"
      ]
     },
     "execution_count": 43,
     "metadata": {},
     "output_type": "execute_result"
    }
   ],
   "source": [
    "df_msg['user.id'].value_counts()"
   ]
  },
  {
   "cell_type": "markdown",
   "metadata": {
    "id": "F1BC908E7D2B406E9CFECCE153D3D9E9",
    "jupyter": {},
    "notebookId": "66bd9a11f69c7398daacb180",
    "runtime": {
     "execution_status": null,
     "status": "default"
    },
    "scrolled": false,
    "slideshow": {
     "slide_type": "slide"
    },
    "tags": []
   },
   "source": [
    "### `source`"
   ]
  },
  {
   "cell_type": "code",
   "execution_count": 44,
   "metadata": {
    "collapsed": false,
    "id": "A0952956883742DB89CBE4F269B0C1D3",
    "jupyter": {
     "outputs_hidden": false
    },
    "notebookId": "66bd9a11f69c7398daacb180",
    "slideshow": {
     "slide_type": "slide"
    },
    "tags": []
   },
   "outputs": [
    {
     "data": {
      "text/plain": [
       "source.title\n",
       "StockTwits for iOS         1344359\n",
       "StockTwits Web             1221046\n",
       "StockTwits For Android      449666\n",
       "OneUp App                    69575\n",
       "STCK.PRO                     63127\n",
       "                            ...   \n",
       "DiscordToStocktwits              1\n",
       "Medved Trader                    1\n",
       "XerisDD                          1\n",
       "Profit Mission Control           1\n",
       "Atlas                            1\n",
       "Name: count, Length: 139, dtype: int64"
      ]
     },
     "execution_count": 44,
     "metadata": {},
     "output_type": "execute_result"
    }
   ],
   "source": [
    "df_msg['source.title'].value_counts()"
   ]
  },
  {
   "cell_type": "markdown",
   "metadata": {
    "id": "CD995BADB4A343D09F9C2C1CD76F3218",
    "jupyter": {},
    "notebookId": "66bd9a11f69c7398daacb180",
    "runtime": {
     "execution_status": null,
     "status": "default"
    },
    "scrolled": false,
    "slideshow": {
     "slide_type": "slide"
    },
    "tags": []
   },
   "source": [
    "### `conversation.parent_message_id\t`"
   ]
  },
  {
   "cell_type": "code",
   "execution_count": 45,
   "metadata": {
    "collapsed": false,
    "id": "24E8B78C95D44177A1A85687CC9F0FB9",
    "jupyter": {
     "outputs_hidden": false
    },
    "notebookId": "66bd9a11f69c7398daacb180",
    "slideshow": {
     "slide_type": "slide"
    },
    "tags": []
   },
   "outputs": [
    {
     "data": {
      "text/plain": [
       "68         250553527.0\n",
       "128        253643595.0\n",
       "183        256011649.0\n",
       "310        258411974.0\n",
       "381        258799695.0\n",
       "              ...     \n",
       "3826124    384634369.0\n",
       "3826148    387169227.0\n",
       "3826154    389447425.0\n",
       "3826191    392064669.0\n",
       "3826232    395824200.0\n",
       "Name: conversation.parent_message_id, Length: 957307, dtype: float64"
      ]
     },
     "execution_count": 45,
     "metadata": {},
     "output_type": "execute_result"
    }
   ],
   "source": [
    "df_msg[\n",
    "    ~df_msg['conversation.parent_message_id'].isnull()\n",
    "]['conversation.parent_message_id']"
   ]
  },
  {
   "cell_type": "markdown",
   "metadata": {
    "id": "4FE71F0BC2744FA0BB6833E4E30F0E09",
    "jupyter": {},
    "notebookId": "66bd9a11f69c7398daacb180",
    "runtime": {
     "execution_status": null,
     "status": "default"
    },
    "scrolled": false,
    "slideshow": {
     "slide_type": "slide"
    },
    "tags": []
   },
   "source": [
    "### `symbol`"
   ]
  },
  {
   "cell_type": "code",
   "execution_count": 46,
   "metadata": {
    "collapsed": false,
    "id": "DA4DB8761ED84765B7B504F89CE763D5",
    "jupyter": {
     "outputs_hidden": false
    },
    "notebookId": "66bd9a11f69c7398daacb180",
    "slideshow": {
     "slide_type": "slide"
    },
    "tags": []
   },
   "outputs": [
    {
     "data": {
      "text/plain": [
       "\"{'id': 686, 'symbol': 'AAPL', 'title': 'Apple Inc.', 'aliases': [], 'is_following': False, 'watchlist_count': 750439, 'has_pricing': True}\""
      ]
     },
     "execution_count": 46,
     "metadata": {},
     "output_type": "execute_result"
    }
   ],
   "source": [
    "df_msg['symbol0'].iloc[0]"
   ]
  },
  {
   "cell_type": "code",
   "execution_count": 47,
   "metadata": {
    "collapsed": false,
    "id": "54279C78B91945C5AB2E00854D37BB3D",
    "jupyter": {
     "outputs_hidden": false
    },
    "notebookId": "66bd9a11f69c7398daacb180",
    "slideshow": {
     "slide_type": "slide"
    },
    "tags": []
   },
   "outputs": [
    {
     "data": {
      "text/plain": [
       "'AAPL'"
      ]
     },
     "execution_count": 47,
     "metadata": {},
     "output_type": "execute_result"
    }
   ],
   "source": [
    "df_msg['ticker0'].iloc[0]"
   ]
  },
  {
   "cell_type": "markdown",
   "metadata": {
    "id": "227142DBD9AC4AA7A345BA8FF02BFEA8",
    "jupyter": {},
    "notebookId": "66bd9a11f69c7398daacb180",
    "runtime": {
     "execution_status": null,
     "status": "default"
    },
    "scrolled": false,
    "slideshow": {
     "slide_type": "slide"
    },
    "tags": []
   },
   "source": [
    "## Check Dates"
   ]
  },
  {
   "cell_type": "code",
   "execution_count": 48,
   "metadata": {
    "collapsed": false,
    "id": "CF71588CCD34427F89252DDF1B588757",
    "jupyter": {
     "outputs_hidden": false
    },
    "notebookId": "66bd9a11f69c7398daacb180",
    "scrolled": true,
    "slideshow": {
     "slide_type": "slide"
    },
    "tags": []
   },
   "outputs": [
    {
     "name": "stdout",
     "output_type": "stream",
     "text": [
      "A: 3482 messages from 2020-10-01T15:21:23Z to 2021-10-26T22:31:03Z\n",
      "AABA: 45 messages from 2020-10-13T23:19:11Z to 2021-07-30T16:50:16Z\n",
      "AAL: 66439 messages from 2020-10-01T00:01:30Z to 2021-10-26T23:54:33Z\n",
      "AAPL: 447991 messages from 2020-10-01T00:02:17Z to 2021-10-26T23:58:25Z\n",
      "ABB: 1132 messages from 2020-10-01T11:09:00Z to 2021-10-26T02:45:59Z\n",
      "ABBV: 11848 messages from 2020-10-01T00:03:29Z to 2021-10-26T20:15:36Z\n",
      "ABC: 1631 messages from 2020-10-01T13:25:44Z to 2021-10-25T13:49:50Z\n",
      "ABT: 6209 messages from 2020-10-01T02:25:32Z to 2021-10-26T23:18:29Z\n",
      "ABX: 259 messages from 2020-10-01T03:36:32Z to 2021-10-25T13:51:52Z\n",
      "ADI: 2918 messages from 2020-10-01T10:45:04Z to 2021-10-26T21:11:09Z\n",
      "ADM: 2651 messages from 2020-10-01T17:53:58Z to 2021-10-26T23:55:53Z\n",
      "ADSK: 3177 messages from 2020-10-01T07:01:13Z to 2021-10-26T15:34:00Z\n",
      "AEE: 1194 messages from 2020-10-01T21:54:13Z to 2021-10-25T17:25:04Z\n",
      "AEP: 2091 messages from 2020-10-01T01:27:59Z to 2021-10-26T22:09:49Z\n",
      "AFL: 1958 messages from 2020-10-01T00:30:04Z to 2021-10-26T21:26:38Z\n",
      "AGR: 1238 messages from 2020-10-01T06:28:00Z to 2021-10-26T22:02:47Z\n",
      "AIG: 2515 messages from 2020-10-01T01:15:05Z to 2021-10-26T22:20:30Z\n",
      "AJG: 1578 messages from 2020-10-01T02:30:04Z to 2021-10-25T15:05:04Z\n",
      "ALGN: 4265 messages from 2020-10-01T01:52:38Z to 2021-10-26T23:26:26Z\n",
      "ALL: 2093 messages from 2020-10-01T11:31:07Z to 2021-10-26T18:30:04Z\n",
      "ALXN: 2726 messages from 2020-10-01T08:51:47Z to 2021-10-26T14:47:05Z\n",
      "AMAT: 9083 messages from 2020-10-01T03:45:05Z to 2021-10-26T21:44:11Z\n",
      "AMD: 259844 messages from 2020-10-01T00:02:17Z to 2021-10-26T23:58:08Z\n",
      "AME: 1393 messages from 2020-10-01T04:15:04Z to 2021-10-25T23:03:55Z\n",
      "AMGN: 5504 messages from 2020-10-01T01:16:37Z to 2021-10-26T21:22:11Z\n",
      "AMP: 2098 messages from 2020-10-01T15:15:31Z to 2021-10-26T20:42:27Z\n",
      "AMTD: 1030 messages from 2020-10-01T04:45:03Z to 2021-10-26T19:55:11Z\n",
      "AMZN: 229999 messages from 2020-10-01T00:02:17Z to 2021-10-26T23:59:00Z\n",
      "ANET: 2380 messages from 2020-10-01T03:32:36Z to 2021-10-26T23:24:14Z\n",
      "AON: 1818 messages from 2020-10-01T19:36:03Z to 2021-10-26T14:23:59Z\n",
      "APC: 15 messages from 2020-10-12T15:38:45Z to 2021-10-11T21:41:58Z\n",
      "APD: 1800 messages from 2020-10-01T14:15:28Z to 2021-10-26T22:26:04Z\n",
      "APH: 1241 messages from 2020-10-01T06:45:05Z to 2021-10-26T20:21:06Z\n",
      "APTV: 1416 messages from 2020-10-01T13:46:58Z to 2021-10-25T05:06:41Z\n",
      "ATVI: 14616 messages from 2020-10-01T02:13:11Z to 2021-10-26T22:33:13Z\n",
      "AVB: 1180 messages from 2020-10-01T20:55:29Z to 2021-10-26T03:20:33Z\n",
      "AWK: 2722 messages from 2020-10-01T14:01:00Z to 2021-10-26T02:23:57Z\n",
      "AZO: 2420 messages from 2020-10-01T10:30:04Z to 2021-10-26T12:20:47Z\n",
      "BA: 139308 messages from 2020-10-01T00:00:52Z to 2021-10-26T23:59:20Z\n",
      "BABA: 260298 messages from 2020-10-01T00:03:08Z to 2021-10-26T23:59:21Z\n",
      "BAC: 29838 messages from 2020-10-01T01:15:46Z to 2021-10-26T23:54:33Z\n",
      "BAM: 1851 messages from 2020-10-01T18:37:12Z to 2021-10-26T13:21:35Z\n",
      "BAP: 680 messages from 2020-10-01T07:47:03Z to 2021-10-26T10:36:21Z\n",
      "BAX: 1896 messages from 2020-10-01T11:29:51Z to 2021-10-26T20:15:04Z\n",
      "BBL: 680 messages from 2020-10-01T14:27:40Z to 2021-10-24T11:34:55Z\n",
      "BBT: 254 messages from 2020-10-02T23:38:20Z to 2021-10-26T21:02:51Z\n",
      "BBVA: 956 messages from 2020-10-01T04:17:27Z to 2021-10-26T17:23:34Z\n",
      "BBY: 8862 messages from 2020-10-01T04:11:24Z to 2021-10-26T21:51:55Z\n",
      "BCE: 857 messages from 2020-10-01T15:21:13Z to 2021-10-26T15:44:47Z\n",
      "BCH: 655 messages from 2020-10-11T16:03:15Z to 2021-10-22T22:09:30Z\n",
      "BCS: 1609 messages from 2020-10-01T14:08:42Z to 2021-10-26T23:58:31Z\n",
      "BEN: 2157 messages from 2020-10-01T13:00:05Z to 2021-10-26T12:00:26Z\n",
      "BHGE: 206 messages from 2020-10-21T11:06:14Z to 2021-10-22T20:10:14Z\n",
      "BHP: 1559 messages from 2020-10-01T02:53:24Z to 2021-10-25T21:16:18Z\n",
      "BIDU: 32760 messages from 2020-10-01T09:01:06Z to 2021-10-26T23:29:44Z\n",
      "BK: 3153 messages from 2020-10-01T15:00:05Z to 2021-10-26T22:04:09Z\n",
      "BLL: 1717 messages from 2020-10-01T15:30:04Z to 2021-10-26T23:53:44Z\n",
      "BMO: 4395 messages from 2020-10-01T15:12:03Z to 2021-10-26T21:17:19Z\n",
      "BMRN: 2127 messages from 2020-10-01T00:10:31Z to 2021-10-26T20:08:44Z\n",
      "BND: 521 messages from 2020-10-02T14:22:30Z to 2021-10-26T14:30:43Z\n",
      "BP: 9058 messages from 2020-10-01T00:00:43Z to 2021-10-26T23:17:45Z\n",
      "BSAC: 378 messages from 2020-10-13T00:01:33Z to 2021-10-26T10:21:21Z\n",
      "BT: 74 messages from 2020-10-05T11:00:53Z to 2021-10-20T23:46:57Z\n",
      "BUD: 2639 messages from 2020-10-02T01:16:29Z to 2021-10-26T22:26:31Z\n",
      "BX: 5901 messages from 2020-10-01T00:54:15Z to 2021-10-26T23:17:31Z\n",
      "BXP: 1403 messages from 2020-10-01T20:02:12Z to 2021-10-26T22:05:16Z\n",
      "C: 17327 messages from 2020-10-01T03:17:03Z to 2021-10-26T23:55:14Z\n",
      "CAH: 1658 messages from 2020-10-01T23:53:18Z to 2021-10-25T15:24:07Z\n",
      "CAJ: 817 messages from 2020-10-01T10:13:35Z to 2021-10-26T23:57:00Z\n",
      "CBRE: 1505 messages from 2020-10-05T12:30:52Z to 2021-10-26T15:51:06Z\n",
      "CBS: 523 messages from 2020-10-01T21:02:47Z to 2021-10-21T11:44:54Z\n",
      "CCEP: 415 messages from 2021-01-14T22:28:11Z to 2021-10-26T06:52:02Z\n",
      "CCL: 57778 messages from 2020-10-01T00:03:57Z to 2021-10-26T23:47:16Z\n",
      "CERN: 1656 messages from 2020-10-01T23:00:04Z to 2021-10-26T13:31:00Z\n",
      "CFG: 1765 messages from 2020-10-02T15:06:31Z to 2021-10-26T20:44:33Z\n",
      "CHA: 430 messages from 2020-10-07T19:22:14Z to 2021-10-26T21:49:11Z\n",
      "CHD: 1667 messages from 2020-10-01T16:27:35Z to 2021-10-25T00:11:28Z\n",
      "CHKP: 1325 messages from 2020-10-01T13:01:25Z to 2021-10-26T22:00:04Z\n",
      "CHL: 1016 messages from 2020-10-01T15:27:14Z to 2021-10-26T21:49:11Z\n",
      "CHT: 430 messages from 2020-10-01T16:10:43Z to 2021-10-26T12:30:11Z\n",
      "CHU: 355 messages from 2020-10-01T15:19:09Z to 2021-10-26T21:49:11Z\n",
      "CI: 3021 messages from 2020-10-01T11:00:34Z to 2021-10-26T21:26:38Z\n",
      "CLR: 2047 messages from 2020-10-01T05:21:00Z to 2021-10-26T22:14:45Z\n",
      "CM: 3339 messages from 2020-10-01T10:10:18Z to 2021-10-26T20:36:02Z\n",
      "CMCSA: 6184 messages from 2020-10-01T03:55:43Z to 2021-10-26T20:58:12Z\n",
      "CMI: 2265 messages from 2020-10-01T13:51:55Z to 2021-10-26T20:50:27Z\n",
      "CMS: 1296 messages from 2020-10-01T14:20:18Z to 2021-10-26T08:05:11Z\n",
      "CNC: 3129 messages from 2020-10-01T03:12:12Z to 2021-10-26T23:47:06Z\n",
      "CNP: 1390 messages from 2020-10-01T20:30:29Z to 2021-10-26T20:12:11Z\n",
      "CNQ: 1144 messages from 2020-10-01T03:32:47Z to 2021-10-26T22:54:06Z\n",
      "COF: 2865 messages from 2020-10-01T16:04:00Z to 2021-10-26T22:46:00Z\n",
      "CP: 2734 messages from 2020-10-01T17:22:38Z to 2021-10-26T02:34:42Z\n",
      "CQP: 585 messages from 2020-10-01T00:06:02Z to 2021-10-26T20:34:07Z\n",
      "CRH: 737 messages from 2020-10-01T11:09:41Z to 2021-10-25T18:00:24Z\n",
      "CS: 2701 messages from 2020-10-02T14:58:55Z to 2021-10-26T21:47:08Z\n",
      "CSCO: 10756 messages from 2020-10-01T00:34:12Z to 2021-10-26T23:32:47Z\n",
      "CTAS: 1353 messages from 2020-10-01T12:05:36Z to 2021-10-26T20:08:44Z\n",
      "CTSH: 1991 messages from 2020-10-01T11:11:14Z to 2021-10-26T23:37:48Z\n",
      "CTXS: 2623 messages from 2020-10-01T12:30:32Z to 2021-10-26T23:15:04Z\n",
      "CUK: 1662 messages from 2020-10-01T16:00:30Z to 2021-10-26T16:19:29Z\n",
      "CVX: 12259 messages from 2020-10-01T02:33:04Z to 2021-10-26T23:57:45Z\n",
      "CXO: 1053 messages from 2020-10-01T14:05:18Z to 2021-10-25T17:16:10Z\n",
      "DAL: 18491 messages from 2020-10-01T00:18:00Z to 2021-10-26T20:25:37Z\n",
      "DB: 1842 messages from 2020-10-01T03:22:48Z to 2021-10-26T21:29:21Z\n",
      "DG: 3908 messages from 2020-10-01T07:55:27Z to 2021-10-26T21:27:57Z\n",
      "DIS: 63282 messages from 2020-10-01T00:19:45Z to 2021-10-26T23:58:23Z\n",
      "DISCA: 12651 messages from 2020-10-01T04:03:05Z to 2021-10-26T22:47:42Z\n",
      "DISCB: 1376 messages from 2020-10-03T10:29:00Z to 2021-10-26T03:17:41Z\n",
      "DLR: 1800 messages from 2020-10-01T10:30:33Z to 2021-10-26T21:06:54Z\n",
      "DLTR: 4386 messages from 2020-10-01T16:33:06Z to 2021-10-26T18:08:31Z\n",
      "DTE: 2247 messages from 2020-10-01T14:20:18Z to 2021-10-26T17:40:06Z\n",
      "DVMT: 4 messages from 2020-10-13T20:54:04Z to 2021-09-26T17:44:05Z\n",
      "DVY: 172 messages from 2020-10-01T17:00:30Z to 2021-10-23T03:23:28Z\n",
      "DWDP: 182 messages from 2020-10-15T14:05:05Z to 2021-10-01T21:12:10Z\n",
      "DXC: 2116 messages from 2020-10-01T13:15:30Z to 2021-10-26T16:51:17Z\n",
      "EA: 6627 messages from 2020-10-01T09:00:33Z to 2021-10-26T20:25:46Z\n",
      "EBAY: 9010 messages from 2020-10-01T04:03:30Z to 2021-10-26T23:17:19Z\n",
      "EC: 804 messages from 2020-10-05T11:18:03Z to 2021-10-26T13:25:04Z\n",
      "ECL: 1602 messages from 2020-10-01T12:35:31Z to 2021-10-26T21:30:00Z\n",
      "ED: 2217 messages from 2020-10-01T00:08:03Z to 2021-10-26T16:27:45Z\n",
      "EMB: 550 messages from 2020-10-01T20:37:53Z to 2021-10-22T03:26:48Z\n",
      "EMR: 1664 messages from 2020-10-01T11:00:55Z to 2021-10-26T20:36:16Z\n",
      "EQIX: 1900 messages from 2020-10-01T10:20:55Z to 2021-10-26T15:00:22Z\n",
      "EQR: 1353 messages from 2020-10-01T17:15:33Z to 2021-10-26T22:02:55Z\n",
      "ES: 1239 messages from 2020-10-01T05:53:12Z to 2021-10-26T11:21:10Z\n",
      "ESS: 985 messages from 2020-10-01T12:40:35Z to 2021-10-26T22:02:54Z\n",
      "ET: 15533 messages from 2020-10-01T00:36:00Z to 2021-10-26T22:50:31Z\n",
      "ETN: 1763 messages from 2020-10-01T13:34:01Z to 2021-10-26T10:41:28Z\n",
      "ETR: 1580 messages from 2020-10-01T14:20:18Z to 2021-10-26T15:11:41Z\n",
      "EVRG: 991 messages from 2020-10-02T13:22:21Z to 2021-10-24T05:15:00Z\n",
      "EW: 2540 messages from 2020-10-01T19:22:49Z to 2021-10-26T15:13:06Z\n",
      "EXC: 2176 messages from 2020-10-01T03:15:12Z to 2021-10-26T21:30:33Z\n",
      "EXPE: 4245 messages from 2020-10-01T18:46:33Z to 2021-10-26T23:18:00Z\n",
      "F: 84449 messages from 2020-10-01T00:27:45Z to 2021-10-26T23:58:31Z\n",
      "FANG: 6417 messages from 2020-10-01T03:12:26Z to 2021-10-26T23:54:48Z\n",
      "FAST: 1698 messages from 2020-10-01T01:39:01Z to 2021-10-26T13:09:34Z\n",
      "FCX: 10463 messages from 2020-10-01T01:35:19Z to 2021-10-26T23:18:12Z\n",
      "FDC: 2 messages from 2021-04-14T19:22:26Z to 2021-08-25T15:24:23Z\n",
      "FDX: 19122 messages from 2020-10-01T03:11:03Z to 2021-10-26T23:20:45Z\n",
      "FIS: 1995 messages from 2020-10-01T13:45:32Z to 2021-10-26T21:59:36Z\n",
      "FISV: 3605 messages from 2020-10-01T10:29:07Z to 2021-10-26T23:35:13Z\n",
      "FITB: 2196 messages from 2020-10-01T03:41:36Z to 2021-10-26T20:51:33Z\n",
      "FLT: 905 messages from 2020-10-02T16:35:16Z to 2021-10-26T21:24:59Z\n",
      "FMS: 479 messages from 2020-10-10T07:02:03Z to 2021-10-25T08:47:03Z\n",
      "FMX: 458 messages from 2020-10-01T08:29:34Z to 2021-10-25T17:50:02Z\n",
      "FRC: 1044 messages from 2020-10-03T17:55:18Z to 2021-10-26T16:13:03Z\n",
      "FTV: 1475 messages from 2020-10-04T15:05:34Z to 2021-10-26T15:30:44Z\n",
      "GIB: 768 messages from 2020-10-01T06:41:03Z to 2021-10-26T15:25:49Z\n",
      "GIS: 2387 messages from 2020-10-01T03:40:16Z to 2021-10-26T15:52:47Z\n",
      "GLW: 2832 messages from 2020-10-01T04:12:50Z to 2021-10-26T23:26:29Z\n",
      "GOL: 2012 messages from 2020-10-01T00:16:11Z to 2021-10-26T21:26:49Z\n",
      "GOOG: 26347 messages from 2020-10-01T00:32:57Z to 2021-10-26T23:53:43Z\n",
      "GOOGL: 28170 messages from 2020-10-01T02:04:00Z to 2021-10-26T23:53:58Z\n",
      "GPC: 1262 messages from 2020-10-02T04:40:02Z to 2021-10-26T16:35:06Z\n",
      "GPN: 2237 messages from 2020-10-01T00:50:35Z to 2021-10-26T21:51:31Z\n",
      "GWW: 977 messages from 2020-10-01T03:30:01Z to 2021-10-26T13:58:59Z\n",
      "HAL: 4964 messages from 2020-10-01T04:51:43Z to 2021-10-26T21:13:51Z\n",
      "HCA: 2124 messages from 2020-10-01T16:53:37Z to 2021-10-26T23:26:29Z\n",
      "HD: 13431 messages from 2020-10-01T14:52:22Z to 2021-10-26T23:42:02Z\n",
      "HIG: 1599 messages from 2020-10-02T21:25:37Z to 2021-10-26T21:21:42Z\n",
      "HLT: 2183 messages from 2020-10-01T16:52:58Z to 2021-10-26T23:44:37Z\n",
      "HPE: 3186 messages from 2020-10-01T11:45:29Z to 2021-10-26T15:08:32Z\n",
      "HPQ: 4114 messages from 2020-10-01T10:37:34Z to 2021-10-26T22:15:18Z\n",
      "HRL: 2070 messages from 2020-10-01T22:48:27Z to 2021-10-26T17:01:24Z\n",
      "HRS: 81 messages from 2020-10-05T20:31:08Z to 2021-10-05T21:09:33Z\n",
      "HSBC: 1539 messages from 2020-10-01T04:44:56Z to 2021-10-26T22:01:34Z\n",
      "HSY: 1763 messages from 2020-10-01T12:00:57Z to 2021-10-26T21:56:04Z\n",
      "HUM: 3076 messages from 2020-10-01T11:00:35Z to 2021-10-26T14:15:21Z\n",
      "IAC: 1841 messages from 2020-10-02T20:28:48Z to 2021-10-26T20:10:56Z\n",
      "IBN: 729 messages from 2020-10-01T03:48:37Z to 2021-10-26T19:39:31Z\n",
      "ICE: 3131 messages from 2020-10-01T10:20:55Z to 2021-10-26T23:41:55Z\n",
      "IDXX: 2047 messages from 2020-10-01T05:58:03Z to 2021-10-26T03:58:04Z\n",
      "IFF: 1716 messages from 2020-10-01T14:12:02Z to 2021-10-26T12:15:05Z\n",
      "ILMN: 4467 messages from 2020-10-01T21:29:32Z to 2021-10-26T21:38:37Z\n",
      "IMO: 765 messages from 2020-10-01T23:44:54Z to 2021-10-24T22:32:10Z\n",
      "INFO: 2267 messages from 2020-10-01T04:41:03Z to 2021-10-26T19:51:32Z\n",
      "INFY: 2092 messages from 2020-10-01T04:38:47Z to 2021-10-26T17:30:11Z\n",
      "ING: 712 messages from 2020-10-01T02:32:36Z to 2021-10-26T19:18:37Z\n",
      "INTC: 43375 messages from 2020-10-01T00:40:29Z to 2021-10-26T23:58:35Z\n",
      "IP: 1725 messages from 2020-10-01T03:01:05Z to 2021-10-26T18:00:05Z\n",
      "IQV: 1162 messages from 2020-10-02T10:07:03Z to 2021-10-26T21:12:31Z\n",
      "IR: 1389 messages from 2020-10-06T13:16:06Z to 2021-10-25T21:26:02Z\n",
      "ITW: 1147 messages from 2020-10-01T12:55:47Z to 2021-10-25T16:46:02Z\n",
      "IX: 394 messages from 2020-10-07T01:44:25Z to 2021-10-26T14:10:05Z\n",
      "JCI: 1885 messages from 2020-10-01T06:58:02Z to 2021-10-26T11:30:05Z\n",
      "JD: 61719 messages from 2020-10-01T00:15:59Z to 2021-10-26T23:39:33Z\n",
      "JNJ: 22671 messages from 2020-10-01T00:00:26Z to 2021-10-26T22:33:40Z\n",
      "JPM: 33016 messages from 2020-10-01T03:29:20Z to 2021-10-26T23:49:36Z\n",
      "KB: 518 messages from 2020-10-05T02:14:05Z to 2021-10-26T01:13:28Z\n",
      "KDP: 1728 messages from 2020-10-01T04:42:11Z to 2021-10-25T03:49:55Z\n",
      "KEY: 2472 messages from 2020-10-01T03:32:36Z to 2021-10-26T19:52:00Z\n",
      "KKR: 3500 messages from 2020-10-01T13:59:31Z to 2021-10-26T23:37:30Z\n",
      "KMB: 2167 messages from 2020-10-01T13:01:42Z to 2021-10-26T20:00:01Z\n",
      "KMI: 3835 messages from 2020-10-01T00:55:37Z to 2021-10-26T20:40:37Z\n",
      "KO: 11694 messages from 2020-10-01T03:49:26Z to 2021-10-26T23:53:49Z\n",
      "KR: 6204 messages from 2020-10-01T04:00:20Z to 2021-10-26T18:52:09Z\n",
      "L: 1140 messages from 2020-10-02T18:27:06Z to 2021-10-26T16:26:25Z\n",
      "LBTYA: 704 messages from 2020-10-01T20:03:20Z to 2021-10-25T18:11:18Z\n",
      "LBTYB: 216 messages from 2020-10-01T20:05:55Z to 2021-10-24T19:08:00Z\n",
      "LBTYK: 536 messages from 2020-10-01T20:13:26Z to 2021-10-26T06:32:25Z\n",
      "LEN: 3600 messages from 2020-10-01T01:58:45Z to 2021-10-26T12:01:15Z\n",
      "LLL: 118 messages from 2020-10-02T17:58:11Z to 2021-10-26T23:11:51Z\n",
      "LLY: 8592 messages from 2020-10-01T03:46:32Z to 2021-10-26T23:34:29Z\n",
      "LNG: 1518 messages from 2020-10-01T07:01:04Z to 2021-10-26T23:14:30Z\n",
      "LULU: 8869 messages from 2020-10-01T02:05:12Z to 2021-10-26T20:10:58Z\n",
      "LUV: 12587 messages from 2020-10-01T04:13:28Z to 2021-10-26T23:45:57Z\n",
      "LVS: 8884 messages from 2020-10-01T12:31:00Z to 2021-10-26T17:40:02Z\n",
      "LYB: 1540 messages from 2020-10-01T21:19:37Z to 2021-10-26T12:45:32Z\n",
      "LYG: 1194 messages from 2020-10-03T02:03:50Z to 2021-10-26T16:33:48Z\n",
      "MA: 11201 messages from 2020-10-01T05:30:51Z to 2021-10-26T23:48:09Z\n",
      "MAR: 3127 messages from 2020-10-01T16:52:58Z to 2021-10-26T21:52:05Z\n",
      "MCD: 9923 messages from 2020-10-01T00:51:45Z to 2021-10-26T23:07:43Z\n",
      "MCHP: 2107 messages from 2020-10-01T12:09:21Z to 2021-10-26T22:43:18Z\n",
      "MCK: 1838 messages from 2020-10-01T22:17:40Z to 2021-10-25T16:05:36Z\n",
      "MCO: 2432 messages from 2020-10-01T05:25:05Z to 2021-10-26T11:10:20Z\n",
      "MDT: 4728 messages from 2020-10-01T00:21:24Z to 2021-10-26T18:52:06Z\n",
      "MELI: 6214 messages from 2020-10-01T11:03:37Z to 2021-10-26T22:44:31Z\n",
      "MET: 2453 messages from 2020-10-01T03:42:32Z to 2021-10-26T16:45:40Z\n",
      "MFC: 1172 messages from 2020-10-01T14:00:20Z to 2021-10-26T17:11:44Z\n",
      "MFG: 441 messages from 2020-10-01T09:59:34Z to 2021-10-25T12:02:20Z\n",
      "MGA: 2638 messages from 2020-10-01T17:24:39Z to 2021-10-26T18:05:47Z\n",
      "MKC: 1448 messages from 2020-10-02T06:23:36Z to 2021-10-26T10:37:55Z\n",
      "MKL: 882 messages from 2020-10-02T10:39:01Z to 2021-10-26T11:54:20Z\n",
      "MMC: 1614 messages from 2020-10-01T14:01:41Z to 2021-10-26T20:08:44Z\n",
      "MMM: 4932 messages from 2020-10-01T05:20:39Z to 2021-10-26T23:55:47Z\n",
      "MNST: 1990 messages from 2020-10-01T13:42:29Z to 2021-10-26T23:26:26Z\n",
      "MPC: 3279 messages from 2020-10-01T00:12:39Z to 2021-10-26T23:17:29Z\n",
      "MPLX: 1267 messages from 2020-10-01T04:25:44Z to 2021-10-26T13:34:03Z\n",
      "MRK: 14723 messages from 2020-10-01T03:17:06Z to 2021-10-26T23:18:40Z\n",
      "MSFT: 77533 messages from 2020-10-01T00:02:17Z to 2021-10-26T23:59:43Z\n",
      "MSI: 1518 messages from 2020-10-01T12:09:26Z to 2021-10-26T15:56:23Z\n",
      "MT: 3721 messages from 2020-10-01T04:06:13Z to 2021-10-26T17:26:11Z\n",
      "MTD: 946 messages from 2020-10-01T06:25:03Z to 2021-10-25T07:58:01Z\n",
      "MU: 38892 messages from 2020-10-01T00:02:32Z to 2021-10-26T23:49:00Z\n",
      "MXIM: 1157 messages from 2020-10-01T19:37:00Z to 2021-10-26T02:27:09Z\n",
      "MYL: 625 messages from 2020-10-01T03:30:01Z to 2021-10-25T22:48:30Z\n",
      "NEM: 4813 messages from 2020-10-01T01:04:20Z to 2021-10-26T22:45:02Z\n",
      "NFLX: 65261 messages from 2020-10-01T00:13:09Z to 2021-10-26T23:59:29Z\n",
      "NGG: 656 messages from 2020-10-01T19:08:18Z to 2021-10-20T20:32:13Z\n",
      "NOC: 3101 messages from 2020-10-01T00:41:35Z to 2021-10-26T23:17:52Z\n",
      "NOK: 176644 messages from 2020-10-01T01:29:58Z to 2021-10-26T23:55:52Z\n",
      "NOW: 4316 messages from 2020-10-01T16:56:51Z to 2021-10-26T20:15:31Z\n",
      "NSC: 1585 messages from 2020-10-01T05:29:03Z to 2021-10-26T21:52:31Z\n",
      "NTAP: 2160 messages from 2020-10-01T15:23:35Z to 2021-10-26T12:29:57Z\n",
      "NTES: 2099 messages from 2020-10-01T01:11:30Z to 2021-10-26T23:30:21Z\n",
      "NTR: 1396 messages from 2020-10-01T01:01:20Z to 2021-10-26T16:43:00Z\n",
      "NTRS: 2045 messages from 2020-10-01T06:48:34Z to 2021-10-26T21:46:55Z\n",
      "NUE: 5106 messages from 2020-10-02T00:18:09Z to 2021-10-26T23:51:38Z\n",
      "NVO: 1774 messages from 2020-10-01T15:23:53Z to 2021-10-26T23:37:10Z\n",
      "NVS: 2103 messages from 2020-10-01T09:43:55Z to 2021-10-26T22:38:31Z\n",
      "NXPI: 2954 messages from 2020-10-01T12:57:24Z to 2021-10-26T21:35:47Z\n",
      "O: 4641 messages from 2020-10-01T01:07:16Z to 2021-10-26T21:36:31Z\n",
      "OKE: 2588 messages from 2020-10-01T03:37:36Z to 2021-10-26T21:57:30Z\n",
      "OMC: 1500 messages from 2020-10-02T16:46:38Z to 2021-10-26T21:16:57Z\n",
      "ORAN: 750 messages from 2020-10-01T07:19:36Z to 2021-10-26T19:19:31Z\n",
      "ORCL: 9765 messages from 2020-10-01T00:11:48Z to 2021-10-26T21:49:29Z\n",
      "ORLY: 1194 messages from 2020-10-01T01:30:07Z to 2021-10-26T19:42:41Z\n",
      "PAA: 2605 messages from 2020-10-01T04:09:05Z to 2021-10-26T22:31:07Z\n",
      "PANW: 4961 messages from 2020-10-01T13:38:25Z to 2021-10-26T23:57:54Z\n",
      "PAYX: 2055 messages from 2020-10-02T03:02:22Z to 2021-10-26T18:03:24Z\n",
      "PBA: 1055 messages from 2020-10-06T22:05:27Z to 2021-10-24T18:39:39Z\n",
      "PEG: 1380 messages from 2020-10-01T02:41:36Z to 2021-10-26T14:11:25Z\n",
      "PEP: 5912 messages from 2020-10-01T00:06:52Z to 2021-10-26T22:11:02Z\n",
      "PFE: 138406 messages from 2020-10-01T01:24:45Z to 2021-10-26T23:57:48Z\n",
      "PFF: 387 messages from 2020-10-03T02:39:54Z to 2021-10-25T21:14:06Z\n",
      "PG: 6304 messages from 2020-10-01T03:29:35Z to 2021-10-26T22:14:18Z\n",
      "PGR: 2315 messages from 2020-10-01T22:32:15Z to 2021-10-26T21:26:38Z\n",
      "PHG: 1688 messages from 2020-10-01T14:14:04Z to 2021-10-25T19:23:01Z\n",
      "PKX: 446 messages from 2020-10-08T09:30:31Z to 2021-10-26T10:32:57Z\n",
      "PLD: 1557 messages from 2020-10-01T00:34:02Z to 2021-10-26T23:29:19Z\n",
      "PPG: 2720 messages from 2020-10-01T11:46:35Z to 2021-10-26T17:25:31Z\n",
      "PPL: 1653 messages from 2020-10-01T03:05:45Z to 2021-10-26T14:25:04Z\n",
      "PRU: 2752 messages from 2020-10-01T22:42:30Z to 2021-10-26T10:01:39Z\n",
      "PSA: 1556 messages from 2020-10-02T18:21:01Z to 2021-10-26T17:39:31Z\n",
      "PSX: 2370 messages from 2020-10-01T03:52:52Z to 2021-10-26T21:43:02Z\n",
      "PTR: 684 messages from 2020-10-01T13:45:17Z to 2021-10-25T13:10:07Z\n",
      "PXD: 2810 messages from 2020-10-01T22:37:39Z to 2021-10-26T20:26:42Z\n",
      "RACE: 1712 messages from 2020-10-01T11:12:56Z to 2021-10-26T23:16:50Z\n",
      "RCI: 1020 messages from 2020-10-01T11:01:06Z to 2021-10-26T15:44:24Z\n",
      "RCL: 12704 messages from 2020-10-01T00:12:42Z to 2021-10-26T20:41:57Z\n",
      "REGN: 13493 messages from 2020-10-01T00:14:11Z to 2021-10-26T22:23:26Z\n",
      "RF: 2250 messages from 2020-10-01T03:53:27Z to 2021-10-26T20:32:31Z\n",
      "RHT: 28 messages from 2020-10-19T20:20:52Z to 2021-10-21T07:03:02Z\n",
      "RMD: 1337 messages from 2020-10-01T14:14:35Z to 2021-10-26T13:48:46Z\n",
      "ROK: 1795 messages from 2020-10-01T11:02:27Z to 2021-10-25T16:00:46Z\n",
      "ROP: 1064 messages from 2020-10-01T12:46:12Z to 2021-10-25T21:00:46Z\n",
      "ROST: 1703 messages from 2020-10-02T00:05:28Z to 2021-10-26T13:10:28Z\n",
      "RSG: 1395 messages from 2020-10-01T06:02:04Z to 2021-10-26T03:23:38Z\n",
      "RTN: 445 messages from 2020-10-01T22:00:43Z to 2021-10-23T22:25:51Z\n",
      "S: 3142 messages from 2020-10-02T05:32:12Z to 2021-10-26T18:58:44Z\n",
      "SAP: 2041 messages from 2020-10-01T13:01:18Z to 2021-10-26T22:44:23Z\n",
      "SBAC: 1031 messages from 2020-10-01T14:25:18Z to 2021-10-26T12:45:05Z\n",
      "SCCO: 1314 messages from 2020-10-02T16:16:04Z to 2021-10-26T07:39:57Z\n",
      "SHG: 378 messages from 2020-10-01T07:18:04Z to 2021-10-26T15:35:09Z\n",
      "SHV: 134 messages from 2020-10-01T18:13:48Z to 2021-10-26T17:30:49Z\n",
      "SHW: 1927 messages from 2020-10-01T11:20:26Z to 2021-10-26T22:14:30Z\n",
      "SHY: 268 messages from 2020-10-01T04:38:02Z to 2021-10-26T16:38:52Z\n",
      "SIRI: 4307 messages from 2020-10-01T10:40:10Z to 2021-10-26T15:06:14Z\n",
      "SKM: 472 messages from 2020-10-04T07:12:20Z to 2021-10-26T07:10:10Z\n",
      "SNN: 637 messages from 2020-10-01T09:13:05Z to 2021-10-26T14:07:00Z\n",
      "SPGI: 2985 messages from 2020-10-01T11:27:53Z to 2021-10-26T23:01:16Z\n",
      "SPLK: 8170 messages from 2020-10-01T02:23:49Z to 2021-10-26T22:24:12Z\n",
      "SPOT: 9949 messages from 2020-10-01T00:01:50Z to 2021-10-26T23:17:40Z\n",
      "SQ: 66007 messages from 2020-10-01T01:51:04Z to 2021-10-26T23:39:14Z\n",
      "SRE: 1949 messages from 2020-10-01T14:20:18Z to 2021-10-26T20:51:01Z\n",
      "SSL: 980 messages from 2020-10-02T05:42:54Z to 2021-10-22T14:19:50Z\n",
      "STI: 26 messages from 2020-10-03T15:47:54Z to 2021-07-19T22:58:13Z\n",
      "STT: 3347 messages from 2020-10-01T06:58:15Z to 2021-10-26T04:39:57Z\n",
      "STZ: 3190 messages from 2020-10-01T00:28:01Z to 2021-10-26T19:54:32Z\n",
      "SU: 7698 messages from 2020-10-01T01:44:06Z to 2021-10-26T23:54:41Z\n",
      "SWK: 1631 messages from 2020-10-01T14:33:25Z to 2021-10-26T06:48:03Z\n",
      "SYF: 2409 messages from 2020-10-01T04:14:21Z to 2021-10-26T21:23:00Z\n",
      "SYY: 1786 messages from 2020-10-01T14:15:19Z to 2021-10-26T18:32:31Z\n",
      "T: 38184 messages from 2020-10-01T00:00:22Z to 2021-10-26T23:43:46Z\n",
      "TAL: 22467 messages from 2020-10-01T03:42:31Z to 2021-10-26T20:44:27Z\n",
      "TDG: 1161 messages from 2020-10-01T09:14:35Z to 2021-10-25T19:32:26Z\n",
      "TEF: 633 messages from 2020-10-01T10:50:35Z to 2021-10-26T13:45:05Z\n",
      "TEL: 1386 messages from 2020-10-01T13:55:53Z to 2021-10-26T18:33:43Z\n",
      "TEVA: 10304 messages from 2020-10-01T00:08:22Z to 2021-10-26T23:57:34Z\n",
      "TGT: 13252 messages from 2020-10-01T00:05:37Z to 2021-10-26T22:30:33Z\n",
      "TLK: 276 messages from 2020-10-14T15:24:45Z to 2021-10-25T14:55:05Z\n",
      "TM: 3460 messages from 2020-10-01T13:09:35Z to 2021-10-26T19:38:47Z\n",
      "TME: 9175 messages from 2020-10-01T19:32:02Z to 2021-10-26T22:23:46Z\n",
      "TOT: 1627 messages from 2020-10-01T01:21:24Z to 2021-10-26T00:43:28Z\n",
      "TRI: 706 messages from 2020-10-01T16:55:12Z to 2021-10-26T17:50:52Z\n",
      "TROW: 1715 messages from 2020-10-01T15:44:58Z to 2021-10-26T21:52:05Z\n",
      "TRP: 1309 messages from 2020-10-01T05:41:03Z to 2021-10-26T20:57:31Z\n",
      "TRV: 1713 messages from 2020-10-01T20:29:33Z to 2021-10-26T02:58:22Z\n",
      "TSM: 15261 messages from 2020-10-01T04:39:54Z to 2021-10-26T23:55:29Z\n",
      "TSS: 6 messages from 2020-11-10T14:45:02Z to 2021-10-19T12:23:15Z\n",
      "TU: 1285 messages from 2020-10-01T00:47:34Z to 2021-10-26T23:23:31Z\n",
      "TWTR: 101944 messages from 2020-10-01T01:37:49Z to 2021-10-26T23:58:25Z\n",
      "UAL: 22847 messages from 2020-10-01T00:18:00Z to 2021-10-26T23:17:02Z\n",
      "UBS: 1615 messages from 2020-10-01T09:15:32Z to 2021-10-26T23:55:30Z\n",
      "UL: 1064 messages from 2020-10-01T16:09:38Z to 2021-10-26T23:48:30Z\n",
      "ULTA: 4639 messages from 2020-10-01T14:04:15Z to 2021-10-26T22:12:39Z\n",
      "UN: 176 messages from 2020-10-01T10:00:01Z to 2021-10-26T02:47:08Z\n",
      "UNH: 5877 messages from 2020-10-01T01:43:32Z to 2021-10-26T23:07:09Z\n",
      "V: 16914 messages from 2020-10-01T02:04:44Z to 2021-10-26T23:51:54Z\n",
      "VCIT: 320 messages from 2020-10-02T00:39:14Z to 2021-10-25T14:33:28Z\n",
      "VCSH: 269 messages from 2020-10-03T01:43:23Z to 2021-10-19T19:10:05Z\n",
      "VFC: 2001 messages from 2020-10-01T08:52:00Z to 2021-10-26T20:37:23Z\n",
      "VIV: 509 messages from 2020-10-01T14:59:06Z to 2021-10-24T22:56:38Z\n",
      "VLO: 4039 messages from 2020-10-01T00:12:39Z to 2021-10-26T23:22:31Z\n",
      "VRSK: 1454 messages from 2020-10-01T12:11:56Z to 2021-10-26T11:03:43Z\n",
      "VRSN: 1128 messages from 2020-10-01T17:11:35Z to 2021-10-26T11:32:00Z\n",
      "VRTX: 5929 messages from 2020-10-01T10:09:42Z to 2021-10-26T21:19:14Z\n",
      "VTR: 1573 messages from 2020-10-01T02:56:19Z to 2021-10-25T18:30:33Z\n",
      "VZ: 14868 messages from 2020-10-01T02:02:19Z to 2021-10-26T23:56:00Z\n",
      "WAT: 1280 messages from 2020-10-01T18:53:19Z to 2021-10-26T05:39:03Z\n",
      "WDAY: 4346 messages from 2020-10-01T00:03:29Z to 2021-10-26T13:40:36Z\n",
      "WEC: 1356 messages from 2020-10-02T16:48:03Z to 2021-10-26T20:57:03Z\n",
      "WELL: 1418 messages from 2020-10-01T06:14:03Z to 2021-10-26T17:04:00Z\n",
      "WFC: 22817 messages from 2020-10-01T00:58:16Z to 2021-10-26T21:20:46Z\n",
      "WIT: 1636 messages from 2020-10-02T19:32:35Z to 2021-10-26T17:50:52Z\n",
      "WM: 2694 messages from 2020-10-01T01:15:34Z to 2021-10-26T21:40:31Z\n",
      "WMB: 1667 messages from 2020-10-01T17:52:24Z to 2021-10-26T22:52:06Z\n",
      "WMT: 36356 messages from 2020-10-01T00:08:28Z to 2021-10-26T23:50:31Z\n",
      "WP: 12 messages from 2020-12-16T18:05:42Z to 2021-10-08T09:46:14Z\n",
      "WPP: 562 messages from 2020-10-01T07:58:03Z to 2021-10-25T22:20:06Z\n",
      "WY: 2113 messages from 2020-10-01T04:50:12Z to 2021-10-26T19:58:49Z\n",
      "XEL: 1577 messages from 2020-10-02T12:31:44Z to 2021-10-26T14:54:39Z\n",
      "XLNX: 6353 messages from 2020-10-01T02:20:02Z to 2021-10-26T23:52:05Z\n",
      "XOM: 40117 messages from 2020-10-01T01:05:49Z to 2021-10-26T23:55:28Z\n",
      "YUM: 2420 messages from 2020-10-02T12:16:46Z to 2021-10-26T15:15:48Z\n",
      "ZBH: 990 messages from 2020-10-02T10:14:36Z to 2021-10-26T09:57:56Z\n",
      "ZTS: 2185 messages from 2020-10-01T14:01:10Z to 2021-10-26T21:56:10Z\n"
     ]
    }
   ],
   "source": [
    "check_list = df_msg['ticker_f'].unique().tolist()\n",
    "for symbol in check_list:\n",
    "    created_at = df_msg[df_msg['ticker_f'] == symbol]['created_at'].tolist()\n",
    "    created_at.sort(key = lambda x: \n",
    "                    covert_utcTimeString_toEST(x, fmt = \"%Y-%m-%dT%H:%M:%SZ\"), \n",
    "                    reverse = True)\n",
    "    print(\"{}: {} messages from {} to {}\".format(symbol, len(created_at),\n",
    "                                     created_at[-1],\n",
    "                                    created_at[0]))"
   ]
  },
  {
   "cell_type": "markdown",
   "metadata": {
    "id": "9E5A9BAD768144508F501E54DC423D00",
    "jupyter": {},
    "notebookId": "66bd9a11f69c7398daacb180",
    "runtime": {
     "execution_status": null,
     "status": "default"
    },
    "scrolled": false,
    "slideshow": {
     "slide_type": "slide"
    },
    "tags": []
   },
   "source": [
    "## Plot"
   ]
  },
  {
   "cell_type": "code",
   "execution_count": 49,
   "metadata": {
    "collapsed": false,
    "id": "68EF15CC55A54F4C9D9F357C006C0680",
    "jupyter": {
     "outputs_hidden": false
    },
    "notebookId": "66bd9a11f69c7398daacb180",
    "slideshow": {
     "slide_type": "slide"
    },
    "tags": []
   },
   "outputs": [],
   "source": [
    "fmt = \"%Y-%m-%dT%H:%M:%SZ\"\n",
    "df_msg['created_day'] = df_msg['created_at'].apply(lambda x: datetime.datetime.strptime(x, fmt).strftime(\"%Y-%m-%d\"))"
   ]
  },
  {
   "cell_type": "code",
   "execution_count": 50,
   "metadata": {
    "collapsed": false,
    "id": "4C2F08310F004A8A8E4C6FDF003C70E6",
    "jupyter": {
     "outputs_hidden": false
    },
    "notebookId": "66bd9a11f69c7398daacb180",
    "slideshow": {
     "slide_type": "slide"
    },
    "tags": []
   },
   "outputs": [
    {
     "ename": "KeyError",
     "evalue": "'index'",
     "output_type": "error",
     "traceback": [
      "\u001b[1;31m---------------------------------------------------------------------------\u001b[0m",
      "\u001b[1;31mKeyError\u001b[0m                                  Traceback (most recent call last)",
      "\u001b[1;32m~\\AppData\\Local\\Temp\\ipykernel_22904\\772322729.py\u001b[0m in \u001b[0;36m?\u001b[1;34m()\u001b[0m\n\u001b[1;32m----> 2\u001b[1;33m \u001b[0mdf_day\u001b[0m \u001b[1;33m=\u001b[0m \u001b[0mdf_msg\u001b[0m\u001b[1;33m[\u001b[0m\u001b[1;34m'created_day'\u001b[0m\u001b[1;33m]\u001b[0m\u001b[1;33m.\u001b[0m\u001b[0mvalue_counts\u001b[0m\u001b[1;33m(\u001b[0m\u001b[1;33m)\u001b[0m\u001b[1;33m.\u001b[0m\u001b[0mto_frame\u001b[0m\u001b[1;33m(\u001b[0m\u001b[1;33m)\u001b[0m\u001b[1;33m.\u001b[0m\u001b[0mreset_index\u001b[0m\u001b[1;33m(\u001b[0m\u001b[1;33m)\u001b[0m\u001b[1;33m\u001b[0m\u001b[1;33m\u001b[0m\u001b[0m\n\u001b[0m\u001b[0;32m      3\u001b[0m \u001b[0mdf_day\u001b[0m\u001b[1;33m.\u001b[0m\u001b[0msort_values\u001b[0m\u001b[1;33m(\u001b[0m\u001b[0mby\u001b[0m \u001b[1;33m=\u001b[0m \u001b[1;33m[\u001b[0m\u001b[1;34m'index'\u001b[0m\u001b[1;33m]\u001b[0m\u001b[1;33m,\u001b[0m \u001b[0minplace\u001b[0m \u001b[1;33m=\u001b[0m \u001b[1;32mTrue\u001b[0m\u001b[1;33m)\u001b[0m\u001b[1;33m\u001b[0m\u001b[1;33m\u001b[0m\u001b[0m\n\u001b[0;32m      4\u001b[0m \u001b[0mplt\u001b[0m\u001b[1;33m.\u001b[0m\u001b[0mfigure\u001b[0m\u001b[1;33m(\u001b[0m\u001b[0mfigsize\u001b[0m \u001b[1;33m=\u001b[0m \u001b[1;33m(\u001b[0m\u001b[1;36m15\u001b[0m\u001b[1;33m,\u001b[0m\u001b[1;36m10\u001b[0m\u001b[1;33m)\u001b[0m\u001b[1;33m)\u001b[0m\u001b[1;33m\u001b[0m\u001b[1;33m\u001b[0m\u001b[0m\n\u001b[0;32m      5\u001b[0m plt.plot_date(\n",
      "\u001b[1;32md:\\Users\\lenovo\\anaconda37\\envs\\stocktwits_env\\lib\\site-packages\\pandas\\core\\frame.py\u001b[0m in \u001b[0;36m?\u001b[1;34m(self, by, axis, ascending, inplace, kind, na_position, ignore_index, key)\u001b[0m\n\u001b[0;32m   6940\u001b[0m             )\n\u001b[0;32m   6941\u001b[0m         \u001b[1;32melif\u001b[0m \u001b[0mlen\u001b[0m\u001b[1;33m(\u001b[0m\u001b[0mby\u001b[0m\u001b[1;33m)\u001b[0m\u001b[1;33m:\u001b[0m\u001b[1;33m\u001b[0m\u001b[1;33m\u001b[0m\u001b[0m\n\u001b[0;32m   6942\u001b[0m             \u001b[1;31m# len(by) == 1\u001b[0m\u001b[1;33m\u001b[0m\u001b[1;33m\u001b[0m\u001b[0m\n\u001b[0;32m   6943\u001b[0m \u001b[1;33m\u001b[0m\u001b[0m\n\u001b[1;32m-> 6944\u001b[1;33m             \u001b[0mk\u001b[0m \u001b[1;33m=\u001b[0m \u001b[0mself\u001b[0m\u001b[1;33m.\u001b[0m\u001b[0m_get_label_or_level_values\u001b[0m\u001b[1;33m(\u001b[0m\u001b[0mby\u001b[0m\u001b[1;33m[\u001b[0m\u001b[1;36m0\u001b[0m\u001b[1;33m]\u001b[0m\u001b[1;33m,\u001b[0m \u001b[0maxis\u001b[0m\u001b[1;33m=\u001b[0m\u001b[0maxis\u001b[0m\u001b[1;33m)\u001b[0m\u001b[1;33m\u001b[0m\u001b[1;33m\u001b[0m\u001b[0m\n\u001b[0m\u001b[0;32m   6945\u001b[0m \u001b[1;33m\u001b[0m\u001b[0m\n\u001b[0;32m   6946\u001b[0m             \u001b[1;31m# need to rewrap column in Series to apply key function\u001b[0m\u001b[1;33m\u001b[0m\u001b[1;33m\u001b[0m\u001b[0m\n\u001b[0;32m   6947\u001b[0m             \u001b[1;32mif\u001b[0m \u001b[0mkey\u001b[0m \u001b[1;32mis\u001b[0m \u001b[1;32mnot\u001b[0m \u001b[1;32mNone\u001b[0m\u001b[1;33m:\u001b[0m\u001b[1;33m\u001b[0m\u001b[1;33m\u001b[0m\u001b[0m\n",
      "\u001b[1;32md:\\Users\\lenovo\\anaconda37\\envs\\stocktwits_env\\lib\\site-packages\\pandas\\core\\generic.py\u001b[0m in \u001b[0;36m?\u001b[1;34m(self, key, axis)\u001b[0m\n\u001b[0;32m   1840\u001b[0m             \u001b[0mvalues\u001b[0m \u001b[1;33m=\u001b[0m \u001b[0mself\u001b[0m\u001b[1;33m.\u001b[0m\u001b[0mxs\u001b[0m\u001b[1;33m(\u001b[0m\u001b[0mkey\u001b[0m\u001b[1;33m,\u001b[0m \u001b[0maxis\u001b[0m\u001b[1;33m=\u001b[0m\u001b[0mother_axes\u001b[0m\u001b[1;33m[\u001b[0m\u001b[1;36m0\u001b[0m\u001b[1;33m]\u001b[0m\u001b[1;33m)\u001b[0m\u001b[1;33m.\u001b[0m\u001b[0m_values\u001b[0m\u001b[1;33m\u001b[0m\u001b[1;33m\u001b[0m\u001b[0m\n\u001b[0;32m   1841\u001b[0m         \u001b[1;32melif\u001b[0m \u001b[0mself\u001b[0m\u001b[1;33m.\u001b[0m\u001b[0m_is_level_reference\u001b[0m\u001b[1;33m(\u001b[0m\u001b[0mkey\u001b[0m\u001b[1;33m,\u001b[0m \u001b[0maxis\u001b[0m\u001b[1;33m=\u001b[0m\u001b[0maxis\u001b[0m\u001b[1;33m)\u001b[0m\u001b[1;33m:\u001b[0m\u001b[1;33m\u001b[0m\u001b[1;33m\u001b[0m\u001b[0m\n\u001b[0;32m   1842\u001b[0m             \u001b[0mvalues\u001b[0m \u001b[1;33m=\u001b[0m \u001b[0mself\u001b[0m\u001b[1;33m.\u001b[0m\u001b[0maxes\u001b[0m\u001b[1;33m[\u001b[0m\u001b[0maxis\u001b[0m\u001b[1;33m]\u001b[0m\u001b[1;33m.\u001b[0m\u001b[0mget_level_values\u001b[0m\u001b[1;33m(\u001b[0m\u001b[0mkey\u001b[0m\u001b[1;33m)\u001b[0m\u001b[1;33m.\u001b[0m\u001b[0m_values\u001b[0m\u001b[1;33m\u001b[0m\u001b[1;33m\u001b[0m\u001b[0m\n\u001b[0;32m   1843\u001b[0m         \u001b[1;32melse\u001b[0m\u001b[1;33m:\u001b[0m\u001b[1;33m\u001b[0m\u001b[1;33m\u001b[0m\u001b[0m\n\u001b[1;32m-> 1844\u001b[1;33m             \u001b[1;32mraise\u001b[0m \u001b[0mKeyError\u001b[0m\u001b[1;33m(\u001b[0m\u001b[0mkey\u001b[0m\u001b[1;33m)\u001b[0m\u001b[1;33m\u001b[0m\u001b[1;33m\u001b[0m\u001b[0m\n\u001b[0m\u001b[0;32m   1845\u001b[0m \u001b[1;33m\u001b[0m\u001b[0m\n\u001b[0;32m   1846\u001b[0m         \u001b[1;31m# Check for duplicates\u001b[0m\u001b[1;33m\u001b[0m\u001b[1;33m\u001b[0m\u001b[0m\n\u001b[0;32m   1847\u001b[0m         \u001b[1;32mif\u001b[0m \u001b[0mvalues\u001b[0m\u001b[1;33m.\u001b[0m\u001b[0mndim\u001b[0m \u001b[1;33m>\u001b[0m \u001b[1;36m1\u001b[0m\u001b[1;33m:\u001b[0m\u001b[1;33m\u001b[0m\u001b[1;33m\u001b[0m\u001b[0m\n",
      "\u001b[1;31mKeyError\u001b[0m: 'index'"
     ]
    }
   ],
   "source": [
    "# df_day = df_msg['created_day'].value_counts().to_frame().reset_index()\n",
    "# df_day.sort_values(by = ['index'], inplace = True)\n",
    "# plt.figure(figsize = (15,10))\n",
    "# plt.plot_date(\n",
    "#     [datetime.datetime.strptime(d, '%Y-%m-%d') for d in df_day['index'].to_list()],\n",
    "#     df_day['created_day'].to_list(),\n",
    "#     'b-'\n",
    "# )\n",
    "# plt.xlabel('Date', fontsize = 16)\n",
    "# plt.ylabel('Message Count', fontsize = 16)"
   ]
  },
  {
   "cell_type": "markdown",
   "metadata": {
    "id": "1C6F4213F73242F2BFCC682B8C96A55B",
    "jupyter": {},
    "notebookId": "66bd9a11f69c7398daacb180",
    "runtime": {
     "execution_status": null,
     "status": "default"
    },
    "scrolled": false,
    "slideshow": {
     "slide_type": "slide"
    },
    "tags": []
   },
   "source": [
    "# Analysis of Sentiment"
   ]
  },
  {
   "cell_type": "code",
   "execution_count": 51,
   "metadata": {
    "collapsed": false,
    "id": "6664D193F5EB4966BF755B2DE41057F5",
    "jupyter": {
     "outputs_hidden": false
    },
    "notebookId": "66bd9a11f69c7398daacb180",
    "slideshow": {
     "slide_type": "slide"
    },
    "tags": []
   },
   "outputs": [
    {
     "data": {
      "text/plain": [
       "label\n",
       "1    2691803\n",
       "0     783903\n",
       "Name: count, dtype: int64"
      ]
     },
     "execution_count": 51,
     "metadata": {},
     "output_type": "execute_result"
    }
   ],
   "source": [
    "df_sentiment['label'].value_counts()"
   ]
  },
  {
   "cell_type": "code",
   "execution_count": 52,
   "metadata": {
    "collapsed": false,
    "id": "BAEA7BD5EBC64537961B054172F341D1",
    "jupyter": {
     "outputs_hidden": false
    },
    "notebookId": "66bd9a11f69c7398daacb180",
    "slideshow": {
     "slide_type": "slide"
    },
    "tags": []
   },
   "outputs": [
    {
     "name": "stdout",
     "output_type": "stream",
     "text": [
      "42.37% messages have sentiment tag...\n"
     ]
    }
   ],
   "source": [
    "print(\"{:.2f}% messages have sentiment tag...\".format(\n",
    "    (df_sentiment['entities.sentiment.basic'].shape[0] - df_sentiment['entities.sentiment.basic'].isna().sum())/df_sentiment['entities.sentiment.basic'].shape[0]*100\n",
    "))"
   ]
  },
  {
   "cell_type": "code",
   "execution_count": 53,
   "metadata": {
    "collapsed": false,
    "id": "00C2671CA20442738208FC01E44589E9",
    "jupyter": {
     "outputs_hidden": false
    },
    "notebookId": "66bd9a11f69c7398daacb180",
    "slideshow": {
     "slide_type": "slide"
    },
    "tags": []
   },
   "outputs": [
    {
     "data": {
      "text/plain": [
       "{'entities.sentiment.basic', 'id'}"
      ]
     },
     "execution_count": 53,
     "metadata": {},
     "output_type": "execute_result"
    }
   ],
   "source": [
    "set(df_msg.columns) & set(df_sentiment.columns)"
   ]
  },
  {
   "cell_type": "code",
   "execution_count": 54,
   "metadata": {
    "collapsed": false,
    "id": "FA379B8A7780459CA355F2FEDEF21F93",
    "jupyter": {
     "outputs_hidden": false
    },
    "notebookId": "66bd9a11f69c7398daacb180",
    "slideshow": {
     "slide_type": "slide"
    },
    "tags": []
   },
   "outputs": [],
   "source": [
    "df_msg_sent = pd.merge(\n",
    "    df_msg,\n",
    "    df_sentiment[['id', 'label','pred_pos_prob']],\n",
    "    left_on = 'id',\n",
    "    right_on = 'id',\n",
    "    how = 'left'\n",
    ")"
   ]
  },
  {
   "cell_type": "code",
   "execution_count": 55,
   "metadata": {
    "collapsed": false,
    "id": "E689554E46C9471BA7625B97D2BE84FD",
    "jupyter": {
     "outputs_hidden": false
    },
    "notebookId": "66bd9a11f69c7398daacb180",
    "slideshow": {
     "slide_type": "slide"
    },
    "tags": []
   },
   "outputs": [
    {
     "data": {
      "text/plain": [
       "(3744701, 75)"
      ]
     },
     "execution_count": 55,
     "metadata": {},
     "output_type": "execute_result"
    }
   ],
   "source": [
    "df_msg.shape"
   ]
  },
  {
   "cell_type": "code",
   "execution_count": 56,
   "metadata": {
    "collapsed": false,
    "id": "66A98BCC5E1841C6A7CAD7CFFB6A2000",
    "jupyter": {
     "outputs_hidden": false
    },
    "notebookId": "66bd9a11f69c7398daacb180",
    "slideshow": {
     "slide_type": "slide"
    },
    "tags": []
   },
   "outputs": [
    {
     "data": {
      "text/plain": [
       "(3475706, 5)"
      ]
     },
     "execution_count": 56,
     "metadata": {},
     "output_type": "execute_result"
    }
   ],
   "source": [
    "df_sentiment.shape"
   ]
  },
  {
   "cell_type": "code",
   "execution_count": 57,
   "metadata": {
    "collapsed": false,
    "id": "B0B84CBFC9584FC5ADAFF98656E6FD90",
    "jupyter": {
     "outputs_hidden": false
    },
    "notebookId": "66bd9a11f69c7398daacb180",
    "slideshow": {
     "slide_type": "slide"
    },
    "tags": []
   },
   "outputs": [
    {
     "data": {
      "text/plain": [
       "(3744701, 77)"
      ]
     },
     "execution_count": 57,
     "metadata": {},
     "output_type": "execute_result"
    }
   ],
   "source": [
    "df_msg_sent.shape"
   ]
  },
  {
   "cell_type": "code",
   "execution_count": 58,
   "metadata": {
    "collapsed": false,
    "id": "1F3AFDFE356B48C4825929D05FBBA94E",
    "jupyter": {
     "outputs_hidden": false
    },
    "notebookId": "66bd9a11f69c7398daacb180",
    "slideshow": {
     "slide_type": "slide"
    },
    "tags": []
   },
   "outputs": [],
   "source": [
    "df_sent_day = df_msg_sent.groupby(['ticker_f', 'created_day'])['label'].mean().reset_index()"
   ]
  },
  {
   "cell_type": "code",
   "execution_count": 59,
   "metadata": {
    "collapsed": false,
    "id": "F0503067EE56437C89C33EE81860CA96",
    "jupyter": {
     "outputs_hidden": false
    },
    "notebookId": "66bd9a11f69c7398daacb180",
    "slideshow": {
     "slide_type": "slide"
    },
    "tags": []
   },
   "outputs": [
    {
     "data": {
      "text/html": [
       "<div>\n",
       "<style scoped>\n",
       "    .dataframe tbody tr th:only-of-type {\n",
       "        vertical-align: middle;\n",
       "    }\n",
       "\n",
       "    .dataframe tbody tr th {\n",
       "        vertical-align: top;\n",
       "    }\n",
       "\n",
       "    .dataframe thead th {\n",
       "        text-align: right;\n",
       "    }\n",
       "</style>\n",
       "<table border=\"1\" class=\"dataframe\">\n",
       "  <thead>\n",
       "    <tr style=\"text-align: right;\">\n",
       "      <th></th>\n",
       "      <th>ticker_f</th>\n",
       "      <th>created_day</th>\n",
       "      <th>label</th>\n",
       "    </tr>\n",
       "  </thead>\n",
       "  <tbody>\n",
       "    <tr>\n",
       "      <th>0</th>\n",
       "      <td>A</td>\n",
       "      <td>2020-10-01</td>\n",
       "      <td>0.5</td>\n",
       "    </tr>\n",
       "    <tr>\n",
       "      <th>1</th>\n",
       "      <td>A</td>\n",
       "      <td>2020-10-02</td>\n",
       "      <td>0.5</td>\n",
       "    </tr>\n",
       "    <tr>\n",
       "      <th>2</th>\n",
       "      <td>A</td>\n",
       "      <td>2020-10-03</td>\n",
       "      <td>1.0</td>\n",
       "    </tr>\n",
       "    <tr>\n",
       "      <th>3</th>\n",
       "      <td>A</td>\n",
       "      <td>2020-10-04</td>\n",
       "      <td>1.0</td>\n",
       "    </tr>\n",
       "    <tr>\n",
       "      <th>4</th>\n",
       "      <td>A</td>\n",
       "      <td>2020-10-05</td>\n",
       "      <td>1.0</td>\n",
       "    </tr>\n",
       "  </tbody>\n",
       "</table>\n",
       "</div>"
      ],
      "text/plain": [
       "  ticker_f created_day  label\n",
       "0        A  2020-10-01    0.5\n",
       "1        A  2020-10-02    0.5\n",
       "2        A  2020-10-03    1.0\n",
       "3        A  2020-10-04    1.0\n",
       "4        A  2020-10-05    1.0"
      ]
     },
     "execution_count": 59,
     "metadata": {},
     "output_type": "execute_result"
    }
   ],
   "source": [
    "df_sent_day.head()"
   ]
  },
  {
   "cell_type": "code",
   "execution_count": 60,
   "metadata": {
    "collapsed": false,
    "id": "1414B2BF86D6458CBD280C51ED37BAE3",
    "jupyter": {
     "outputs_hidden": false
    },
    "notebookId": "66bd9a11f69c7398daacb180",
    "slideshow": {
     "slide_type": "slide"
    },
    "tags": []
   },
   "outputs": [
    {
     "data": {
      "text/plain": [
       "Text(0.5, 1.0, 'Ticker: VRTX')"
      ]
     },
     "execution_count": 60,
     "metadata": {},
     "output_type": "execute_result"
    },
    {
     "data": {
      "image/png": "[encoded data removed]",
      "text/plain": [
       "<Figure size 1500x1000 with 1 Axes>"
      ]
     },
     "metadata": {},
     "output_type": "display_data"
    }
   ],
   "source": [
    "fmt = '%Y-%m-%d'\n",
    "ticker = 'VRTX'\n",
    "flag = (df_sent_day['ticker_f'] == ticker)\n",
    "plt.figure(figsize = (15,10))\n",
    "plt.plot_date(\n",
    "    df_sent_day[flag]['created_day'].apply(lambda x: datetime.datetime.strptime(x, fmt)),\n",
    "    df_sent_day[flag]['label'],\n",
    "    'b-'\n",
    ")\n",
    "plt.xlabel('Date', fontsize = 16)\n",
    "plt.ylabel('Sentiment', fontsize = 16)\n",
    "plt.ylim([0,1])\n",
    "plt.title(\"Ticker: {}\".format(ticker), fontsize = 18)"
   ]
  },
  {
   "cell_type": "markdown",
   "metadata": {
    "id": "2B35D880663141959826A3CC7AF3AAC2",
    "jupyter": {},
    "notebookId": "66bd9a11f69c7398daacb180",
    "runtime": {
     "execution_status": null,
     "status": "default"
    },
    "scrolled": false,
    "slideshow": {
     "slide_type": "slide"
    },
    "tags": []
   },
   "source": [
    "# Learning Exist??"
   ]
  },
  {
   "cell_type": "markdown",
   "metadata": {
    "id": "CF8E31BE93F64FD198A4B1D0F0BD66AF",
    "jupyter": {},
    "notebookId": "66bd9a11f69c7398daacb180",
    "runtime": {
     "execution_status": null,
     "status": "default"
    },
    "scrolled": false,
    "slideshow": {
     "slide_type": "slide"
    },
    "tags": []
   },
   "source": [
    "* short-term performance  \n",
    "* long-term performance  \n",
    "\n",
    "Expert?"
   ]
  },
  {
   "cell_type": "code",
   "execution_count": 61,
   "metadata": {
    "collapsed": false,
    "id": "A698F7F506724356892FA2E1313D9E25",
    "jupyter": {
     "outputs_hidden": false
    },
    "notebookId": "66bd9a11f69c7398daacb180",
    "slideshow": {
     "slide_type": "slide"
    },
    "tags": []
   },
   "outputs": [
    {
     "data": {
      "text/html": [
       "<div>\n",
       "<style scoped>\n",
       "    .dataframe tbody tr th:only-of-type {\n",
       "        vertical-align: middle;\n",
       "    }\n",
       "\n",
       "    .dataframe tbody tr th {\n",
       "        vertical-align: top;\n",
       "    }\n",
       "\n",
       "    .dataframe thead th {\n",
       "        text-align: right;\n",
       "    }\n",
       "</style>\n",
       "<table border=\"1\" class=\"dataframe\">\n",
       "  <thead>\n",
       "    <tr style=\"text-align: right;\">\n",
       "      <th></th>\n",
       "      <th>ticker</th>\n",
       "      <th>date</th>\n",
       "      <th>prc</th>\n",
       "      <th>prc_next1</th>\n",
       "      <th>ret_next1</th>\n",
       "      <th>up_next1</th>\n",
       "      <th>prc_next7</th>\n",
       "      <th>ret_next7</th>\n",
       "      <th>up_next7</th>\n",
       "      <th>prc_next16</th>\n",
       "      <th>...</th>\n",
       "      <th>up_next30</th>\n",
       "      <th>prc_next37</th>\n",
       "      <th>ret_next37</th>\n",
       "      <th>up_next37</th>\n",
       "      <th>prc_next44</th>\n",
       "      <th>ret_next44</th>\n",
       "      <th>up_next44</th>\n",
       "      <th>prc_next60</th>\n",
       "      <th>ret_next60</th>\n",
       "      <th>up_next60</th>\n",
       "    </tr>\n",
       "  </thead>\n",
       "  <tbody>\n",
       "    <tr>\n",
       "      <th>0</th>\n",
       "      <td>A</td>\n",
       "      <td>2020-06-29</td>\n",
       "      <td>87.29</td>\n",
       "      <td>88.37</td>\n",
       "      <td>1.012373</td>\n",
       "      <td>1</td>\n",
       "      <td>89.31</td>\n",
       "      <td>1.023141</td>\n",
       "      <td>1</td>\n",
       "      <td>92.88</td>\n",
       "      <td>...</td>\n",
       "      <td>1</td>\n",
       "      <td>97.89</td>\n",
       "      <td>1.121434</td>\n",
       "      <td>1</td>\n",
       "      <td>97.63</td>\n",
       "      <td>1.118456</td>\n",
       "      <td>1</td>\n",
       "      <td>99.90</td>\n",
       "      <td>1.144461</td>\n",
       "      <td>1</td>\n",
       "    </tr>\n",
       "    <tr>\n",
       "      <th>1</th>\n",
       "      <td>A</td>\n",
       "      <td>2020-06-30</td>\n",
       "      <td>88.37</td>\n",
       "      <td>88.11</td>\n",
       "      <td>0.997058</td>\n",
       "      <td>0</td>\n",
       "      <td>89.21</td>\n",
       "      <td>1.009505</td>\n",
       "      <td>1</td>\n",
       "      <td>92.86</td>\n",
       "      <td>...</td>\n",
       "      <td>1</td>\n",
       "      <td>97.45</td>\n",
       "      <td>1.102750</td>\n",
       "      <td>1</td>\n",
       "      <td>98.77</td>\n",
       "      <td>1.117687</td>\n",
       "      <td>1</td>\n",
       "      <td>99.90</td>\n",
       "      <td>1.130474</td>\n",
       "      <td>1</td>\n",
       "    </tr>\n",
       "    <tr>\n",
       "      <th>2</th>\n",
       "      <td>A</td>\n",
       "      <td>2020-07-01</td>\n",
       "      <td>88.11</td>\n",
       "      <td>88.68</td>\n",
       "      <td>1.006469</td>\n",
       "      <td>1</td>\n",
       "      <td>89.54</td>\n",
       "      <td>1.016230</td>\n",
       "      <td>1</td>\n",
       "      <td>94.37</td>\n",
       "      <td>...</td>\n",
       "      <td>1</td>\n",
       "      <td>97.78</td>\n",
       "      <td>1.109749</td>\n",
       "      <td>1</td>\n",
       "      <td>97.37</td>\n",
       "      <td>1.105096</td>\n",
       "      <td>1</td>\n",
       "      <td>99.90</td>\n",
       "      <td>1.133810</td>\n",
       "      <td>1</td>\n",
       "    </tr>\n",
       "    <tr>\n",
       "      <th>3</th>\n",
       "      <td>A</td>\n",
       "      <td>2020-07-02</td>\n",
       "      <td>88.68</td>\n",
       "      <td>88.68</td>\n",
       "      <td>1.000000</td>\n",
       "      <td>0</td>\n",
       "      <td>89.92</td>\n",
       "      <td>1.013983</td>\n",
       "      <td>1</td>\n",
       "      <td>94.37</td>\n",
       "      <td>...</td>\n",
       "      <td>1</td>\n",
       "      <td>97.78</td>\n",
       "      <td>1.102616</td>\n",
       "      <td>1</td>\n",
       "      <td>97.37</td>\n",
       "      <td>1.097993</td>\n",
       "      <td>1</td>\n",
       "      <td>100.42</td>\n",
       "      <td>1.132386</td>\n",
       "      <td>1</td>\n",
       "    </tr>\n",
       "    <tr>\n",
       "      <th>4</th>\n",
       "      <td>A</td>\n",
       "      <td>2020-07-03</td>\n",
       "      <td>88.68</td>\n",
       "      <td>88.68</td>\n",
       "      <td>1.000000</td>\n",
       "      <td>0</td>\n",
       "      <td>89.42</td>\n",
       "      <td>1.008345</td>\n",
       "      <td>1</td>\n",
       "      <td>94.37</td>\n",
       "      <td>...</td>\n",
       "      <td>1</td>\n",
       "      <td>97.78</td>\n",
       "      <td>1.102616</td>\n",
       "      <td>1</td>\n",
       "      <td>97.37</td>\n",
       "      <td>1.097993</td>\n",
       "      <td>1</td>\n",
       "      <td>101.12</td>\n",
       "      <td>1.140280</td>\n",
       "      <td>1</td>\n",
       "    </tr>\n",
       "  </tbody>\n",
       "</table>\n",
       "<p>5 rows × 27 columns</p>\n",
       "</div>"
      ],
      "text/plain": [
       "  ticker       date    prc  prc_next1  ret_next1  up_next1  prc_next7  \\\n",
       "0      A 2020-06-29  87.29      88.37   1.012373         1      89.31   \n",
       "1      A 2020-06-30  88.37      88.11   0.997058         0      89.21   \n",
       "2      A 2020-07-01  88.11      88.68   1.006469         1      89.54   \n",
       "3      A 2020-07-02  88.68      88.68   1.000000         0      89.92   \n",
       "4      A 2020-07-03  88.68      88.68   1.000000         0      89.42   \n",
       "\n",
       "   ret_next7  up_next7  prc_next16  ...  up_next30  prc_next37  ret_next37  \\\n",
       "0   1.023141         1       92.88  ...          1       97.89    1.121434   \n",
       "1   1.009505         1       92.86  ...          1       97.45    1.102750   \n",
       "2   1.016230         1       94.37  ...          1       97.78    1.109749   \n",
       "3   1.013983         1       94.37  ...          1       97.78    1.102616   \n",
       "4   1.008345         1       94.37  ...          1       97.78    1.102616   \n",
       "\n",
       "   up_next37  prc_next44  ret_next44  up_next44  prc_next60  ret_next60  \\\n",
       "0          1       97.63    1.118456          1       99.90    1.144461   \n",
       "1          1       98.77    1.117687          1       99.90    1.130474   \n",
       "2          1       97.37    1.105096          1       99.90    1.133810   \n",
       "3          1       97.37    1.097993          1      100.42    1.132386   \n",
       "4          1       97.37    1.097993          1      101.12    1.140280   \n",
       "\n",
       "   up_next60  \n",
       "0          1  \n",
       "1          1  \n",
       "2          1  \n",
       "3          1  \n",
       "4          1  \n",
       "\n",
       "[5 rows x 27 columns]"
      ]
     },
     "execution_count": 61,
     "metadata": {},
     "output_type": "execute_result"
    }
   ],
   "source": [
    "df_price_roll.head()"
   ]
  },
  {
   "cell_type": "code",
   "execution_count": 62,
   "metadata": {
    "collapsed": false,
    "id": "9F4EA1B8608E432F93A13CE13A66A7D4",
    "jupyter": {
     "outputs_hidden": false
    },
    "notebookId": "66bd9a11f69c7398daacb180",
    "slideshow": {
     "slide_type": "slide"
    },
    "tags": []
   },
   "outputs": [
    {
     "data": {
      "text/html": [
       "<div>\n",
       "<style scoped>\n",
       "    .dataframe tbody tr th:only-of-type {\n",
       "        vertical-align: middle;\n",
       "    }\n",
       "\n",
       "    .dataframe tbody tr th {\n",
       "        vertical-align: top;\n",
       "    }\n",
       "\n",
       "    .dataframe thead th {\n",
       "        text-align: right;\n",
       "    }\n",
       "</style>\n",
       "<table border=\"1\" class=\"dataframe\">\n",
       "  <thead>\n",
       "    <tr style=\"text-align: right;\">\n",
       "      <th></th>\n",
       "      <th>id</th>\n",
       "      <th>body</th>\n",
       "      <th>created_at</th>\n",
       "      <th>links</th>\n",
       "      <th>mentioned_users</th>\n",
       "      <th>user.id</th>\n",
       "      <th>user.username</th>\n",
       "      <th>user.name</th>\n",
       "      <th>user.avatar_url</th>\n",
       "      <th>user.avatar_url_ssl</th>\n",
       "      <th>...</th>\n",
       "      <th>structurable.price</th>\n",
       "      <th>structurable.side</th>\n",
       "      <th>structurable.trigger</th>\n",
       "      <th>structurable.brokerage_order_type</th>\n",
       "      <th>structurable.created_at</th>\n",
       "      <th>structurable.share_copy</th>\n",
       "      <th>structurable.type</th>\n",
       "      <th>created_day</th>\n",
       "      <th>label</th>\n",
       "      <th>pred_pos_prob</th>\n",
       "    </tr>\n",
       "  </thead>\n",
       "  <tbody>\n",
       "    <tr>\n",
       "      <th>0</th>\n",
       "      <td>247533715</td>\n",
       "      <td>Latest US Markets Earnings Preannouncements: $...</td>\n",
       "      <td>2020-10-01T15:21:23Z</td>\n",
       "      <td>NaN</td>\n",
       "      <td>[]</td>\n",
       "      <td>1550174</td>\n",
       "      <td>Finscreener</td>\n",
       "      <td>Finscreener</td>\n",
       "      <td>https://avatars.stocktwits.com/production/1550...</td>\n",
       "      <td>https://avatars.stocktwits.com/production/1550...</td>\n",
       "      <td>...</td>\n",
       "      <td>NaN</td>\n",
       "      <td>NaN</td>\n",
       "      <td>NaN</td>\n",
       "      <td>NaN</td>\n",
       "      <td>NaN</td>\n",
       "      <td>NaN</td>\n",
       "      <td>NaN</td>\n",
       "      <td>2020-10-01</td>\n",
       "      <td>1</td>\n",
       "      <td>0.998218</td>\n",
       "    </tr>\n",
       "    <tr>\n",
       "      <th>1</th>\n",
       "      <td>247626645</td>\n",
       "      <td>$A Form S-8 (securities to be offered to emplo...</td>\n",
       "      <td>2020-10-01T20:06:35Z</td>\n",
       "      <td>[{'title': 'S-8 Form - Securities to be offere...</td>\n",
       "      <td>[]</td>\n",
       "      <td>2762379</td>\n",
       "      <td>Newsfilter</td>\n",
       "      <td>@newsfilterio</td>\n",
       "      <td>https://avatars.stocktwits.com/production/2762...</td>\n",
       "      <td>https://avatars.stocktwits.com/production/2762...</td>\n",
       "      <td>...</td>\n",
       "      <td>NaN</td>\n",
       "      <td>NaN</td>\n",
       "      <td>NaN</td>\n",
       "      <td>NaN</td>\n",
       "      <td>NaN</td>\n",
       "      <td>NaN</td>\n",
       "      <td>NaN</td>\n",
       "      <td>2020-10-01</td>\n",
       "      <td>1</td>\n",
       "      <td>0.994090</td>\n",
       "    </tr>\n",
       "    <tr>\n",
       "      <th>2</th>\n",
       "      <td>247626778</td>\n",
       "      <td>$A [15s. delayed] filed form S-8 on October 01...</td>\n",
       "      <td>2020-10-01T20:06:55Z</td>\n",
       "      <td>[{'title': 'Flash Alert', 'url': 'https://s.fl...</td>\n",
       "      <td>[]</td>\n",
       "      <td>595702</td>\n",
       "      <td>fla</td>\n",
       "      <td>FlashAlert_me</td>\n",
       "      <td>https://avatars.stocktwits.com/production/5957...</td>\n",
       "      <td>https://avatars.stocktwits.com/production/5957...</td>\n",
       "      <td>...</td>\n",
       "      <td>NaN</td>\n",
       "      <td>NaN</td>\n",
       "      <td>NaN</td>\n",
       "      <td>NaN</td>\n",
       "      <td>NaN</td>\n",
       "      <td>NaN</td>\n",
       "      <td>NaN</td>\n",
       "      <td>2020-10-01</td>\n",
       "      <td>0</td>\n",
       "      <td>0.891912</td>\n",
       "    </tr>\n",
       "    <tr>\n",
       "      <th>3</th>\n",
       "      <td>247627289</td>\n",
       "      <td>Securities to be offered to employees in emplo...</td>\n",
       "      <td>2020-10-01T20:08:12Z</td>\n",
       "      <td>[{'title': 'Conference Call Transcripts', 'url...</td>\n",
       "      <td>[]</td>\n",
       "      <td>210967</td>\n",
       "      <td>cctranscripts</td>\n",
       "      <td>Conference Call Transcripts</td>\n",
       "      <td>https://avatars.stocktwits.com/production/2109...</td>\n",
       "      <td>https://avatars.stocktwits.com/production/2109...</td>\n",
       "      <td>...</td>\n",
       "      <td>NaN</td>\n",
       "      <td>NaN</td>\n",
       "      <td>NaN</td>\n",
       "      <td>NaN</td>\n",
       "      <td>NaN</td>\n",
       "      <td>NaN</td>\n",
       "      <td>NaN</td>\n",
       "      <td>2020-10-01</td>\n",
       "      <td>0</td>\n",
       "      <td>0.853661</td>\n",
       "    </tr>\n",
       "    <tr>\n",
       "      <th>4</th>\n",
       "      <td>247701534</td>\n",
       "      <td>$A 1 Plate with fried Rice, orange chicken and...</td>\n",
       "      <td>2020-10-02T03:05:01Z</td>\n",
       "      <td>NaN</td>\n",
       "      <td>[]</td>\n",
       "      <td>3481209</td>\n",
       "      <td>StreetWaller</td>\n",
       "      <td>Ryan</td>\n",
       "      <td>https://avatars.stocktwits.com/production/3481...</td>\n",
       "      <td>https://avatars.stocktwits.com/production/3481...</td>\n",
       "      <td>...</td>\n",
       "      <td>NaN</td>\n",
       "      <td>NaN</td>\n",
       "      <td>NaN</td>\n",
       "      <td>NaN</td>\n",
       "      <td>NaN</td>\n",
       "      <td>NaN</td>\n",
       "      <td>NaN</td>\n",
       "      <td>2020-10-02</td>\n",
       "      <td>0</td>\n",
       "      <td>0.775201</td>\n",
       "    </tr>\n",
       "  </tbody>\n",
       "</table>\n",
       "<p>5 rows × 77 columns</p>\n",
       "</div>"
      ],
      "text/plain": [
       "          id                                               body  \\\n",
       "0  247533715  Latest US Markets Earnings Preannouncements: $...   \n",
       "1  247626645  $A Form S-8 (securities to be offered to emplo...   \n",
       "2  247626778  $A [15s. delayed] filed form S-8 on October 01...   \n",
       "3  247627289  Securities to be offered to employees in emplo...   \n",
       "4  247701534  $A 1 Plate with fried Rice, orange chicken and...   \n",
       "\n",
       "             created_at                                              links  \\\n",
       "0  2020-10-01T15:21:23Z                                                NaN   \n",
       "1  2020-10-01T20:06:35Z  [{'title': 'S-8 Form - Securities to be offere...   \n",
       "2  2020-10-01T20:06:55Z  [{'title': 'Flash Alert', 'url': 'https://s.fl...   \n",
       "3  2020-10-01T20:08:12Z  [{'title': 'Conference Call Transcripts', 'url...   \n",
       "4  2020-10-02T03:05:01Z                                                NaN   \n",
       "\n",
       "  mentioned_users  user.id  user.username                    user.name  \\\n",
       "0              []  1550174    Finscreener                  Finscreener   \n",
       "1              []  2762379     Newsfilter                @newsfilterio   \n",
       "2              []   595702            fla                FlashAlert_me   \n",
       "3              []   210967  cctranscripts  Conference Call Transcripts   \n",
       "4              []  3481209   StreetWaller                         Ryan   \n",
       "\n",
       "                                     user.avatar_url  \\\n",
       "0  https://avatars.stocktwits.com/production/1550...   \n",
       "1  https://avatars.stocktwits.com/production/2762...   \n",
       "2  https://avatars.stocktwits.com/production/5957...   \n",
       "3  https://avatars.stocktwits.com/production/2109...   \n",
       "4  https://avatars.stocktwits.com/production/3481...   \n",
       "\n",
       "                                 user.avatar_url_ssl  ... structurable.price  \\\n",
       "0  https://avatars.stocktwits.com/production/1550...  ...                NaN   \n",
       "1  https://avatars.stocktwits.com/production/2762...  ...                NaN   \n",
       "2  https://avatars.stocktwits.com/production/5957...  ...                NaN   \n",
       "3  https://avatars.stocktwits.com/production/2109...  ...                NaN   \n",
       "4  https://avatars.stocktwits.com/production/3481...  ...                NaN   \n",
       "\n",
       "   structurable.side structurable.trigger structurable.brokerage_order_type  \\\n",
       "0                NaN                  NaN                               NaN   \n",
       "1                NaN                  NaN                               NaN   \n",
       "2                NaN                  NaN                               NaN   \n",
       "3                NaN                  NaN                               NaN   \n",
       "4                NaN                  NaN                               NaN   \n",
       "\n",
       "   structurable.created_at  structurable.share_copy  structurable.type  \\\n",
       "0                      NaN                      NaN                NaN   \n",
       "1                      NaN                      NaN                NaN   \n",
       "2                      NaN                      NaN                NaN   \n",
       "3                      NaN                      NaN                NaN   \n",
       "4                      NaN                      NaN                NaN   \n",
       "\n",
       "   created_day  label pred_pos_prob  \n",
       "0   2020-10-01      1      0.998218  \n",
       "1   2020-10-01      1      0.994090  \n",
       "2   2020-10-01      0      0.891912  \n",
       "3   2020-10-01      0      0.853661  \n",
       "4   2020-10-02      0      0.775201  \n",
       "\n",
       "[5 rows x 77 columns]"
      ]
     },
     "execution_count": 62,
     "metadata": {},
     "output_type": "execute_result"
    }
   ],
   "source": [
    "df_msg_sent.head()"
   ]
  },
  {
   "cell_type": "code",
   "execution_count": 63,
   "metadata": {
    "collapsed": false,
    "id": "5F966E5F49E14D319DB92C5AB9163E75",
    "jupyter": {
     "outputs_hidden": false
    },
    "notebookId": "66bd9a11f69c7398daacb180",
    "slideshow": {
     "slide_type": "slide"
    },
    "tags": []
   },
   "outputs": [],
   "source": [
    "ticker_list = list(set(df_price_roll['ticker'].unique().tolist()) & set(df_msg_sent['ticker_f'].unique().tolist()))"
   ]
  },
  {
   "cell_type": "code",
   "execution_count": 64,
   "metadata": {
    "collapsed": false,
    "id": "5E9E450977494360B0A6DB7F1D4EBCFA",
    "jupyter": {
     "outputs_hidden": false
    },
    "notebookId": "66bd9a11f69c7398daacb180",
    "slideshow": {
     "slide_type": "slide"
    },
    "tags": []
   },
   "outputs": [
    {
     "data": {
      "text/plain": [
       "333"
      ]
     },
     "execution_count": 64,
     "metadata": {},
     "output_type": "execute_result"
    }
   ],
   "source": [
    "len(ticker_list)"
   ]
  },
  {
   "cell_type": "code",
   "execution_count": 65,
   "metadata": {
    "collapsed": false,
    "id": "86C62483392345848B771742AD51B155",
    "jupyter": {
     "outputs_hidden": false
    },
    "notebookId": "66bd9a11f69c7398daacb180",
    "slideshow": {
     "slide_type": "slide"
    },
    "tags": []
   },
   "outputs": [],
   "source": [
    "df_price_roll['created_day'] = df_price_roll['date'].dt.strftime('%Y-%m-%d') "
   ]
  },
  {
   "cell_type": "code",
   "execution_count": 66,
   "metadata": {
    "collapsed": false,
    "id": "173762927FAC4F168FE3B48E1A55D770",
    "jupyter": {
     "outputs_hidden": false
    },
    "notebookId": "66bd9a11f69c7398daacb180",
    "slideshow": {
     "slide_type": "slide"
    },
    "tags": []
   },
   "outputs": [],
   "source": [
    "day_list = list(set(df_price_roll['created_day'].unique().tolist()) & set(df_msg_sent['created_day'].unique().tolist()))"
   ]
  },
  {
   "cell_type": "code",
   "execution_count": 67,
   "metadata": {
    "collapsed": false,
    "id": "6F2D255C880746BA8939CD261259D69F",
    "jupyter": {
     "outputs_hidden": false
    },
    "notebookId": "66bd9a11f69c7398daacb180",
    "slideshow": {
     "slide_type": "slide"
    },
    "tags": []
   },
   "outputs": [
    {
     "data": {
      "text/plain": [
       "391"
      ]
     },
     "execution_count": 67,
     "metadata": {},
     "output_type": "execute_result"
    }
   ],
   "source": [
    "len(day_list)"
   ]
  },
  {
   "cell_type": "markdown",
   "metadata": {
    "id": "08787C9CCD9449AC9D94D05293152626",
    "jupyter": {},
    "notebookId": "66bd9a11f69c7398daacb180",
    "runtime": {
     "execution_status": null,
     "status": "default"
    },
    "scrolled": false,
    "slideshow": {
     "slide_type": "slide"
    },
    "tags": []
   },
   "source": [
    "## Merge"
   ]
  },
  {
   "cell_type": "code",
   "execution_count": 68,
   "metadata": {
    "collapsed": false,
    "id": "F4DB0017C88D4B359FE7F56F4F445B4E",
    "jupyter": {
     "outputs_hidden": false
    },
    "notebookId": "66bd9a11f69c7398daacb180",
    "slideshow": {
     "slide_type": "slide"
    },
    "tags": []
   },
   "outputs": [],
   "source": [
    "df_msg_sent_price = pd.merge(\n",
    "    df_msg_sent,\n",
    "    df_price_roll,\n",
    "    left_on = ['ticker_f', 'created_day'],\n",
    "    right_on = ['ticker', 'created_day'],\n",
    "    how = 'left'\n",
    ")"
   ]
  },
  {
   "cell_type": "code",
   "execution_count": 69,
   "metadata": {
    "collapsed": false,
    "id": "94695D6D7DDB4BB0881AB5FA820DE235",
    "jupyter": {
     "outputs_hidden": false
    },
    "notebookId": "66bd9a11f69c7398daacb180",
    "slideshow": {
     "slide_type": "slide"
    },
    "tags": []
   },
   "outputs": [],
   "source": [
    "df_msg_sent_price = df_msg_sent_price.dropna(subset=['prc'])"
   ]
  },
  {
   "cell_type": "code",
   "execution_count": 70,
   "metadata": {
    "collapsed": false,
    "id": "84C34E369B594A23A2C82E6985F9C01E",
    "jupyter": {
     "outputs_hidden": false
    },
    "notebookId": "66bd9a11f69c7398daacb180",
    "slideshow": {
     "slide_type": "slide"
    },
    "tags": []
   },
   "outputs": [
    {
     "data": {
      "text/plain": [
       "(3744701, 77)"
      ]
     },
     "execution_count": 70,
     "metadata": {},
     "output_type": "execute_result"
    }
   ],
   "source": [
    "df_msg_sent.shape"
   ]
  },
  {
   "cell_type": "code",
   "execution_count": 71,
   "metadata": {
    "collapsed": false,
    "id": "DC92714F9F204E7F820F0CE00D6BCFD3",
    "jupyter": {
     "outputs_hidden": false
    },
    "notebookId": "66bd9a11f69c7398daacb180",
    "slideshow": {
     "slide_type": "slide"
    },
    "tags": []
   },
   "outputs": [
    {
     "data": {
      "text/plain": [
       "(3716974, 104)"
      ]
     },
     "execution_count": 71,
     "metadata": {},
     "output_type": "execute_result"
    }
   ],
   "source": [
    "df_msg_sent_price.shape"
   ]
  },
  {
   "cell_type": "code",
   "execution_count": 72,
   "metadata": {
    "collapsed": false,
    "id": "099B53794BEF4950905679F99AFE7AEF",
    "jupyter": {
     "outputs_hidden": false
    },
    "notebookId": "66bd9a11f69c7398daacb180",
    "slideshow": {
     "slide_type": "slide"
    },
    "tags": []
   },
   "outputs": [
    {
     "data": {
      "text/html": [
       "<div>\n",
       "<style scoped>\n",
       "    .dataframe tbody tr th:only-of-type {\n",
       "        vertical-align: middle;\n",
       "    }\n",
       "\n",
       "    .dataframe tbody tr th {\n",
       "        vertical-align: top;\n",
       "    }\n",
       "\n",
       "    .dataframe thead th {\n",
       "        text-align: right;\n",
       "    }\n",
       "</style>\n",
       "<table border=\"1\" class=\"dataframe\">\n",
       "  <thead>\n",
       "    <tr style=\"text-align: right;\">\n",
       "      <th></th>\n",
       "      <th>id</th>\n",
       "      <th>body</th>\n",
       "      <th>created_at</th>\n",
       "      <th>links</th>\n",
       "      <th>mentioned_users</th>\n",
       "      <th>user.id</th>\n",
       "      <th>user.username</th>\n",
       "      <th>user.name</th>\n",
       "      <th>user.avatar_url</th>\n",
       "      <th>user.avatar_url_ssl</th>\n",
       "      <th>...</th>\n",
       "      <th>up_next30</th>\n",
       "      <th>prc_next37</th>\n",
       "      <th>ret_next37</th>\n",
       "      <th>up_next37</th>\n",
       "      <th>prc_next44</th>\n",
       "      <th>ret_next44</th>\n",
       "      <th>up_next44</th>\n",
       "      <th>prc_next60</th>\n",
       "      <th>ret_next60</th>\n",
       "      <th>up_next60</th>\n",
       "    </tr>\n",
       "  </thead>\n",
       "  <tbody>\n",
       "    <tr>\n",
       "      <th>1105999</th>\n",
       "      <td>247405141</td>\n",
       "      <td>$BA for those that watch the 4 hour (which you...</td>\n",
       "      <td>2020-10-01T00:00:52Z</td>\n",
       "      <td>NaN</td>\n",
       "      <td>[]</td>\n",
       "      <td>2902789</td>\n",
       "      <td>Sarge_slaughter</td>\n",
       "      <td>Mason</td>\n",
       "      <td>https://avatars.stocktwits.com/production/2902...</td>\n",
       "      <td>https://avatars.stocktwits.com/production/2902...</td>\n",
       "      <td>...</td>\n",
       "      <td>0.0</td>\n",
       "      <td>157.74</td>\n",
       "      <td>0.939712</td>\n",
       "      <td>0.0</td>\n",
       "      <td>187.11</td>\n",
       "      <td>1.114679</td>\n",
       "      <td>1.0</td>\n",
       "      <td>210.71</td>\n",
       "      <td>1.255272</td>\n",
       "      <td>1.0</td>\n",
       "    </tr>\n",
       "    <tr>\n",
       "      <th>1106000</th>\n",
       "      <td>247405493</td>\n",
       "      <td>$BA think we might see an open around 173 and ...</td>\n",
       "      <td>2020-10-01T00:02:59Z</td>\n",
       "      <td>NaN</td>\n",
       "      <td>[]</td>\n",
       "      <td>2006225</td>\n",
       "      <td>MattMeezy</td>\n",
       "      <td>Matt</td>\n",
       "      <td>https://avatars.stocktwits.com/production/2006...</td>\n",
       "      <td>https://avatars.stocktwits.com/production/2006...</td>\n",
       "      <td>...</td>\n",
       "      <td>0.0</td>\n",
       "      <td>157.74</td>\n",
       "      <td>0.939712</td>\n",
       "      <td>0.0</td>\n",
       "      <td>187.11</td>\n",
       "      <td>1.114679</td>\n",
       "      <td>1.0</td>\n",
       "      <td>210.71</td>\n",
       "      <td>1.255272</td>\n",
       "      <td>1.0</td>\n",
       "    </tr>\n",
       "    <tr>\n",
       "      <th>1106001</th>\n",
       "      <td>247406665</td>\n",
       "      <td>$BA Ready for 180 tomorrow</td>\n",
       "      <td>2020-10-01T00:09:52Z</td>\n",
       "      <td>NaN</td>\n",
       "      <td>[]</td>\n",
       "      <td>3754904</td>\n",
       "      <td>Andy_Flower</td>\n",
       "      <td>Andy</td>\n",
       "      <td>https://avatars.stocktwits.com/production/3754...</td>\n",
       "      <td>https://avatars.stocktwits.com/production/3754...</td>\n",
       "      <td>...</td>\n",
       "      <td>0.0</td>\n",
       "      <td>157.74</td>\n",
       "      <td>0.939712</td>\n",
       "      <td>0.0</td>\n",
       "      <td>187.11</td>\n",
       "      <td>1.114679</td>\n",
       "      <td>1.0</td>\n",
       "      <td>210.71</td>\n",
       "      <td>1.255272</td>\n",
       "      <td>1.0</td>\n",
       "    </tr>\n",
       "    <tr>\n",
       "      <th>1106002</th>\n",
       "      <td>247406704</td>\n",
       "      <td>$BA please don’t bother me for the rest of the...</td>\n",
       "      <td>2020-10-01T00:10:10Z</td>\n",
       "      <td>NaN</td>\n",
       "      <td>[]</td>\n",
       "      <td>2241998</td>\n",
       "      <td>Diedrt07</td>\n",
       "      <td>Trent</td>\n",
       "      <td>https://avatars.stocktwits.com/production/2241...</td>\n",
       "      <td>https://avatars.stocktwits.com/production/2241...</td>\n",
       "      <td>...</td>\n",
       "      <td>0.0</td>\n",
       "      <td>157.74</td>\n",
       "      <td>0.939712</td>\n",
       "      <td>0.0</td>\n",
       "      <td>187.11</td>\n",
       "      <td>1.114679</td>\n",
       "      <td>1.0</td>\n",
       "      <td>210.71</td>\n",
       "      <td>1.255272</td>\n",
       "      <td>1.0</td>\n",
       "    </tr>\n",
       "    <tr>\n",
       "      <th>1106003</th>\n",
       "      <td>247407057</td>\n",
       "      <td>$BA Steve is upbeat...But no timeline...https:...</td>\n",
       "      <td>2020-10-01T00:12:22Z</td>\n",
       "      <td>[{'title': \"FAA's Dickson upbeat after flying ...</td>\n",
       "      <td>[]</td>\n",
       "      <td>1916993</td>\n",
       "      <td>Terrordome</td>\n",
       "      <td>MJ</td>\n",
       "      <td>https://avatars.stocktwits.com/production/1916...</td>\n",
       "      <td>https://avatars.stocktwits.com/production/1916...</td>\n",
       "      <td>...</td>\n",
       "      <td>0.0</td>\n",
       "      <td>157.74</td>\n",
       "      <td>0.939712</td>\n",
       "      <td>0.0</td>\n",
       "      <td>187.11</td>\n",
       "      <td>1.114679</td>\n",
       "      <td>1.0</td>\n",
       "      <td>210.71</td>\n",
       "      <td>1.255272</td>\n",
       "      <td>1.0</td>\n",
       "    </tr>\n",
       "    <tr>\n",
       "      <th>...</th>\n",
       "      <td>...</td>\n",
       "      <td>...</td>\n",
       "      <td>...</td>\n",
       "      <td>...</td>\n",
       "      <td>...</td>\n",
       "      <td>...</td>\n",
       "      <td>...</td>\n",
       "      <td>...</td>\n",
       "      <td>...</td>\n",
       "      <td>...</td>\n",
       "      <td>...</td>\n",
       "      <td>...</td>\n",
       "      <td>...</td>\n",
       "      <td>...</td>\n",
       "      <td>...</td>\n",
       "      <td>...</td>\n",
       "      <td>...</td>\n",
       "      <td>...</td>\n",
       "      <td>...</td>\n",
       "      <td>...</td>\n",
       "      <td>...</td>\n",
       "    </tr>\n",
       "    <tr>\n",
       "      <th>1245302</th>\n",
       "      <td>396406568</td>\n",
       "      <td>$BA \\n\\nOh boy, if you know… well have a good ...</td>\n",
       "      <td>2021-10-26T23:52:35Z</td>\n",
       "      <td>NaN</td>\n",
       "      <td>[]</td>\n",
       "      <td>1826913</td>\n",
       "      <td>AmyJack</td>\n",
       "      <td>Paul Cha</td>\n",
       "      <td>https://avatars.stocktwits.com/production/1826...</td>\n",
       "      <td>https://avatars.stocktwits.com/production/1826...</td>\n",
       "      <td>...</td>\n",
       "      <td>0.0</td>\n",
       "      <td>NaN</td>\n",
       "      <td>NaN</td>\n",
       "      <td>0.0</td>\n",
       "      <td>NaN</td>\n",
       "      <td>NaN</td>\n",
       "      <td>0.0</td>\n",
       "      <td>NaN</td>\n",
       "      <td>NaN</td>\n",
       "      <td>0.0</td>\n",
       "    </tr>\n",
       "    <tr>\n",
       "      <th>1245303</th>\n",
       "      <td>396406812</td>\n",
       "      <td>$BA New Money Here 📣📣📣📣📣🧞‍♂️</td>\n",
       "      <td>2021-10-26T23:53:09Z</td>\n",
       "      <td>NaN</td>\n",
       "      <td>[]</td>\n",
       "      <td>1337652</td>\n",
       "      <td>HollywoodWolf777</td>\n",
       "      <td>Wolf Gang</td>\n",
       "      <td>https://avatars.stocktwits.com/production/1337...</td>\n",
       "      <td>https://avatars.stocktwits.com/production/1337...</td>\n",
       "      <td>...</td>\n",
       "      <td>0.0</td>\n",
       "      <td>NaN</td>\n",
       "      <td>NaN</td>\n",
       "      <td>0.0</td>\n",
       "      <td>NaN</td>\n",
       "      <td>NaN</td>\n",
       "      <td>0.0</td>\n",
       "      <td>NaN</td>\n",
       "      <td>NaN</td>\n",
       "      <td>0.0</td>\n",
       "    </tr>\n",
       "    <tr>\n",
       "      <th>1245304</th>\n",
       "      <td>396407160</td>\n",
       "      <td>$BA I am so conditioned to be disappointed by ...</td>\n",
       "      <td>2021-10-26T23:53:54Z</td>\n",
       "      <td>NaN</td>\n",
       "      <td>[]</td>\n",
       "      <td>472180</td>\n",
       "      <td>stinaz</td>\n",
       "      <td>Jake</td>\n",
       "      <td>https://avatars.stocktwits.com/production/4721...</td>\n",
       "      <td>https://avatars.stocktwits.com/production/4721...</td>\n",
       "      <td>...</td>\n",
       "      <td>0.0</td>\n",
       "      <td>NaN</td>\n",
       "      <td>NaN</td>\n",
       "      <td>0.0</td>\n",
       "      <td>NaN</td>\n",
       "      <td>NaN</td>\n",
       "      <td>0.0</td>\n",
       "      <td>NaN</td>\n",
       "      <td>NaN</td>\n",
       "      <td>0.0</td>\n",
       "    </tr>\n",
       "    <tr>\n",
       "      <th>1245305</th>\n",
       "      <td>396409206</td>\n",
       "      <td>$BA 29-Oct-21 ATM Implied Volatility is up +23...</td>\n",
       "      <td>2021-10-26T23:58:43Z</td>\n",
       "      <td>[{'title': 'Market Chameleon', 'url': 'https:/...</td>\n",
       "      <td>[]</td>\n",
       "      <td>800154</td>\n",
       "      <td>marketchameleonwins</td>\n",
       "      <td>marketchameleon</td>\n",
       "      <td>https://avatars.stocktwits.com/production/8001...</td>\n",
       "      <td>https://avatars.stocktwits.com/production/8001...</td>\n",
       "      <td>...</td>\n",
       "      <td>0.0</td>\n",
       "      <td>NaN</td>\n",
       "      <td>NaN</td>\n",
       "      <td>0.0</td>\n",
       "      <td>NaN</td>\n",
       "      <td>NaN</td>\n",
       "      <td>0.0</td>\n",
       "      <td>NaN</td>\n",
       "      <td>NaN</td>\n",
       "      <td>0.0</td>\n",
       "    </tr>\n",
       "    <tr>\n",
       "      <th>1245306</th>\n",
       "      <td>396409430</td>\n",
       "      <td>$BA Go on Twitter and search “$BA”. For some r...</td>\n",
       "      <td>2021-10-26T23:59:20Z</td>\n",
       "      <td>NaN</td>\n",
       "      <td>[]</td>\n",
       "      <td>4347216</td>\n",
       "      <td>Seca</td>\n",
       "      <td>D B</td>\n",
       "      <td>https://avatars.stocktwits.com/production/4347...</td>\n",
       "      <td>https://avatars.stocktwits.com/production/4347...</td>\n",
       "      <td>...</td>\n",
       "      <td>0.0</td>\n",
       "      <td>NaN</td>\n",
       "      <td>NaN</td>\n",
       "      <td>0.0</td>\n",
       "      <td>NaN</td>\n",
       "      <td>NaN</td>\n",
       "      <td>0.0</td>\n",
       "      <td>NaN</td>\n",
       "      <td>NaN</td>\n",
       "      <td>0.0</td>\n",
       "    </tr>\n",
       "  </tbody>\n",
       "</table>\n",
       "<p>139308 rows × 104 columns</p>\n",
       "</div>"
      ],
      "text/plain": [
       "                id                                               body  \\\n",
       "1105999  247405141  $BA for those that watch the 4 hour (which you...   \n",
       "1106000  247405493  $BA think we might see an open around 173 and ...   \n",
       "1106001  247406665                         $BA Ready for 180 tomorrow   \n",
       "1106002  247406704  $BA please don’t bother me for the rest of the...   \n",
       "1106003  247407057  $BA Steve is upbeat...But no timeline...https:...   \n",
       "...            ...                                                ...   \n",
       "1245302  396406568  $BA \\n\\nOh boy, if you know… well have a good ...   \n",
       "1245303  396406812                       $BA New Money Here 📣📣📣📣📣🧞‍♂️   \n",
       "1245304  396407160  $BA I am so conditioned to be disappointed by ...   \n",
       "1245305  396409206  $BA 29-Oct-21 ATM Implied Volatility is up +23...   \n",
       "1245306  396409430  $BA Go on Twitter and search “$BA”. For some r...   \n",
       "\n",
       "                   created_at  \\\n",
       "1105999  2020-10-01T00:00:52Z   \n",
       "1106000  2020-10-01T00:02:59Z   \n",
       "1106001  2020-10-01T00:09:52Z   \n",
       "1106002  2020-10-01T00:10:10Z   \n",
       "1106003  2020-10-01T00:12:22Z   \n",
       "...                       ...   \n",
       "1245302  2021-10-26T23:52:35Z   \n",
       "1245303  2021-10-26T23:53:09Z   \n",
       "1245304  2021-10-26T23:53:54Z   \n",
       "1245305  2021-10-26T23:58:43Z   \n",
       "1245306  2021-10-26T23:59:20Z   \n",
       "\n",
       "                                                     links mentioned_users  \\\n",
       "1105999                                                NaN              []   \n",
       "1106000                                                NaN              []   \n",
       "1106001                                                NaN              []   \n",
       "1106002                                                NaN              []   \n",
       "1106003  [{'title': \"FAA's Dickson upbeat after flying ...              []   \n",
       "...                                                    ...             ...   \n",
       "1245302                                                NaN              []   \n",
       "1245303                                                NaN              []   \n",
       "1245304                                                NaN              []   \n",
       "1245305  [{'title': 'Market Chameleon', 'url': 'https:/...              []   \n",
       "1245306                                                NaN              []   \n",
       "\n",
       "         user.id        user.username        user.name  \\\n",
       "1105999  2902789      Sarge_slaughter            Mason   \n",
       "1106000  2006225            MattMeezy             Matt   \n",
       "1106001  3754904          Andy_Flower             Andy   \n",
       "1106002  2241998             Diedrt07            Trent   \n",
       "1106003  1916993           Terrordome               MJ   \n",
       "...          ...                  ...              ...   \n",
       "1245302  1826913              AmyJack         Paul Cha   \n",
       "1245303  1337652     HollywoodWolf777        Wolf Gang   \n",
       "1245304   472180               stinaz             Jake   \n",
       "1245305   800154  marketchameleonwins  marketchameleon   \n",
       "1245306  4347216                 Seca              D B   \n",
       "\n",
       "                                           user.avatar_url  \\\n",
       "1105999  https://avatars.stocktwits.com/production/2902...   \n",
       "1106000  https://avatars.stocktwits.com/production/2006...   \n",
       "1106001  https://avatars.stocktwits.com/production/3754...   \n",
       "1106002  https://avatars.stocktwits.com/production/2241...   \n",
       "1106003  https://avatars.stocktwits.com/production/1916...   \n",
       "...                                                    ...   \n",
       "1245302  https://avatars.stocktwits.com/production/1826...   \n",
       "1245303  https://avatars.stocktwits.com/production/1337...   \n",
       "1245304  https://avatars.stocktwits.com/production/4721...   \n",
       "1245305  https://avatars.stocktwits.com/production/8001...   \n",
       "1245306  https://avatars.stocktwits.com/production/4347...   \n",
       "\n",
       "                                       user.avatar_url_ssl  ... up_next30  \\\n",
       "1105999  https://avatars.stocktwits.com/production/2902...  ...       0.0   \n",
       "1106000  https://avatars.stocktwits.com/production/2006...  ...       0.0   \n",
       "1106001  https://avatars.stocktwits.com/production/3754...  ...       0.0   \n",
       "1106002  https://avatars.stocktwits.com/production/2241...  ...       0.0   \n",
       "1106003  https://avatars.stocktwits.com/production/1916...  ...       0.0   \n",
       "...                                                    ...  ...       ...   \n",
       "1245302  https://avatars.stocktwits.com/production/1826...  ...       0.0   \n",
       "1245303  https://avatars.stocktwits.com/production/1337...  ...       0.0   \n",
       "1245304  https://avatars.stocktwits.com/production/4721...  ...       0.0   \n",
       "1245305  https://avatars.stocktwits.com/production/8001...  ...       0.0   \n",
       "1245306  https://avatars.stocktwits.com/production/4347...  ...       0.0   \n",
       "\n",
       "         prc_next37 ret_next37 up_next37  prc_next44  ret_next44  up_next44  \\\n",
       "1105999      157.74   0.939712       0.0      187.11    1.114679        1.0   \n",
       "1106000      157.74   0.939712       0.0      187.11    1.114679        1.0   \n",
       "1106001      157.74   0.939712       0.0      187.11    1.114679        1.0   \n",
       "1106002      157.74   0.939712       0.0      187.11    1.114679        1.0   \n",
       "1106003      157.74   0.939712       0.0      187.11    1.114679        1.0   \n",
       "...             ...        ...       ...         ...         ...        ...   \n",
       "1245302         NaN        NaN       0.0         NaN         NaN        0.0   \n",
       "1245303         NaN        NaN       0.0         NaN         NaN        0.0   \n",
       "1245304         NaN        NaN       0.0         NaN         NaN        0.0   \n",
       "1245305         NaN        NaN       0.0         NaN         NaN        0.0   \n",
       "1245306         NaN        NaN       0.0         NaN         NaN        0.0   \n",
       "\n",
       "         prc_next60  ret_next60 up_next60  \n",
       "1105999      210.71    1.255272       1.0  \n",
       "1106000      210.71    1.255272       1.0  \n",
       "1106001      210.71    1.255272       1.0  \n",
       "1106002      210.71    1.255272       1.0  \n",
       "1106003      210.71    1.255272       1.0  \n",
       "...             ...         ...       ...  \n",
       "1245302         NaN         NaN       0.0  \n",
       "1245303         NaN         NaN       0.0  \n",
       "1245304         NaN         NaN       0.0  \n",
       "1245305         NaN         NaN       0.0  \n",
       "1245306         NaN         NaN       0.0  \n",
       "\n",
       "[139308 rows x 104 columns]"
      ]
     },
     "execution_count": 72,
     "metadata": {},
     "output_type": "execute_result"
    }
   ],
   "source": [
    "ticker = 'BA'\n",
    "flag = (df_msg_sent_price['ticker'] == ticker)\n",
    "df_msg_sent_price[flag]"
   ]
  },
  {
   "cell_type": "code",
   "execution_count": 73,
   "metadata": {
    "collapsed": false,
    "id": "F69F4929C3D24ECDBE6539E6294D02B2",
    "jupyter": {
     "outputs_hidden": false
    },
    "notebookId": "66bd9a11f69c7398daacb180",
    "slideshow": {
     "slide_type": "slide"
    },
    "tags": []
   },
   "outputs": [
    {
     "data": {
      "text/plain": [
       "{'id': 247533715,\n",
       " 'body': 'Latest US Markets Earnings Preannouncements: $A $AAL $AAN $AAP $AAPL\\nSource: Finscreener',\n",
       " 'created_at': '2020-10-01T15:21:23Z',\n",
       " 'links': nan,\n",
       " 'mentioned_users': '[]',\n",
       " 'user.id': 1550174,\n",
       " 'user.username': 'Finscreener',\n",
       " 'user.name': 'Finscreener',\n",
       " 'user.avatar_url': 'https://avatars.stocktwits.com/production/1550174/thumb-1531918007.png',\n",
       " 'user.avatar_url_ssl': 'https://avatars.stocktwits.com/production/1550174/thumb-1531918007.png',\n",
       " 'user.join_date': '2018-07-18',\n",
       " 'user.official': False,\n",
       " 'user.identity': 'User',\n",
       " 'user.classification': '[]',\n",
       " 'user.followers': 1453,\n",
       " 'user.following': 28,\n",
       " 'user.ideas': 11715,\n",
       " 'user.watchlist_stocks_count': 0,\n",
       " 'user.like_count': 45,\n",
       " 'user.plus_tier': nan,\n",
       " 'user.premium_room': nan,\n",
       " 'user.trade_app': False,\n",
       " 'user.portfolio_waitlist': nan,\n",
       " 'user.portfolio_status': nan,\n",
       " 'source.id': 2269,\n",
       " 'source.title': 'StockTwits Web',\n",
       " 'source.url': 'https://stocktwits.com',\n",
       " 'entities.sentiment': nan,\n",
       " 'entities.sentiment.basic': nan,\n",
       " 'likes.total': nan,\n",
       " 'likes.user_ids': nan,\n",
       " 'entities.chart.thumb': 'https://charts.stocktwits.com/production/small_247533715.PNG',\n",
       " 'entities.chart.large': 'https://charts.stocktwits.com/production/large_247533715.PNG',\n",
       " 'entities.chart.original': 'https://charts.stocktwits.com/production/original_247533715.PNG',\n",
       " 'entities.chart.url': 'https://charts.stocktwits.com/production/original_247533715.PNG',\n",
       " 'conversation.parent_message_id': nan,\n",
       " 'conversation.in_reply_to_message_id': nan,\n",
       " 'conversation.parent': nan,\n",
       " 'conversation.replies': nan,\n",
       " 'user.portfolio': nan,\n",
       " 'reshares.reshared_count': nan,\n",
       " 'reshares.user_ids': nan,\n",
       " 'entities.giphy.id': nan,\n",
       " 'entities.giphy.ratio': nan,\n",
       " 'symbol0': \"{'id': 686, 'symbol': 'AAPL', 'title': 'Apple Inc.', 'aliases': [], 'is_following': False, 'watchlist_count': 750439, 'has_pricing': True}\",\n",
       " 'symbol1': \"{'id': 4201, 'symbol': 'A', 'title': 'Agilent Technologies Inc.', 'aliases': [], 'is_following': False, 'watchlist_count': 2566, 'has_pricing': True}\",\n",
       " 'symbol2': \"{'id': 4204, 'symbol': 'AAP', 'title': 'Advance Auto Parts Inc.', 'aliases': [], 'is_following': False, 'watchlist_count': 2608, 'has_pricing': True}\",\n",
       " 'symbol3': '{\\'id\\': 8066, \\'symbol\\': \\'AAN\\', \\'title\\': \"Aaron\\'s, Inc.\", \\'aliases\\': [], \\'is_following\\': False, \\'watchlist_count\\': 676, \\'has_pricing\\': True}',\n",
       " 'symbol4': \"{'id': 11711, 'symbol': 'AAL', 'title': 'American Airlines Group', 'aliases': ['LCC', 'AAMRQ'], 'is_following': False, 'watchlist_count': 94383, 'has_pricing': True}\",\n",
       " 'ticker_f': 'A',\n",
       " 'ticker0': 'AAPL',\n",
       " 'ticker1': 'A',\n",
       " 'ticker2': 'AAP',\n",
       " 'ticker3': 'AAN',\n",
       " 'ticker4': 'AAL',\n",
       " 'owned_symbols': nan,\n",
       " 'reshare_message.reshared_count': nan,\n",
       " 'reshare_message.reshared_deleted': nan,\n",
       " 'reshare_message.reshared_user_deleted': nan,\n",
       " 'reshare_message.parent_reshared_deleted': nan,\n",
       " 'reshare_message.parent_reshared_url': nan,\n",
       " 'reshare_message.parent_reshared_message_id': nan,\n",
       " 'structurable.id': nan,\n",
       " 'structurable.symbol': nan,\n",
       " 'structurable.shares_quantity': nan,\n",
       " 'structurable.state': nan,\n",
       " 'structurable.order_type': nan,\n",
       " 'structurable.price': nan,\n",
       " 'structurable.side': nan,\n",
       " 'structurable.trigger': nan,\n",
       " 'structurable.brokerage_order_type': nan,\n",
       " 'structurable.created_at': nan,\n",
       " 'structurable.share_copy': nan,\n",
       " 'structurable.type': nan,\n",
       " 'created_day': '2020-10-01',\n",
       " 'label': 1,\n",
       " 'pred_pos_prob': 0.9982184767723083,\n",
       " 'ticker': 'A',\n",
       " 'date': Timestamp('2020-10-01 00:00:00'),\n",
       " 'prc': 101.22,\n",
       " 'prc_next1': 100.01,\n",
       " 'ret_next1': 0.9880458407429362,\n",
       " 'up_next1': 0.0,\n",
       " 'prc_next7': 104.16,\n",
       " 'ret_next7': 1.0290456431535269,\n",
       " 'up_next7': 1.0,\n",
       " 'prc_next16': 106.7,\n",
       " 'ret_next16': 1.0541394981229006,\n",
       " 'up_next16': 1.0,\n",
       " 'prc_next23': 106.17,\n",
       " 'ret_next23': 1.0489033787788975,\n",
       " 'up_next23': 1.0,\n",
       " 'prc_next30': 102.09,\n",
       " 'ret_next30': 1.0085951393005335,\n",
       " 'up_next30': 1.0,\n",
       " 'prc_next37': 112.54,\n",
       " 'ret_next37': 1.1118356056115393,\n",
       " 'up_next37': 1.0,\n",
       " 'prc_next44': 110.17,\n",
       " 'ret_next44': 1.0884212606204309,\n",
       " 'up_next44': 1.0,\n",
       " 'prc_next60': 116.9,\n",
       " 'ret_next60': 1.1549100968188106,\n",
       " 'up_next60': 1.0}"
      ]
     },
     "execution_count": 73,
     "metadata": {},
     "output_type": "execute_result"
    }
   ],
   "source": [
    "df_msg_sent_price.iloc[0].to_dict()"
   ]
  },
  {
   "cell_type": "markdown",
   "metadata": {
    "id": "3C54988CE7B44FA6B1BDB93774A348BA",
    "jupyter": {},
    "notebookId": "66bd9a11f69c7398daacb180",
    "runtime": {
     "execution_status": null,
     "status": "default"
    },
    "scrolled": false,
    "slideshow": {
     "slide_type": "slide"
    },
    "tags": []
   },
   "source": [
    "## `df_trend`: Trend?"
   ]
  },
  {
   "cell_type": "markdown",
   "metadata": {
    "id": "1A4E2564892E4C3A8C086ADBCCC70CAD",
    "jupyter": {},
    "notebookId": "66bd9a11f69c7398daacb180",
    "runtime": {
     "execution_status": null,
     "status": "default"
    },
    "scrolled": false,
    "slideshow": {
     "slide_type": "slide"
    },
    "tags": []
   },
   "source": [
    "* [Time Series Components](https://machinelearningmastery.com/decompose-time-series-data-trend-seasonality/)"
   ]
  },
  {
   "cell_type": "code",
   "execution_count": 74,
   "metadata": {
    "collapsed": false,
    "id": "339B5FB1E1484060A61364BE7B18618D",
    "jupyter": {
     "outputs_hidden": false
    },
    "notebookId": "66bd9a11f69c7398daacb180",
    "slideshow": {
     "slide_type": "slide"
    },
    "tags": []
   },
   "outputs": [
    {
     "data": {
      "text/plain": [
       "333"
      ]
     },
     "execution_count": 74,
     "metadata": {},
     "output_type": "execute_result"
    }
   ],
   "source": [
    "len(ticker_list)"
   ]
  },
  {
   "cell_type": "code",
   "execution_count": 75,
   "metadata": {
    "collapsed": false,
    "id": "A9EA5C34242545CE835549BE7676460A",
    "jupyter": {
     "outputs_hidden": false
    },
    "notebookId": "66bd9a11f69c7398daacb180",
    "slideshow": {
     "slide_type": "slide"
    },
    "tags": []
   },
   "outputs": [],
   "source": [
    "# window size of performance\n",
    "window_t = 7"
   ]
  },
  {
   "cell_type": "markdown",
   "metadata": {
    "id": "736F32373D3F42C0B01BA6237675BAC9",
    "jupyter": {},
    "notebookId": "66bd9a11f69c7398daacb180",
    "runtime": {
     "execution_status": null,
     "status": "default"
    },
    "scrolled": false,
    "slideshow": {
     "slide_type": "slide"
    },
    "tags": []
   },
   "source": [
    "### `panel_price`"
   ]
  },
  {
   "cell_type": "code",
   "execution_count": 76,
   "metadata": {
    "collapsed": false,
    "id": "53AFFA957791446A81FC29E400E984F3",
    "jupyter": {
     "outputs_hidden": false
    },
    "notebookId": "66bd9a11f69c7398daacb180",
    "slideshow": {
     "slide_type": "slide"
    },
    "tags": []
   },
   "outputs": [
    {
     "data": {
      "text/plain": [
       "Index(['ticker', 'date', 'prc', 'prc_next1', 'ret_next1', 'up_next1',\n",
       "       'prc_next7', 'ret_next7', 'up_next7', 'prc_next16', 'ret_next16',\n",
       "       'up_next16', 'prc_next23', 'ret_next23', 'up_next23', 'prc_next30',\n",
       "       'ret_next30', 'up_next30', 'prc_next37', 'ret_next37', 'up_next37',\n",
       "       'prc_next44', 'ret_next44', 'up_next44', 'prc_next60', 'ret_next60',\n",
       "       'up_next60', 'created_day'],\n",
       "      dtype='object')"
      ]
     },
     "execution_count": 76,
     "metadata": {},
     "output_type": "execute_result"
    }
   ],
   "source": [
    "df_price_roll.columns"
   ]
  },
  {
   "cell_type": "code",
   "execution_count": 77,
   "metadata": {
    "collapsed": false,
    "id": "02D7F67042E54EB586251FFCEF36FEEF",
    "jupyter": {
     "outputs_hidden": false
    },
    "notebookId": "66bd9a11f69c7398daacb180",
    "slideshow": {
     "slide_type": "slide"
    },
    "tags": []
   },
   "outputs": [],
   "source": [
    "col = ['prc', 'prc_next1', 'ret_next1', 'up_next1',\n",
    "       'prc_next7', 'ret_next7', 'up_next7', 'prc_next16', 'ret_next16',\n",
    "       'up_next16', 'prc_next23', 'ret_next23', 'up_next23', 'prc_next30',\n",
    "       'ret_next30', 'up_next30', 'prc_next37', 'ret_next37', 'up_next37',\n",
    "       'prc_next44', 'ret_next44', 'up_next44', 'prc_next60', 'ret_next60',\n",
    "       'up_next60']"
   ]
  },
  {
   "cell_type": "code",
   "execution_count": 78,
   "metadata": {
    "collapsed": false,
    "id": "EC7B81861AD04D9688FE5A81D0616A0D",
    "jupyter": {
     "outputs_hidden": false
    },
    "notebookId": "66bd9a11f69c7398daacb180",
    "slideshow": {
     "slide_type": "slide"
    },
    "tags": []
   },
   "outputs": [],
   "source": [
    "panel_price = df_msg_sent_price.groupby(['ticker_f', 'created_day'])[col].mean().reset_index()"
   ]
  },
  {
   "cell_type": "code",
   "execution_count": 107,
   "metadata": {
    "collapsed": false,
    "id": "244B026D727D45CBA4882734032BCE88",
    "jupyter": {
     "outputs_hidden": false
    },
    "notebookId": "66bd9a11f69c7398daacb180",
    "slideshow": {
     "slide_type": "slide"
    },
    "tags": []
   },
   "outputs": [],
   "source": [
    "# panel_price = df_msg_sent_price.groupby(['ticker_f', 'created_day'])['prc'].mean().reset_index()\n",
    "# panel_price['prc'].fillna(method = 'ffill', inplace = True)\n",
    "# for window_t in [1,7,30,60]:\n",
    "#     panel_price['prc_next{}'.format(window_t)] = panel_price.groupby(['ticker_f'])['prc'].shift(-window_t)\n",
    "#     panel_price['ret_next{}'.format(window_t)] = panel_price['prc_next{}'.format(window_t)]/panel_price['prc']\n",
    "#     panel_price['up_next{}'.format(window_t)] = (panel_price['ret_next{}'.format(window_t)] > 1.0).astype(int)"
   ]
  },
  {
   "cell_type": "code",
   "execution_count": 108,
   "metadata": {
    "collapsed": false,
    "id": "7C99BC2E7AD148FE94EB10F2589FDE4F",
    "jupyter": {
     "outputs_hidden": false
    },
    "notebookId": "66bd9a11f69c7398daacb180",
    "slideshow": {
     "slide_type": "slide"
    },
    "tags": []
   },
   "outputs": [],
   "source": [
    "# panel_price['prc_next{}'.format(window_t)] = panel_price.groupby(['ticker_f'])['prc'].shift(-window_t)\n",
    "# panel_price['ret_next{}'.format(window_t)] = panel_price['prc_next{}'.format(window_t)]/panel_price['prc']\n",
    "# panel_price['up_next{}'.format(window_t)] = (panel_price['ret_next{}'.format(window_t)] > 1.0).astype(int)"
   ]
  },
  {
   "cell_type": "code",
   "execution_count": 66,
   "metadata": {
    "collapsed": false,
    "id": "3DA5EDFDBA774AE8A255AB12EA6C4955",
    "jupyter": {
     "outputs_hidden": false
    },
    "notebookId": "66bd9a11f69c7398daacb180",
    "slideshow": {
     "slide_type": "slide"
    },
    "tags": []
   },
   "outputs": [],
   "source": [
    "# df_price[\n",
    "#     (df_price['ticker'] == 'BA') &\n",
    "#     (df_price['date'] == '2020-10-01')\n",
    "# ]"
   ]
  },
  {
   "cell_type": "code",
   "execution_count": 79,
   "metadata": {
    "collapsed": false,
    "id": "4DEFDDAC9A1C40E080D09F120D53CF0B",
    "jupyter": {
     "outputs_hidden": false
    },
    "notebookId": "66bd9a11f69c7398daacb180",
    "slideshow": {
     "slide_type": "slide"
    },
    "tags": []
   },
   "outputs": [],
   "source": [
    "for x in [1,7,16,23,30,37,44,60]:\n",
    "    panel_price[['up_next{}'.format(x)]] = panel_price[['up_next{}'.format(x)]].astype(int)"
   ]
  },
  {
   "cell_type": "code",
   "execution_count": 80,
   "metadata": {
    "collapsed": false,
    "id": "F7A482A1E0954BE88D88290965278872",
    "jupyter": {
     "outputs_hidden": false
    },
    "notebookId": "66bd9a11f69c7398daacb180",
    "slideshow": {
     "slide_type": "slide"
    },
    "tags": []
   },
   "outputs": [
    {
     "data": {
      "text/html": [
       "<div>\n",
       "<style scoped>\n",
       "    .dataframe tbody tr th:only-of-type {\n",
       "        vertical-align: middle;\n",
       "    }\n",
       "\n",
       "    .dataframe tbody tr th {\n",
       "        vertical-align: top;\n",
       "    }\n",
       "\n",
       "    .dataframe thead th {\n",
       "        text-align: right;\n",
       "    }\n",
       "</style>\n",
       "<table border=\"1\" class=\"dataframe\">\n",
       "  <thead>\n",
       "    <tr style=\"text-align: right;\">\n",
       "      <th></th>\n",
       "      <th>ticker_f</th>\n",
       "      <th>created_day</th>\n",
       "      <th>prc</th>\n",
       "      <th>prc_next1</th>\n",
       "      <th>ret_next1</th>\n",
       "      <th>up_next1</th>\n",
       "      <th>prc_next7</th>\n",
       "      <th>ret_next7</th>\n",
       "      <th>up_next7</th>\n",
       "      <th>prc_next16</th>\n",
       "      <th>...</th>\n",
       "      <th>up_next30</th>\n",
       "      <th>prc_next37</th>\n",
       "      <th>ret_next37</th>\n",
       "      <th>up_next37</th>\n",
       "      <th>prc_next44</th>\n",
       "      <th>ret_next44</th>\n",
       "      <th>up_next44</th>\n",
       "      <th>prc_next60</th>\n",
       "      <th>ret_next60</th>\n",
       "      <th>up_next60</th>\n",
       "    </tr>\n",
       "  </thead>\n",
       "  <tbody>\n",
       "    <tr>\n",
       "      <th>0</th>\n",
       "      <td>A</td>\n",
       "      <td>2020-10-01</td>\n",
       "      <td>101.22</td>\n",
       "      <td>100.01</td>\n",
       "      <td>0.988046</td>\n",
       "      <td>0</td>\n",
       "      <td>104.16</td>\n",
       "      <td>1.029046</td>\n",
       "      <td>1</td>\n",
       "      <td>106.70</td>\n",
       "      <td>...</td>\n",
       "      <td>1</td>\n",
       "      <td>112.54</td>\n",
       "      <td>1.111836</td>\n",
       "      <td>1</td>\n",
       "      <td>110.17</td>\n",
       "      <td>1.088421</td>\n",
       "      <td>1</td>\n",
       "      <td>116.90</td>\n",
       "      <td>1.154910</td>\n",
       "      <td>1</td>\n",
       "    </tr>\n",
       "    <tr>\n",
       "      <th>1</th>\n",
       "      <td>A</td>\n",
       "      <td>2020-10-02</td>\n",
       "      <td>100.01</td>\n",
       "      <td>100.01</td>\n",
       "      <td>1.000000</td>\n",
       "      <td>0</td>\n",
       "      <td>105.76</td>\n",
       "      <td>1.057494</td>\n",
       "      <td>1</td>\n",
       "      <td>106.70</td>\n",
       "      <td>...</td>\n",
       "      <td>1</td>\n",
       "      <td>112.54</td>\n",
       "      <td>1.125287</td>\n",
       "      <td>1</td>\n",
       "      <td>110.17</td>\n",
       "      <td>1.101590</td>\n",
       "      <td>1</td>\n",
       "      <td>115.36</td>\n",
       "      <td>1.153485</td>\n",
       "      <td>1</td>\n",
       "    </tr>\n",
       "    <tr>\n",
       "      <th>2</th>\n",
       "      <td>A</td>\n",
       "      <td>2020-10-03</td>\n",
       "      <td>100.01</td>\n",
       "      <td>100.01</td>\n",
       "      <td>1.000000</td>\n",
       "      <td>0</td>\n",
       "      <td>105.76</td>\n",
       "      <td>1.057494</td>\n",
       "      <td>1</td>\n",
       "      <td>105.49</td>\n",
       "      <td>...</td>\n",
       "      <td>1</td>\n",
       "      <td>112.50</td>\n",
       "      <td>1.124888</td>\n",
       "      <td>1</td>\n",
       "      <td>110.27</td>\n",
       "      <td>1.102590</td>\n",
       "      <td>1</td>\n",
       "      <td>114.57</td>\n",
       "      <td>1.145585</td>\n",
       "      <td>1</td>\n",
       "    </tr>\n",
       "    <tr>\n",
       "      <th>3</th>\n",
       "      <td>A</td>\n",
       "      <td>2020-10-04</td>\n",
       "      <td>100.01</td>\n",
       "      <td>103.12</td>\n",
       "      <td>1.031097</td>\n",
       "      <td>1</td>\n",
       "      <td>105.76</td>\n",
       "      <td>1.057494</td>\n",
       "      <td>1</td>\n",
       "      <td>105.61</td>\n",
       "      <td>...</td>\n",
       "      <td>1</td>\n",
       "      <td>110.20</td>\n",
       "      <td>1.101890</td>\n",
       "      <td>1</td>\n",
       "      <td>109.86</td>\n",
       "      <td>1.098490</td>\n",
       "      <td>1</td>\n",
       "      <td>113.58</td>\n",
       "      <td>1.135686</td>\n",
       "      <td>1</td>\n",
       "    </tr>\n",
       "    <tr>\n",
       "      <th>4</th>\n",
       "      <td>A</td>\n",
       "      <td>2020-10-05</td>\n",
       "      <td>103.12</td>\n",
       "      <td>101.63</td>\n",
       "      <td>0.985551</td>\n",
       "      <td>0</td>\n",
       "      <td>105.43</td>\n",
       "      <td>1.022401</td>\n",
       "      <td>1</td>\n",
       "      <td>104.83</td>\n",
       "      <td>...</td>\n",
       "      <td>1</td>\n",
       "      <td>109.41</td>\n",
       "      <td>1.060997</td>\n",
       "      <td>1</td>\n",
       "      <td>105.95</td>\n",
       "      <td>1.027444</td>\n",
       "      <td>1</td>\n",
       "      <td>115.15</td>\n",
       "      <td>1.116660</td>\n",
       "      <td>1</td>\n",
       "    </tr>\n",
       "    <tr>\n",
       "      <th>5</th>\n",
       "      <td>A</td>\n",
       "      <td>2020-10-06</td>\n",
       "      <td>101.63</td>\n",
       "      <td>103.88</td>\n",
       "      <td>1.022139</td>\n",
       "      <td>1</td>\n",
       "      <td>105.42</td>\n",
       "      <td>1.037292</td>\n",
       "      <td>1</td>\n",
       "      <td>106.77</td>\n",
       "      <td>...</td>\n",
       "      <td>1</td>\n",
       "      <td>109.44</td>\n",
       "      <td>1.076847</td>\n",
       "      <td>1</td>\n",
       "      <td>108.68</td>\n",
       "      <td>1.069369</td>\n",
       "      <td>1</td>\n",
       "      <td>115.15</td>\n",
       "      <td>1.133032</td>\n",
       "      <td>1</td>\n",
       "    </tr>\n",
       "    <tr>\n",
       "      <th>6</th>\n",
       "      <td>A</td>\n",
       "      <td>2020-10-07</td>\n",
       "      <td>103.88</td>\n",
       "      <td>104.16</td>\n",
       "      <td>1.002695</td>\n",
       "      <td>1</td>\n",
       "      <td>105.06</td>\n",
       "      <td>1.011359</td>\n",
       "      <td>1</td>\n",
       "      <td>106.17</td>\n",
       "      <td>...</td>\n",
       "      <td>1</td>\n",
       "      <td>110.17</td>\n",
       "      <td>1.060551</td>\n",
       "      <td>1</td>\n",
       "      <td>110.89</td>\n",
       "      <td>1.067482</td>\n",
       "      <td>1</td>\n",
       "      <td>115.15</td>\n",
       "      <td>1.108491</td>\n",
       "      <td>1</td>\n",
       "    </tr>\n",
       "    <tr>\n",
       "      <th>7</th>\n",
       "      <td>A</td>\n",
       "      <td>2020-10-08</td>\n",
       "      <td>104.16</td>\n",
       "      <td>105.76</td>\n",
       "      <td>1.015361</td>\n",
       "      <td>1</td>\n",
       "      <td>105.32</td>\n",
       "      <td>1.011137</td>\n",
       "      <td>1</td>\n",
       "      <td>106.17</td>\n",
       "      <td>...</td>\n",
       "      <td>1</td>\n",
       "      <td>110.17</td>\n",
       "      <td>1.057700</td>\n",
       "      <td>1</td>\n",
       "      <td>110.89</td>\n",
       "      <td>1.064612</td>\n",
       "      <td>1</td>\n",
       "      <td>114.40</td>\n",
       "      <td>1.098310</td>\n",
       "      <td>1</td>\n",
       "    </tr>\n",
       "    <tr>\n",
       "      <th>8</th>\n",
       "      <td>A</td>\n",
       "      <td>2020-10-09</td>\n",
       "      <td>105.76</td>\n",
       "      <td>105.76</td>\n",
       "      <td>1.000000</td>\n",
       "      <td>0</td>\n",
       "      <td>106.70</td>\n",
       "      <td>1.008888</td>\n",
       "      <td>1</td>\n",
       "      <td>106.17</td>\n",
       "      <td>...</td>\n",
       "      <td>1</td>\n",
       "      <td>110.17</td>\n",
       "      <td>1.041698</td>\n",
       "      <td>1</td>\n",
       "      <td>110.89</td>\n",
       "      <td>1.048506</td>\n",
       "      <td>1</td>\n",
       "      <td>117.01</td>\n",
       "      <td>1.106373</td>\n",
       "      <td>1</td>\n",
       "    </tr>\n",
       "    <tr>\n",
       "      <th>9</th>\n",
       "      <td>A</td>\n",
       "      <td>2020-10-10</td>\n",
       "      <td>105.76</td>\n",
       "      <td>105.76</td>\n",
       "      <td>1.000000</td>\n",
       "      <td>0</td>\n",
       "      <td>106.70</td>\n",
       "      <td>1.008888</td>\n",
       "      <td>1</td>\n",
       "      <td>104.63</td>\n",
       "      <td>...</td>\n",
       "      <td>1</td>\n",
       "      <td>110.27</td>\n",
       "      <td>1.042644</td>\n",
       "      <td>1</td>\n",
       "      <td>112.21</td>\n",
       "      <td>1.060987</td>\n",
       "      <td>1</td>\n",
       "      <td>116.40</td>\n",
       "      <td>1.100605</td>\n",
       "      <td>1</td>\n",
       "    </tr>\n",
       "  </tbody>\n",
       "</table>\n",
       "<p>10 rows × 27 columns</p>\n",
       "</div>"
      ],
      "text/plain": [
       "  ticker_f created_day     prc  prc_next1  ret_next1  up_next1  prc_next7  \\\n",
       "0        A  2020-10-01  101.22     100.01   0.988046         0     104.16   \n",
       "1        A  2020-10-02  100.01     100.01   1.000000         0     105.76   \n",
       "2        A  2020-10-03  100.01     100.01   1.000000         0     105.76   \n",
       "3        A  2020-10-04  100.01     103.12   1.031097         1     105.76   \n",
       "4        A  2020-10-05  103.12     101.63   0.985551         0     105.43   \n",
       "5        A  2020-10-06  101.63     103.88   1.022139         1     105.42   \n",
       "6        A  2020-10-07  103.88     104.16   1.002695         1     105.06   \n",
       "7        A  2020-10-08  104.16     105.76   1.015361         1     105.32   \n",
       "8        A  2020-10-09  105.76     105.76   1.000000         0     106.70   \n",
       "9        A  2020-10-10  105.76     105.76   1.000000         0     106.70   \n",
       "\n",
       "   ret_next7  up_next7  prc_next16  ...  up_next30  prc_next37  ret_next37  \\\n",
       "0   1.029046         1      106.70  ...          1      112.54    1.111836   \n",
       "1   1.057494         1      106.70  ...          1      112.54    1.125287   \n",
       "2   1.057494         1      105.49  ...          1      112.50    1.124888   \n",
       "3   1.057494         1      105.61  ...          1      110.20    1.101890   \n",
       "4   1.022401         1      104.83  ...          1      109.41    1.060997   \n",
       "5   1.037292         1      106.77  ...          1      109.44    1.076847   \n",
       "6   1.011359         1      106.17  ...          1      110.17    1.060551   \n",
       "7   1.011137         1      106.17  ...          1      110.17    1.057700   \n",
       "8   1.008888         1      106.17  ...          1      110.17    1.041698   \n",
       "9   1.008888         1      104.63  ...          1      110.27    1.042644   \n",
       "\n",
       "   up_next37  prc_next44  ret_next44  up_next44  prc_next60  ret_next60  \\\n",
       "0          1      110.17    1.088421          1      116.90    1.154910   \n",
       "1          1      110.17    1.101590          1      115.36    1.153485   \n",
       "2          1      110.27    1.102590          1      114.57    1.145585   \n",
       "3          1      109.86    1.098490          1      113.58    1.135686   \n",
       "4          1      105.95    1.027444          1      115.15    1.116660   \n",
       "5          1      108.68    1.069369          1      115.15    1.133032   \n",
       "6          1      110.89    1.067482          1      115.15    1.108491   \n",
       "7          1      110.89    1.064612          1      114.40    1.098310   \n",
       "8          1      110.89    1.048506          1      117.01    1.106373   \n",
       "9          1      112.21    1.060987          1      116.40    1.100605   \n",
       "\n",
       "   up_next60  \n",
       "0          1  \n",
       "1          1  \n",
       "2          1  \n",
       "3          1  \n",
       "4          1  \n",
       "5          1  \n",
       "6          1  \n",
       "7          1  \n",
       "8          1  \n",
       "9          1  \n",
       "\n",
       "[10 rows x 27 columns]"
      ]
     },
     "execution_count": 80,
     "metadata": {},
     "output_type": "execute_result"
    }
   ],
   "source": [
    "panel_price.head(10)"
   ]
  },
  {
   "cell_type": "code",
   "execution_count": 81,
   "metadata": {
    "collapsed": false,
    "id": "54B3CFAE03594EF39BD94F9866770C00",
    "jupyter": {
     "outputs_hidden": false
    },
    "notebookId": "66bd9a11f69c7398daacb180",
    "slideshow": {
     "slide_type": "slide"
    },
    "tags": []
   },
   "outputs": [
    {
     "data": {
      "text/plain": [
       "Counter({'0111111': 15045,\n",
       "         '0000000': 14196,\n",
       "         '1111111': 13657,\n",
       "         '0011111': 5442,\n",
       "         '1000000': 4572,\n",
       "         '0100000': 3660,\n",
       "         '1100000': 3167,\n",
       "         '0001111': 2517,\n",
       "         '1011111': 2284,\n",
       "         '0000111': 1957,\n",
       "         '0110000': 1943,\n",
       "         '1110000': 1599,\n",
       "         '0111000': 1551,\n",
       "         '0000011': 1545,\n",
       "         '0000001': 1512,\n",
       "         '0101111': 1237,\n",
       "         '0010000': 1182,\n",
       "         '0111110': 1155,\n",
       "         '1111100': 1076,\n",
       "         '1111000': 1071,\n",
       "         '0111100': 1063,\n",
       "         '1101111': 907,\n",
       "         '1001111': 902,\n",
       "         '1111110': 872,\n",
       "         '0011000': 818,\n",
       "         '0110111': 758,\n",
       "         '0001000': 757,\n",
       "         '1110111': 700,\n",
       "         '0100111': 681,\n",
       "         '0111011': 671,\n",
       "         '1000111': 615,\n",
       "         '0011110': 562,\n",
       "         '0000010': 524,\n",
       "         '0000100': 521,\n",
       "         '0011100': 521,\n",
       "         '1010000': 519,\n",
       "         '1000011': 496,\n",
       "         '0010111': 495,\n",
       "         '1100111': 492,\n",
       "         '0100011': 485,\n",
       "         '0100001': 480,\n",
       "         '1111011': 455,\n",
       "         '0111101': 433,\n",
       "         '0001110': 426,\n",
       "         '0001100': 420,\n",
       "         '1000001': 419,\n",
       "         '0000110': 394,\n",
       "         '1100011': 378,\n",
       "         '0110011': 354,\n",
       "         '1111101': 339,\n",
       "         '1100001': 315,\n",
       "         '1011000': 312,\n",
       "         '1110011': 307,\n",
       "         '1011100': 285,\n",
       "         '0011011': 282,\n",
       "         '0111001': 271,\n",
       "         '0101000': 267,\n",
       "         '1001000': 249,\n",
       "         '1011110': 245,\n",
       "         '0101110': 229,\n",
       "         '1111001': 226,\n",
       "         '1110001': 225,\n",
       "         '0000101': 223,\n",
       "         '0010011': 222,\n",
       "         '0001011': 221,\n",
       "         '0110001': 220,\n",
       "         '0010001': 211,\n",
       "         '0100100': 205,\n",
       "         '0011101': 199,\n",
       "         '1000100': 192,\n",
       "         '1101000': 188,\n",
       "         '1001100': 187,\n",
       "         '0101100': 182,\n",
       "         '1000010': 173,\n",
       "         '1010111': 173,\n",
       "         '1101100': 170,\n",
       "         '1001110': 170,\n",
       "         '0100110': 160,\n",
       "         '0111010': 157,\n",
       "         '0001101': 152,\n",
       "         '0100010': 147,\n",
       "         '0110100': 146,\n",
       "         '0001001': 136,\n",
       "         '1000110': 136,\n",
       "         '0110110': 135,\n",
       "         '1100100': 133,\n",
       "         '0110010': 126,\n",
       "         '0011001': 126,\n",
       "         '1101110': 120,\n",
       "         '1100010': 119,\n",
       "         '1110100': 116,\n",
       "         '0010100': 115,\n",
       "         '1111010': 112,\n",
       "         '0101011': 97,\n",
       "         '1011011': 94,\n",
       "         '1100110': 92,\n",
       "         '1101011': 85,\n",
       "         '1010011': 83,\n",
       "         '1011101': 83,\n",
       "         '1110010': 83,\n",
       "         '0010110': 82,\n",
       "         '1110110': 82,\n",
       "         '1001011': 75,\n",
       "         '0101001': 72,\n",
       "         '1010001': 71,\n",
       "         '0011010': 71,\n",
       "         '0101101': 68,\n",
       "         '0001010': 67,\n",
       "         '0100101': 63,\n",
       "         '0010010': 60,\n",
       "         '1011001': 60,\n",
       "         '1000101': 57,\n",
       "         '0110101': 52,\n",
       "         '1001001': 51,\n",
       "         '1101101': 51,\n",
       "         '1101001': 50,\n",
       "         '1001101': 49,\n",
       "         '0010101': 46,\n",
       "         '1100101': 44,\n",
       "         '1010010': 44,\n",
       "         '1110101': 42,\n",
       "         '1010110': 33,\n",
       "         '1011010': 31,\n",
       "         '1010100': 29,\n",
       "         '1001010': 28,\n",
       "         '0101010': 21,\n",
       "         '1101010': 19,\n",
       "         '1010101': 13})"
      ]
     },
     "execution_count": 81,
     "metadata": {},
     "output_type": "execute_result"
    }
   ],
   "source": [
    "Counter([''.join([str(j) for j in i]) for i in panel_price[[\n",
    "    'up_next1',\n",
    "    'up_next7',\n",
    "    'up_next16',\n",
    "    'up_next23',\n",
    "    'up_next30',\n",
    "    'up_next37',\n",
    "    'up_next44'\n",
    "]].values])"
   ]
  },
  {
   "cell_type": "markdown",
   "metadata": {
    "id": "3E6A9B101B524F7A84596768648693F3",
    "jupyter": {},
    "notebookId": "66bd9a11f69c7398daacb180",
    "runtime": {
     "execution_status": null,
     "status": "default"
    },
    "scrolled": false,
    "slideshow": {
     "slide_type": "slide"
    },
    "tags": []
   },
   "source": [
    "### `performance`"
   ]
  },
  {
   "cell_type": "code",
   "execution_count": 82,
   "metadata": {
    "collapsed": false,
    "id": "2A9E12CD594D47DA881AA2380BD1D031",
    "jupyter": {
     "outputs_hidden": false
    },
    "notebookId": "66bd9a11f69c7398daacb180",
    "slideshow": {
     "slide_type": "slide"
    },
    "tags": []
   },
   "outputs": [],
   "source": [
    "# flag = (df_msg_sent_price['created_day'] == day)\n",
    "df_t_u = df_msg_sent_price.groupby(['ticker_f', 'user.id', 'created_day'])['label'].mean().reset_index()"
   ]
  },
  {
   "cell_type": "code",
   "execution_count": 83,
   "metadata": {
    "collapsed": false,
    "id": "8A2687751F6F46DFB9BE53E14FA04D38",
    "jupyter": {
     "outputs_hidden": false
    },
    "notebookId": "66bd9a11f69c7398daacb180",
    "slideshow": {
     "slide_type": "slide"
    },
    "tags": []
   },
   "outputs": [],
   "source": [
    "df_perf = pd.merge(\n",
    "    df_t_u,\n",
    "    panel_price,\n",
    "    left_on = ['ticker_f', 'created_day'],\n",
    "    right_on = ['ticker_f', 'created_day'],\n",
    "    how= 'left'\n",
    ")"
   ]
  },
  {
   "cell_type": "code",
   "execution_count": 84,
   "metadata": {
    "collapsed": false,
    "id": "C25269478DE44BE195AEB493B7CE02FE",
    "jupyter": {
     "outputs_hidden": false
    },
    "notebookId": "66bd9a11f69c7398daacb180",
    "slideshow": {
     "slide_type": "slide"
    },
    "tags": []
   },
   "outputs": [],
   "source": [
    "# window_t = 7\n",
    "for window_t in [1,7,16,23,30,37,44,60]:\n",
    "    df_perf['perf_next{}'.format(window_t)] = (\n",
    "        df_perf['up_next{}'.format(window_t)].astype(int) == (df_perf['label']>0.5).astype(int)\n",
    "    ).astype(int)"
   ]
  },
  {
   "cell_type": "code",
   "execution_count": 85,
   "metadata": {
    "collapsed": false,
    "id": "52139E9DAF0E498899EADBAA73CEB583",
    "jupyter": {
     "outputs_hidden": false
    },
    "notebookId": "66bd9a11f69c7398daacb180",
    "slideshow": {
     "slide_type": "slide"
    },
    "tags": []
   },
   "outputs": [
    {
     "data": {
      "text/plain": [
       "(2028259, 37)"
      ]
     },
     "execution_count": 85,
     "metadata": {},
     "output_type": "execute_result"
    }
   ],
   "source": [
    "df_perf.shape"
   ]
  },
  {
   "cell_type": "code",
   "execution_count": 86,
   "metadata": {
    "collapsed": false,
    "id": "A2B1BC7D7694463A832FDACB237A679D",
    "jupyter": {
     "outputs_hidden": false
    },
    "notebookId": "66bd9a11f69c7398daacb180",
    "slideshow": {
     "slide_type": "slide"
    },
    "tags": []
   },
   "outputs": [
    {
     "data": {
      "text/html": [
       "<div>\n",
       "<style scoped>\n",
       "    .dataframe tbody tr th:only-of-type {\n",
       "        vertical-align: middle;\n",
       "    }\n",
       "\n",
       "    .dataframe tbody tr th {\n",
       "        vertical-align: top;\n",
       "    }\n",
       "\n",
       "    .dataframe thead th {\n",
       "        text-align: right;\n",
       "    }\n",
       "</style>\n",
       "<table border=\"1\" class=\"dataframe\">\n",
       "  <thead>\n",
       "    <tr style=\"text-align: right;\">\n",
       "      <th></th>\n",
       "      <th>ticker_f</th>\n",
       "      <th>user.id</th>\n",
       "      <th>created_day</th>\n",
       "      <th>label</th>\n",
       "      <th>prc</th>\n",
       "      <th>prc_next1</th>\n",
       "      <th>ret_next1</th>\n",
       "      <th>up_next1</th>\n",
       "      <th>prc_next7</th>\n",
       "      <th>ret_next7</th>\n",
       "      <th>...</th>\n",
       "      <th>ret_next60</th>\n",
       "      <th>up_next60</th>\n",
       "      <th>perf_next1</th>\n",
       "      <th>perf_next7</th>\n",
       "      <th>perf_next16</th>\n",
       "      <th>perf_next23</th>\n",
       "      <th>perf_next30</th>\n",
       "      <th>perf_next37</th>\n",
       "      <th>perf_next44</th>\n",
       "      <th>perf_next60</th>\n",
       "    </tr>\n",
       "  </thead>\n",
       "  <tbody>\n",
       "    <tr>\n",
       "      <th>0</th>\n",
       "      <td>A</td>\n",
       "      <td>881</td>\n",
       "      <td>2021-03-28</td>\n",
       "      <td>1.0</td>\n",
       "      <td>125.64</td>\n",
       "      <td>125.42</td>\n",
       "      <td>0.998249</td>\n",
       "      <td>0</td>\n",
       "      <td>127.69</td>\n",
       "      <td>1.016316</td>\n",
       "      <td>...</td>\n",
       "      <td>1.094715</td>\n",
       "      <td>1</td>\n",
       "      <td>0</td>\n",
       "      <td>1</td>\n",
       "      <td>1</td>\n",
       "      <td>1</td>\n",
       "      <td>1</td>\n",
       "      <td>1</td>\n",
       "      <td>1</td>\n",
       "      <td>1</td>\n",
       "    </tr>\n",
       "    <tr>\n",
       "      <th>1</th>\n",
       "      <td>A</td>\n",
       "      <td>881</td>\n",
       "      <td>2021-03-31</td>\n",
       "      <td>1.0</td>\n",
       "      <td>127.14</td>\n",
       "      <td>127.69</td>\n",
       "      <td>1.004326</td>\n",
       "      <td>1</td>\n",
       "      <td>129.34</td>\n",
       "      <td>1.017304</td>\n",
       "      <td>...</td>\n",
       "      <td>1.086440</td>\n",
       "      <td>1</td>\n",
       "      <td>1</td>\n",
       "      <td>1</td>\n",
       "      <td>1</td>\n",
       "      <td>1</td>\n",
       "      <td>1</td>\n",
       "      <td>1</td>\n",
       "      <td>1</td>\n",
       "      <td>1</td>\n",
       "    </tr>\n",
       "    <tr>\n",
       "      <th>2</th>\n",
       "      <td>A</td>\n",
       "      <td>881</td>\n",
       "      <td>2021-04-09</td>\n",
       "      <td>1.0</td>\n",
       "      <td>131.91</td>\n",
       "      <td>131.91</td>\n",
       "      <td>1.000000</td>\n",
       "      <td>0</td>\n",
       "      <td>134.58</td>\n",
       "      <td>1.020241</td>\n",
       "      <td>...</td>\n",
       "      <td>1.051854</td>\n",
       "      <td>1</td>\n",
       "      <td>0</td>\n",
       "      <td>1</td>\n",
       "      <td>1</td>\n",
       "      <td>1</td>\n",
       "      <td>1</td>\n",
       "      <td>0</td>\n",
       "      <td>1</td>\n",
       "      <td>1</td>\n",
       "    </tr>\n",
       "    <tr>\n",
       "      <th>3</th>\n",
       "      <td>A</td>\n",
       "      <td>881</td>\n",
       "      <td>2021-07-30</td>\n",
       "      <td>1.0</td>\n",
       "      <td>153.23</td>\n",
       "      <td>153.23</td>\n",
       "      <td>1.000000</td>\n",
       "      <td>0</td>\n",
       "      <td>155.70</td>\n",
       "      <td>1.016120</td>\n",
       "      <td>...</td>\n",
       "      <td>1.043529</td>\n",
       "      <td>1</td>\n",
       "      <td>0</td>\n",
       "      <td>1</td>\n",
       "      <td>1</td>\n",
       "      <td>1</td>\n",
       "      <td>1</td>\n",
       "      <td>1</td>\n",
       "      <td>1</td>\n",
       "      <td>1</td>\n",
       "    </tr>\n",
       "    <tr>\n",
       "      <th>4</th>\n",
       "      <td>A</td>\n",
       "      <td>881</td>\n",
       "      <td>2021-08-10</td>\n",
       "      <td>1.0</td>\n",
       "      <td>156.52</td>\n",
       "      <td>156.52</td>\n",
       "      <td>1.000000</td>\n",
       "      <td>0</td>\n",
       "      <td>160.91</td>\n",
       "      <td>1.028048</td>\n",
       "      <td>...</td>\n",
       "      <td>0.974125</td>\n",
       "      <td>0</td>\n",
       "      <td>0</td>\n",
       "      <td>1</td>\n",
       "      <td>1</td>\n",
       "      <td>1</td>\n",
       "      <td>1</td>\n",
       "      <td>1</td>\n",
       "      <td>1</td>\n",
       "      <td>0</td>\n",
       "    </tr>\n",
       "  </tbody>\n",
       "</table>\n",
       "<p>5 rows × 37 columns</p>\n",
       "</div>"
      ],
      "text/plain": [
       "  ticker_f  user.id created_day  label     prc  prc_next1  ret_next1  \\\n",
       "0        A      881  2021-03-28    1.0  125.64     125.42   0.998249   \n",
       "1        A      881  2021-03-31    1.0  127.14     127.69   1.004326   \n",
       "2        A      881  2021-04-09    1.0  131.91     131.91   1.000000   \n",
       "3        A      881  2021-07-30    1.0  153.23     153.23   1.000000   \n",
       "4        A      881  2021-08-10    1.0  156.52     156.52   1.000000   \n",
       "\n",
       "   up_next1  prc_next7  ret_next7  ...  ret_next60  up_next60  perf_next1  \\\n",
       "0         0     127.69   1.016316  ...    1.094715          1           0   \n",
       "1         1     129.34   1.017304  ...    1.086440          1           1   \n",
       "2         0     134.58   1.020241  ...    1.051854          1           0   \n",
       "3         0     155.70   1.016120  ...    1.043529          1           0   \n",
       "4         0     160.91   1.028048  ...    0.974125          0           0   \n",
       "\n",
       "   perf_next7  perf_next16  perf_next23  perf_next30  perf_next37  \\\n",
       "0           1            1            1            1            1   \n",
       "1           1            1            1            1            1   \n",
       "2           1            1            1            1            0   \n",
       "3           1            1            1            1            1   \n",
       "4           1            1            1            1            1   \n",
       "\n",
       "   perf_next44  perf_next60  \n",
       "0            1            1  \n",
       "1            1            1  \n",
       "2            1            1  \n",
       "3            1            1  \n",
       "4            1            0  \n",
       "\n",
       "[5 rows x 37 columns]"
      ]
     },
     "execution_count": 86,
     "metadata": {},
     "output_type": "execute_result"
    }
   ],
   "source": [
    "df_perf.head()"
   ]
  },
  {
   "cell_type": "markdown",
   "metadata": {
    "id": "9D54F1891823478C9FD76ABF26F9F208",
    "jupyter": {},
    "notebookId": "66bd9a11f69c7398daacb180",
    "runtime": {
     "execution_status": null,
     "status": "default"
    },
    "scrolled": false,
    "slideshow": {
     "slide_type": "slide"
    },
    "tags": []
   },
   "source": [
    "### experience"
   ]
  },
  {
   "cell_type": "code",
   "execution_count": 87,
   "metadata": {
    "collapsed": false,
    "id": "5238BE3D978947D4B0DA9778B1589CB6",
    "jupyter": {
     "outputs_hidden": false
    },
    "notebookId": "66bd9a11f69c7398daacb180",
    "slideshow": {
     "slide_type": "slide"
    },
    "tags": []
   },
   "outputs": [],
   "source": [
    "dt_format = '%Y-%m-%d'\n",
    "df_perf['t'] = df_perf['created_day'].apply(lambda x: datetime.datetime.strptime(x, dt_format))"
   ]
  },
  {
   "cell_type": "code",
   "execution_count": 88,
   "metadata": {
    "collapsed": false,
    "id": "6AF625E1E3CF45FCBEA5E6233339FE63",
    "jupyter": {
     "outputs_hidden": false
    },
    "notebookId": "66bd9a11f69c7398daacb180",
    "slideshow": {
     "slide_type": "slide"
    },
    "tags": []
   },
   "outputs": [],
   "source": [
    "# window size of experience\n",
    "window_r = 30\n",
    "# for window_r in [30, 60, 90]:\n",
    "df_exp = df_perf.sort_values('t').set_index('t').groupby(\n",
    "    ['ticker_f', 'user.id']\n",
    ").rolling('{}d'.format(window_r))['label'].count().reset_index()\n",
    "df_exp.rename(columns = {'label': 'cnt_recent{}'.format(window_r)}, inplace = True)\n",
    "#\n",
    "# window_t = 7\n",
    "for window_t in [1,7,16,23,30,37,44,60]:\n",
    "    if window_t < window_r:\n",
    "        ###\n",
    "        tmp = df_perf.sort_values('t').set_index('t').groupby(\n",
    "            ['ticker_f', 'user.id']\n",
    "        ).rolling('{}d'.format(window_r))['perf_next{}'.format(window_t)].sum().reset_index()\n",
    "        tmp.rename(columns = {\n",
    "            'perf_next{}'.format(window_t): 'true_next{}_recent{}'.format(window_t, window_r)\n",
    "        }, inplace = True)\n",
    "        #\n",
    "        df_exp = pd.merge(\n",
    "            df_exp,\n",
    "            tmp,\n",
    "            left_on = ['ticker_f', 'user.id', 't'],\n",
    "            right_on = ['ticker_f', 'user.id', 't'],\n",
    "            how = 'left'\n",
    "        )\n",
    "        df_exp['false_next{}_recent{}'.format(window_t, window_r)] = df_exp[\n",
    "            'cnt_recent{}'.format(window_r)\n",
    "        ] - df_exp['true_next{}_recent{}'.format(window_t, window_r)] \n",
    "########\n",
    "# window_r = 60\n",
    "# for window_r in [60, 90]:\n",
    "#     tmp = df_perf.sort_values('t').set_index('t').groupby(\n",
    "#         ['ticker_f', 'user.id']\n",
    "#     ).rolling('{}d'.format(window_r))['label'].count().reset_index()\n",
    "#     tmp.rename(columns = {'label': 'cnt_recent{}'.format(window_r)}, inplace = True)\n",
    "#     df_exp = pd.merge(\n",
    "#         df_exp,\n",
    "#         tmp,\n",
    "#         left_on = ['ticker_f', 'user.id', 't'],\n",
    "#         right_on = ['ticker_f', 'user.id', 't'],\n",
    "#         how = 'left'\n",
    "#     )\n",
    "#     #\n",
    "#     # window_t = 7\n",
    "#     for window_t in [1,7,30,60]:\n",
    "#         if window_t < window_r:\n",
    "#             ###\n",
    "#             tmp = df_perf.sort_values('t').set_index('t').groupby(\n",
    "#                 ['ticker_f', 'user.id']\n",
    "#             ).rolling('{}d'.format(window_r))['perf_next{}'.format(window_t)].sum().reset_index()\n",
    "#             tmp.rename(columns = {\n",
    "#                 'perf_next{}'.format(window_t): 'true_next{}_recent{}'.format(window_t, window_r)\n",
    "#             }, inplace = True)\n",
    "#             #\n",
    "#             df_exp = pd.merge(\n",
    "#                 df_exp,\n",
    "#                 tmp,\n",
    "#                 left_on = ['ticker_f', 'user.id', 't'],\n",
    "#                 right_on = ['ticker_f', 'user.id', 't'],\n",
    "#                 how = 'left'\n",
    "#             )\n",
    "#             df_exp['false_next{}_recent{}'.format(window_t, window_r)] = df_exp[\n",
    "#                 'cnt_recent{}'.format(window_r)\n",
    "#             ] - df_exp['true_next{}_recent{}'.format(window_t, window_r)] "
   ]
  },
  {
   "cell_type": "code",
   "execution_count": 89,
   "metadata": {
    "collapsed": false,
    "id": "20AF8652735445AC89F05286BD5D60CB",
    "jupyter": {
     "outputs_hidden": false
    },
    "notebookId": "66bd9a11f69c7398daacb180",
    "slideshow": {
     "slide_type": "slide"
    },
    "tags": []
   },
   "outputs": [],
   "source": [
    "df_exp['created_day'] = df_exp['t'].dt.strftime(dt_format)\n",
    "df_exp.drop(['t'], axis = 1, inplace = True)"
   ]
  },
  {
   "cell_type": "code",
   "execution_count": 90,
   "metadata": {
    "collapsed": false,
    "id": "59780D7EBA45434B809A6280C11D04AE",
    "jupyter": {
     "outputs_hidden": false
    },
    "notebookId": "66bd9a11f69c7398daacb180",
    "slideshow": {
     "slide_type": "slide"
    },
    "tags": []
   },
   "outputs": [
    {
     "data": {
      "text/html": [
       "<div>\n",
       "<style scoped>\n",
       "    .dataframe tbody tr th:only-of-type {\n",
       "        vertical-align: middle;\n",
       "    }\n",
       "\n",
       "    .dataframe tbody tr th {\n",
       "        vertical-align: top;\n",
       "    }\n",
       "\n",
       "    .dataframe thead th {\n",
       "        text-align: right;\n",
       "    }\n",
       "</style>\n",
       "<table border=\"1\" class=\"dataframe\">\n",
       "  <thead>\n",
       "    <tr style=\"text-align: right;\">\n",
       "      <th></th>\n",
       "      <th>ticker_f</th>\n",
       "      <th>user.id</th>\n",
       "      <th>cnt_recent30</th>\n",
       "      <th>true_next1_recent30</th>\n",
       "      <th>false_next1_recent30</th>\n",
       "      <th>true_next7_recent30</th>\n",
       "      <th>false_next7_recent30</th>\n",
       "      <th>true_next16_recent30</th>\n",
       "      <th>false_next16_recent30</th>\n",
       "      <th>true_next23_recent30</th>\n",
       "      <th>false_next23_recent30</th>\n",
       "      <th>created_day</th>\n",
       "    </tr>\n",
       "  </thead>\n",
       "  <tbody>\n",
       "    <tr>\n",
       "      <th>0</th>\n",
       "      <td>A</td>\n",
       "      <td>881</td>\n",
       "      <td>1.0</td>\n",
       "      <td>0.0</td>\n",
       "      <td>1.0</td>\n",
       "      <td>1.0</td>\n",
       "      <td>0.0</td>\n",
       "      <td>1.0</td>\n",
       "      <td>0.0</td>\n",
       "      <td>1.0</td>\n",
       "      <td>0.0</td>\n",
       "      <td>2021-03-28</td>\n",
       "    </tr>\n",
       "    <tr>\n",
       "      <th>1</th>\n",
       "      <td>A</td>\n",
       "      <td>881</td>\n",
       "      <td>2.0</td>\n",
       "      <td>1.0</td>\n",
       "      <td>1.0</td>\n",
       "      <td>2.0</td>\n",
       "      <td>0.0</td>\n",
       "      <td>2.0</td>\n",
       "      <td>0.0</td>\n",
       "      <td>2.0</td>\n",
       "      <td>0.0</td>\n",
       "      <td>2021-03-31</td>\n",
       "    </tr>\n",
       "    <tr>\n",
       "      <th>2</th>\n",
       "      <td>A</td>\n",
       "      <td>881</td>\n",
       "      <td>3.0</td>\n",
       "      <td>1.0</td>\n",
       "      <td>2.0</td>\n",
       "      <td>3.0</td>\n",
       "      <td>0.0</td>\n",
       "      <td>3.0</td>\n",
       "      <td>0.0</td>\n",
       "      <td>3.0</td>\n",
       "      <td>0.0</td>\n",
       "      <td>2021-04-09</td>\n",
       "    </tr>\n",
       "    <tr>\n",
       "      <th>3</th>\n",
       "      <td>A</td>\n",
       "      <td>881</td>\n",
       "      <td>1.0</td>\n",
       "      <td>0.0</td>\n",
       "      <td>1.0</td>\n",
       "      <td>1.0</td>\n",
       "      <td>0.0</td>\n",
       "      <td>1.0</td>\n",
       "      <td>0.0</td>\n",
       "      <td>1.0</td>\n",
       "      <td>0.0</td>\n",
       "      <td>2021-07-30</td>\n",
       "    </tr>\n",
       "    <tr>\n",
       "      <th>4</th>\n",
       "      <td>A</td>\n",
       "      <td>881</td>\n",
       "      <td>2.0</td>\n",
       "      <td>0.0</td>\n",
       "      <td>2.0</td>\n",
       "      <td>2.0</td>\n",
       "      <td>0.0</td>\n",
       "      <td>2.0</td>\n",
       "      <td>0.0</td>\n",
       "      <td>2.0</td>\n",
       "      <td>0.0</td>\n",
       "      <td>2021-08-10</td>\n",
       "    </tr>\n",
       "  </tbody>\n",
       "</table>\n",
       "</div>"
      ],
      "text/plain": [
       "  ticker_f  user.id  cnt_recent30  true_next1_recent30  false_next1_recent30  \\\n",
       "0        A      881           1.0                  0.0                   1.0   \n",
       "1        A      881           2.0                  1.0                   1.0   \n",
       "2        A      881           3.0                  1.0                   2.0   \n",
       "3        A      881           1.0                  0.0                   1.0   \n",
       "4        A      881           2.0                  0.0                   2.0   \n",
       "\n",
       "   true_next7_recent30  false_next7_recent30  true_next16_recent30  \\\n",
       "0                  1.0                   0.0                   1.0   \n",
       "1                  2.0                   0.0                   2.0   \n",
       "2                  3.0                   0.0                   3.0   \n",
       "3                  1.0                   0.0                   1.0   \n",
       "4                  2.0                   0.0                   2.0   \n",
       "\n",
       "   false_next16_recent30  true_next23_recent30  false_next23_recent30  \\\n",
       "0                    0.0                   1.0                    0.0   \n",
       "1                    0.0                   2.0                    0.0   \n",
       "2                    0.0                   3.0                    0.0   \n",
       "3                    0.0                   1.0                    0.0   \n",
       "4                    0.0                   2.0                    0.0   \n",
       "\n",
       "  created_day  \n",
       "0  2021-03-28  \n",
       "1  2021-03-31  \n",
       "2  2021-04-09  \n",
       "3  2021-07-30  \n",
       "4  2021-08-10  "
      ]
     },
     "execution_count": 90,
     "metadata": {},
     "output_type": "execute_result"
    }
   ],
   "source": [
    "df_exp.head()"
   ]
  },
  {
   "cell_type": "code",
   "execution_count": 91,
   "metadata": {
    "collapsed": false,
    "id": "BFAC93CC4772414D9381B06F19AB6C1A",
    "jupyter": {
     "outputs_hidden": false
    },
    "notebookId": "66bd9a11f69c7398daacb180",
    "slideshow": {
     "slide_type": "slide"
    },
    "tags": []
   },
   "outputs": [
    {
     "data": {
      "text/plain": [
       "(2028259, 38)"
      ]
     },
     "execution_count": 91,
     "metadata": {},
     "output_type": "execute_result"
    }
   ],
   "source": [
    "df_perf.shape"
   ]
  },
  {
   "cell_type": "code",
   "execution_count": 92,
   "metadata": {
    "collapsed": false,
    "id": "4253089891FA415B83868D28D8251CB2",
    "jupyter": {
     "outputs_hidden": false
    },
    "notebookId": "66bd9a11f69c7398daacb180",
    "slideshow": {
     "slide_type": "slide"
    },
    "tags": []
   },
   "outputs": [
    {
     "data": {
      "text/plain": [
       "(2028259, 12)"
      ]
     },
     "execution_count": 92,
     "metadata": {},
     "output_type": "execute_result"
    }
   ],
   "source": [
    "df_exp.shape"
   ]
  },
  {
   "cell_type": "code",
   "execution_count": 93,
   "metadata": {
    "collapsed": false,
    "id": "BC05AB6DC75C4685B6C698F644F0ACF9",
    "jupyter": {
     "outputs_hidden": false
    },
    "notebookId": "66bd9a11f69c7398daacb180",
    "slideshow": {
     "slide_type": "slide"
    },
    "tags": []
   },
   "outputs": [
    {
     "data": {
      "text/plain": [
       "{'created_day', 'ticker_f', 'user.id'}"
      ]
     },
     "execution_count": 93,
     "metadata": {},
     "output_type": "execute_result"
    }
   ],
   "source": [
    "set(df_exp.columns) & set(df_perf.columns)"
   ]
  },
  {
   "cell_type": "code",
   "execution_count": 94,
   "metadata": {
    "collapsed": false,
    "id": "0CFF26AA964544378B8438C262C49A35",
    "jupyter": {
     "outputs_hidden": false
    },
    "notebookId": "66bd9a11f69c7398daacb180",
    "slideshow": {
     "slide_type": "slide"
    },
    "tags": []
   },
   "outputs": [],
   "source": [
    "df_perf_exp = pd.merge(\n",
    "    df_perf,\n",
    "    df_exp,\n",
    "    left_on = ['ticker_f', 'user.id', 'created_day'],\n",
    "    right_on = ['ticker_f', 'user.id', 'created_day'],\n",
    "    how = 'left'\n",
    ")"
   ]
  },
  {
   "cell_type": "code",
   "execution_count": 95,
   "metadata": {
    "collapsed": false,
    "id": "0A31C336A63840169E492D8F3C584D9E",
    "jupyter": {
     "outputs_hidden": false
    },
    "notebookId": "66bd9a11f69c7398daacb180",
    "slideshow": {
     "slide_type": "slide"
    },
    "tags": []
   },
   "outputs": [
    {
     "data": {
      "text/plain": [
       "(2028259, 47)"
      ]
     },
     "execution_count": 95,
     "metadata": {},
     "output_type": "execute_result"
    }
   ],
   "source": [
    "df_perf_exp.shape"
   ]
  },
  {
   "cell_type": "code",
   "execution_count": 96,
   "metadata": {
    "collapsed": false,
    "id": "007053B0F24747A2A47C06C1AD69453C",
    "jupyter": {
     "outputs_hidden": false
    },
    "notebookId": "66bd9a11f69c7398daacb180",
    "slideshow": {
     "slide_type": "slide"
    },
    "tags": []
   },
   "outputs": [
    {
     "data": {
      "text/html": [
       "<div>\n",
       "<style scoped>\n",
       "    .dataframe tbody tr th:only-of-type {\n",
       "        vertical-align: middle;\n",
       "    }\n",
       "\n",
       "    .dataframe tbody tr th {\n",
       "        vertical-align: top;\n",
       "    }\n",
       "\n",
       "    .dataframe thead th {\n",
       "        text-align: right;\n",
       "    }\n",
       "</style>\n",
       "<table border=\"1\" class=\"dataframe\">\n",
       "  <thead>\n",
       "    <tr style=\"text-align: right;\">\n",
       "      <th></th>\n",
       "      <th>ticker_f</th>\n",
       "      <th>user.id</th>\n",
       "      <th>created_day</th>\n",
       "      <th>label</th>\n",
       "      <th>prc</th>\n",
       "      <th>prc_next1</th>\n",
       "      <th>ret_next1</th>\n",
       "      <th>up_next1</th>\n",
       "      <th>prc_next7</th>\n",
       "      <th>ret_next7</th>\n",
       "      <th>...</th>\n",
       "      <th>t</th>\n",
       "      <th>cnt_recent30</th>\n",
       "      <th>true_next1_recent30</th>\n",
       "      <th>false_next1_recent30</th>\n",
       "      <th>true_next7_recent30</th>\n",
       "      <th>false_next7_recent30</th>\n",
       "      <th>true_next16_recent30</th>\n",
       "      <th>false_next16_recent30</th>\n",
       "      <th>true_next23_recent30</th>\n",
       "      <th>false_next23_recent30</th>\n",
       "    </tr>\n",
       "  </thead>\n",
       "  <tbody>\n",
       "    <tr>\n",
       "      <th>0</th>\n",
       "      <td>A</td>\n",
       "      <td>881</td>\n",
       "      <td>2021-03-28</td>\n",
       "      <td>1.0</td>\n",
       "      <td>125.64</td>\n",
       "      <td>125.42</td>\n",
       "      <td>0.998249</td>\n",
       "      <td>0</td>\n",
       "      <td>127.69</td>\n",
       "      <td>1.016316</td>\n",
       "      <td>...</td>\n",
       "      <td>2021-03-28</td>\n",
       "      <td>1.0</td>\n",
       "      <td>0.0</td>\n",
       "      <td>1.0</td>\n",
       "      <td>1.0</td>\n",
       "      <td>0.0</td>\n",
       "      <td>1.0</td>\n",
       "      <td>0.0</td>\n",
       "      <td>1.0</td>\n",
       "      <td>0.0</td>\n",
       "    </tr>\n",
       "    <tr>\n",
       "      <th>1</th>\n",
       "      <td>A</td>\n",
       "      <td>881</td>\n",
       "      <td>2021-03-31</td>\n",
       "      <td>1.0</td>\n",
       "      <td>127.14</td>\n",
       "      <td>127.69</td>\n",
       "      <td>1.004326</td>\n",
       "      <td>1</td>\n",
       "      <td>129.34</td>\n",
       "      <td>1.017304</td>\n",
       "      <td>...</td>\n",
       "      <td>2021-03-31</td>\n",
       "      <td>2.0</td>\n",
       "      <td>1.0</td>\n",
       "      <td>1.0</td>\n",
       "      <td>2.0</td>\n",
       "      <td>0.0</td>\n",
       "      <td>2.0</td>\n",
       "      <td>0.0</td>\n",
       "      <td>2.0</td>\n",
       "      <td>0.0</td>\n",
       "    </tr>\n",
       "    <tr>\n",
       "      <th>2</th>\n",
       "      <td>A</td>\n",
       "      <td>881</td>\n",
       "      <td>2021-04-09</td>\n",
       "      <td>1.0</td>\n",
       "      <td>131.91</td>\n",
       "      <td>131.91</td>\n",
       "      <td>1.000000</td>\n",
       "      <td>0</td>\n",
       "      <td>134.58</td>\n",
       "      <td>1.020241</td>\n",
       "      <td>...</td>\n",
       "      <td>2021-04-09</td>\n",
       "      <td>3.0</td>\n",
       "      <td>1.0</td>\n",
       "      <td>2.0</td>\n",
       "      <td>3.0</td>\n",
       "      <td>0.0</td>\n",
       "      <td>3.0</td>\n",
       "      <td>0.0</td>\n",
       "      <td>3.0</td>\n",
       "      <td>0.0</td>\n",
       "    </tr>\n",
       "    <tr>\n",
       "      <th>3</th>\n",
       "      <td>A</td>\n",
       "      <td>881</td>\n",
       "      <td>2021-07-30</td>\n",
       "      <td>1.0</td>\n",
       "      <td>153.23</td>\n",
       "      <td>153.23</td>\n",
       "      <td>1.000000</td>\n",
       "      <td>0</td>\n",
       "      <td>155.70</td>\n",
       "      <td>1.016120</td>\n",
       "      <td>...</td>\n",
       "      <td>2021-07-30</td>\n",
       "      <td>1.0</td>\n",
       "      <td>0.0</td>\n",
       "      <td>1.0</td>\n",
       "      <td>1.0</td>\n",
       "      <td>0.0</td>\n",
       "      <td>1.0</td>\n",
       "      <td>0.0</td>\n",
       "      <td>1.0</td>\n",
       "      <td>0.0</td>\n",
       "    </tr>\n",
       "    <tr>\n",
       "      <th>4</th>\n",
       "      <td>A</td>\n",
       "      <td>881</td>\n",
       "      <td>2021-08-10</td>\n",
       "      <td>1.0</td>\n",
       "      <td>156.52</td>\n",
       "      <td>156.52</td>\n",
       "      <td>1.000000</td>\n",
       "      <td>0</td>\n",
       "      <td>160.91</td>\n",
       "      <td>1.028048</td>\n",
       "      <td>...</td>\n",
       "      <td>2021-08-10</td>\n",
       "      <td>2.0</td>\n",
       "      <td>0.0</td>\n",
       "      <td>2.0</td>\n",
       "      <td>2.0</td>\n",
       "      <td>0.0</td>\n",
       "      <td>2.0</td>\n",
       "      <td>0.0</td>\n",
       "      <td>2.0</td>\n",
       "      <td>0.0</td>\n",
       "    </tr>\n",
       "  </tbody>\n",
       "</table>\n",
       "<p>5 rows × 47 columns</p>\n",
       "</div>"
      ],
      "text/plain": [
       "  ticker_f  user.id created_day  label     prc  prc_next1  ret_next1  \\\n",
       "0        A      881  2021-03-28    1.0  125.64     125.42   0.998249   \n",
       "1        A      881  2021-03-31    1.0  127.14     127.69   1.004326   \n",
       "2        A      881  2021-04-09    1.0  131.91     131.91   1.000000   \n",
       "3        A      881  2021-07-30    1.0  153.23     153.23   1.000000   \n",
       "4        A      881  2021-08-10    1.0  156.52     156.52   1.000000   \n",
       "\n",
       "   up_next1  prc_next7  ret_next7  ...          t  cnt_recent30  \\\n",
       "0         0     127.69   1.016316  ... 2021-03-28           1.0   \n",
       "1         1     129.34   1.017304  ... 2021-03-31           2.0   \n",
       "2         0     134.58   1.020241  ... 2021-04-09           3.0   \n",
       "3         0     155.70   1.016120  ... 2021-07-30           1.0   \n",
       "4         0     160.91   1.028048  ... 2021-08-10           2.0   \n",
       "\n",
       "   true_next1_recent30  false_next1_recent30  true_next7_recent30  \\\n",
       "0                  0.0                   1.0                  1.0   \n",
       "1                  1.0                   1.0                  2.0   \n",
       "2                  1.0                   2.0                  3.0   \n",
       "3                  0.0                   1.0                  1.0   \n",
       "4                  0.0                   2.0                  2.0   \n",
       "\n",
       "   false_next7_recent30  true_next16_recent30  false_next16_recent30  \\\n",
       "0                   0.0                   1.0                    0.0   \n",
       "1                   0.0                   2.0                    0.0   \n",
       "2                   0.0                   3.0                    0.0   \n",
       "3                   0.0                   1.0                    0.0   \n",
       "4                   0.0                   2.0                    0.0   \n",
       "\n",
       "   true_next23_recent30  false_next23_recent30  \n",
       "0                   1.0                    0.0  \n",
       "1                   2.0                    0.0  \n",
       "2                   3.0                    0.0  \n",
       "3                   1.0                    0.0  \n",
       "4                   2.0                    0.0  \n",
       "\n",
       "[5 rows x 47 columns]"
      ]
     },
     "execution_count": 96,
     "metadata": {},
     "output_type": "execute_result"
    }
   ],
   "source": [
    "df_perf_exp.head()"
   ]
  },
  {
   "cell_type": "code",
   "execution_count": 97,
   "metadata": {
    "collapsed": false,
    "id": "565F3F79B1ED409F83FFBAB8E3A4C2B2",
    "jupyter": {
     "outputs_hidden": false
    },
    "notebookId": "66bd9a11f69c7398daacb180",
    "slideshow": {
     "slide_type": "slide"
    },
    "tags": []
   },
   "outputs": [
    {
     "data": {
      "text/plain": [
       "Index(['ticker_f', 'user.id', 'created_day', 'label', 'prc', 'prc_next1',\n",
       "       'ret_next1', 'up_next1', 'prc_next7', 'ret_next7', 'up_next7',\n",
       "       'prc_next16', 'ret_next16', 'up_next16', 'prc_next23', 'ret_next23',\n",
       "       'up_next23', 'prc_next30', 'ret_next30', 'up_next30', 'prc_next37',\n",
       "       'ret_next37', 'up_next37', 'prc_next44', 'ret_next44', 'up_next44',\n",
       "       'prc_next60', 'ret_next60', 'up_next60', 'perf_next1', 'perf_next7',\n",
       "       'perf_next16', 'perf_next23', 'perf_next30', 'perf_next37',\n",
       "       'perf_next44', 'perf_next60', 't', 'cnt_recent30',\n",
       "       'true_next1_recent30', 'false_next1_recent30', 'true_next7_recent30',\n",
       "       'false_next7_recent30', 'true_next16_recent30', 'false_next16_recent30',\n",
       "       'true_next23_recent30', 'false_next23_recent30'],\n",
       "      dtype='object')"
      ]
     },
     "execution_count": 97,
     "metadata": {},
     "output_type": "execute_result"
    }
   ],
   "source": [
    "df_perf_exp.columns"
   ]
  },
  {
   "cell_type": "code",
   "execution_count": 98,
   "metadata": {
    "collapsed": false,
    "id": "46B40BE608DA4B5D9977CB13DE557CC6",
    "jupyter": {
     "outputs_hidden": false
    },
    "notebookId": "66bd9a11f69c7398daacb180",
    "slideshow": {
     "slide_type": "slide"
    },
    "tags": []
   },
   "outputs": [
    {
     "data": {
      "text/plain": [
       "0          6\n",
       "1          1\n",
       "2          2\n",
       "3          3\n",
       "4         12\n",
       "          ..\n",
       "452407     1\n",
       "452408     1\n",
       "452409     1\n",
       "452410    38\n",
       "452411     8\n",
       "Name: created_day, Length: 452412, dtype: int64"
      ]
     },
     "execution_count": 98,
     "metadata": {},
     "output_type": "execute_result"
    }
   ],
   "source": [
    "df_perf_exp.groupby(['ticker_f','user.id'])['created_day'].count().reset_index()['created_day']"
   ]
  },
  {
   "cell_type": "markdown",
   "metadata": {
    "id": "DCE95263AE3B4A0AA83B04C35C7542D6",
    "jupyter": {},
    "notebookId": "66bd9a11f69c7398daacb180",
    "runtime": {
     "execution_status": null,
     "status": "default"
    },
    "scrolled": false,
    "slideshow": {
     "slide_type": "slide"
    },
    "tags": []
   },
   "source": [
    "## Saving"
   ]
  },
  {
   "cell_type": "code",
   "execution_count": 99,
   "metadata": {
    "collapsed": false,
    "id": "6BF938DCF0874659920FCA347EE9A4E2",
    "jupyter": {
     "outputs_hidden": false
    },
    "notebookId": "66bd9a11f69c7398daacb180",
    "slideshow": {
     "slide_type": "slide"
    },
    "tags": []
   },
   "outputs": [],
   "source": [
    "# fname = 'financial_data_pivot.csv'\n",
    "daytag = '20240918'\n",
    "fname = os.path.join(\n",
    "    os.getcwd(),\n",
    "    os.pardir,\n",
    "    'Output',\n",
    "    'Performance',\n",
    "    daytag,\n",
    "    'df_finbert_perf_exp_{}.csv'.format(daytag)\n",
    ")\n",
    "df_perf_exp.to_csv(\n",
    "    fname,\n",
    "    encoding = 'utf-8'\n",
    ")"
   ]
  },
  {
   "cell_type": "markdown",
   "metadata": {
    "id": "2FB18A4E380D49A1BCD49D96771A1D56",
    "jupyter": {},
    "notebookId": "66bd9a11f69c7398daacb180",
    "runtime": {
     "execution_status": null,
     "status": "default"
    },
    "scrolled": false,
    "slideshow": {
     "slide_type": "slide"
    },
    "tags": []
   },
   "source": [
    "---  \n",
    "---  \n",
    "---"
   ]
  },
  {
   "cell_type": "code",
   "execution_count": 130,
   "metadata": {
    "collapsed": false,
    "id": "F0FE7692C49D499398ACDEAFAB38558D",
    "jupyter": {
     "outputs_hidden": false
    },
    "notebookId": "66bd9a11f69c7398daacb180",
    "slideshow": {
     "slide_type": "slide"
    },
    "tags": []
   },
   "outputs": [
    {
     "name": "stderr",
     "output_type": "stream",
     "text": [
      "/opt/conda/lib/python3.7/site-packages/numpy/lib/arraysetops.py:580: FutureWarning: elementwise comparison failed; returning scalar instead, but in the future will perform elementwise comparison\n",
      "  mask |= (ar1 == a)\n"
     ]
    }
   ],
   "source": [
    "# fname = 'financial_data_pivot.csv'\n",
    "fname = os.path.join(\n",
    "    os.getcwd(),\n",
    "    'Output',\n",
    "    'Performance',\n",
    "    'df_finbert_perf_exp_{}.csv'.format('20240815')\n",
    ")\n",
    "df_perf_exp = pd.read_csv(\n",
    "    fname,\n",
    "    encoding = 'utf-8',\n",
    "    index_col = 0\n",
    ")"
   ]
  },
  {
   "cell_type": "code",
   "execution_count": 130,
   "metadata": {
    "collapsed": false,
    "id": "0989BB3D1649449DA2324AD96CA3FC76",
    "jupyter": {
     "outputs_hidden": false
    },
    "notebookId": "66bd9a11f69c7398daacb180",
    "slideshow": {
     "slide_type": "slide"
    },
    "tags": []
   },
   "outputs": [],
   "source": [
    "fmt = \"%Y-%m-%d\"\n",
    "df_perf_exp['t'] = df_perf_exp['t'].apply(lambda x: datetime.datetime.strptime(x, fmt))"
   ]
  },
  {
   "cell_type": "code",
   "execution_count": 131,
   "metadata": {
    "collapsed": false,
    "id": "EFB6EEF0853441DCBD22D4D71A613C57",
    "jupyter": {
     "outputs_hidden": false
    },
    "notebookId": "66bd9a11f69c7398daacb180",
    "slideshow": {
     "slide_type": "slide"
    },
    "tags": []
   },
   "outputs": [
    {
     "data": {
      "text/html": [
       "<div>\n",
       "<style scoped>\n",
       "    .dataframe tbody tr th:only-of-type {\n",
       "        vertical-align: middle;\n",
       "    }\n",
       "\n",
       "    .dataframe tbody tr th {\n",
       "        vertical-align: top;\n",
       "    }\n",
       "\n",
       "    .dataframe thead th {\n",
       "        text-align: right;\n",
       "    }\n",
       "</style>\n",
       "<table border=\"1\" class=\"dataframe\">\n",
       "  <thead>\n",
       "    <tr style=\"text-align: right;\">\n",
       "      <th></th>\n",
       "      <th>ticker_f</th>\n",
       "      <th>user.id</th>\n",
       "      <th>created_day</th>\n",
       "      <th>label</th>\n",
       "      <th>prc</th>\n",
       "      <th>prc_next1</th>\n",
       "      <th>ret_next1</th>\n",
       "      <th>up_next1</th>\n",
       "      <th>prc_next7</th>\n",
       "      <th>ret_next7</th>\n",
       "      <th>...</th>\n",
       "      <th>false_next30_recent60</th>\n",
       "      <th>cnt_recent90</th>\n",
       "      <th>true_next1_recent90</th>\n",
       "      <th>false_next1_recent90</th>\n",
       "      <th>true_next7_recent90</th>\n",
       "      <th>false_next7_recent90</th>\n",
       "      <th>true_next30_recent90</th>\n",
       "      <th>false_next30_recent90</th>\n",
       "      <th>true_next60_recent90</th>\n",
       "      <th>false_next60_recent90</th>\n",
       "    </tr>\n",
       "  </thead>\n",
       "  <tbody>\n",
       "    <tr>\n",
       "      <th>0</th>\n",
       "      <td>A</td>\n",
       "      <td>881</td>\n",
       "      <td>2021-03-28</td>\n",
       "      <td>1.0</td>\n",
       "      <td>125.64</td>\n",
       "      <td>125.42</td>\n",
       "      <td>0.998249</td>\n",
       "      <td>0</td>\n",
       "      <td>127.69</td>\n",
       "      <td>1.016316</td>\n",
       "      <td>...</td>\n",
       "      <td>0.0</td>\n",
       "      <td>1.0</td>\n",
       "      <td>0.0</td>\n",
       "      <td>1.0</td>\n",
       "      <td>1.0</td>\n",
       "      <td>0.0</td>\n",
       "      <td>1.0</td>\n",
       "      <td>0.0</td>\n",
       "      <td>1.0</td>\n",
       "      <td>0.0</td>\n",
       "    </tr>\n",
       "    <tr>\n",
       "      <th>1</th>\n",
       "      <td>A</td>\n",
       "      <td>881</td>\n",
       "      <td>2021-03-31</td>\n",
       "      <td>1.0</td>\n",
       "      <td>127.14</td>\n",
       "      <td>127.69</td>\n",
       "      <td>1.004326</td>\n",
       "      <td>1</td>\n",
       "      <td>129.34</td>\n",
       "      <td>1.017304</td>\n",
       "      <td>...</td>\n",
       "      <td>0.0</td>\n",
       "      <td>2.0</td>\n",
       "      <td>1.0</td>\n",
       "      <td>1.0</td>\n",
       "      <td>2.0</td>\n",
       "      <td>0.0</td>\n",
       "      <td>2.0</td>\n",
       "      <td>0.0</td>\n",
       "      <td>2.0</td>\n",
       "      <td>0.0</td>\n",
       "    </tr>\n",
       "    <tr>\n",
       "      <th>2</th>\n",
       "      <td>A</td>\n",
       "      <td>881</td>\n",
       "      <td>2021-04-09</td>\n",
       "      <td>1.0</td>\n",
       "      <td>131.91</td>\n",
       "      <td>131.91</td>\n",
       "      <td>1.000000</td>\n",
       "      <td>0</td>\n",
       "      <td>134.58</td>\n",
       "      <td>1.020241</td>\n",
       "      <td>...</td>\n",
       "      <td>0.0</td>\n",
       "      <td>3.0</td>\n",
       "      <td>1.0</td>\n",
       "      <td>2.0</td>\n",
       "      <td>3.0</td>\n",
       "      <td>0.0</td>\n",
       "      <td>3.0</td>\n",
       "      <td>0.0</td>\n",
       "      <td>3.0</td>\n",
       "      <td>0.0</td>\n",
       "    </tr>\n",
       "    <tr>\n",
       "      <th>3</th>\n",
       "      <td>A</td>\n",
       "      <td>881</td>\n",
       "      <td>2021-07-30</td>\n",
       "      <td>1.0</td>\n",
       "      <td>153.23</td>\n",
       "      <td>153.23</td>\n",
       "      <td>1.000000</td>\n",
       "      <td>0</td>\n",
       "      <td>155.70</td>\n",
       "      <td>1.016120</td>\n",
       "      <td>...</td>\n",
       "      <td>0.0</td>\n",
       "      <td>1.0</td>\n",
       "      <td>0.0</td>\n",
       "      <td>1.0</td>\n",
       "      <td>1.0</td>\n",
       "      <td>0.0</td>\n",
       "      <td>1.0</td>\n",
       "      <td>0.0</td>\n",
       "      <td>1.0</td>\n",
       "      <td>0.0</td>\n",
       "    </tr>\n",
       "    <tr>\n",
       "      <th>4</th>\n",
       "      <td>A</td>\n",
       "      <td>881</td>\n",
       "      <td>2021-08-10</td>\n",
       "      <td>1.0</td>\n",
       "      <td>156.52</td>\n",
       "      <td>156.52</td>\n",
       "      <td>1.000000</td>\n",
       "      <td>0</td>\n",
       "      <td>160.91</td>\n",
       "      <td>1.028048</td>\n",
       "      <td>...</td>\n",
       "      <td>0.0</td>\n",
       "      <td>2.0</td>\n",
       "      <td>0.0</td>\n",
       "      <td>2.0</td>\n",
       "      <td>2.0</td>\n",
       "      <td>0.0</td>\n",
       "      <td>2.0</td>\n",
       "      <td>0.0</td>\n",
       "      <td>1.0</td>\n",
       "      <td>1.0</td>\n",
       "    </tr>\n",
       "  </tbody>\n",
       "</table>\n",
       "<p>5 rows × 43 columns</p>\n",
       "</div>"
      ],
      "text/plain": [
       "  ticker_f  user.id created_day  label     prc  prc_next1  ret_next1  \\\n",
       "0        A      881  2021-03-28    1.0  125.64     125.42   0.998249   \n",
       "1        A      881  2021-03-31    1.0  127.14     127.69   1.004326   \n",
       "2        A      881  2021-04-09    1.0  131.91     131.91   1.000000   \n",
       "3        A      881  2021-07-30    1.0  153.23     153.23   1.000000   \n",
       "4        A      881  2021-08-10    1.0  156.52     156.52   1.000000   \n",
       "\n",
       "   up_next1  prc_next7  ret_next7  ...  false_next30_recent60  cnt_recent90  \\\n",
       "0         0     127.69   1.016316  ...                    0.0           1.0   \n",
       "1         1     129.34   1.017304  ...                    0.0           2.0   \n",
       "2         0     134.58   1.020241  ...                    0.0           3.0   \n",
       "3         0     155.70   1.016120  ...                    0.0           1.0   \n",
       "4         0     160.91   1.028048  ...                    0.0           2.0   \n",
       "\n",
       "   true_next1_recent90  false_next1_recent90  true_next7_recent90  \\\n",
       "0                  0.0                   1.0                  1.0   \n",
       "1                  1.0                   1.0                  2.0   \n",
       "2                  1.0                   2.0                  3.0   \n",
       "3                  0.0                   1.0                  1.0   \n",
       "4                  0.0                   2.0                  2.0   \n",
       "\n",
       "   false_next7_recent90  true_next30_recent90  false_next30_recent90  \\\n",
       "0                   0.0                   1.0                    0.0   \n",
       "1                   0.0                   2.0                    0.0   \n",
       "2                   0.0                   3.0                    0.0   \n",
       "3                   0.0                   1.0                    0.0   \n",
       "4                   0.0                   2.0                    0.0   \n",
       "\n",
       "   true_next60_recent90  false_next60_recent90  \n",
       "0                   1.0                    0.0  \n",
       "1                   2.0                    0.0  \n",
       "2                   3.0                    0.0  \n",
       "3                   1.0                    0.0  \n",
       "4                   1.0                    1.0  \n",
       "\n",
       "[5 rows x 43 columns]"
      ]
     },
     "execution_count": 131,
     "metadata": {},
     "output_type": "execute_result"
    }
   ],
   "source": [
    "df_perf_exp.head()"
   ]
  },
  {
   "cell_type": "code",
   "execution_count": 135,
   "metadata": {
    "collapsed": false,
    "id": "C8ECA507200040098D2869B30C286D20",
    "jupyter": {
     "outputs_hidden": false
    },
    "notebookId": "66bd9a11f69c7398daacb180",
    "slideshow": {
     "slide_type": "slide"
    },
    "tags": []
   },
   "outputs": [
    {
     "data": {
      "text/plain": [
       "333"
      ]
     },
     "execution_count": 135,
     "metadata": {},
     "output_type": "execute_result"
    }
   ],
   "source": [
    "len(df_perf_exp['ticker_f'].unique())"
   ]
  },
  {
   "cell_type": "code",
   "execution_count": 136,
   "metadata": {
    "collapsed": false,
    "id": "05C838F4CA754F2C975381E76BFF2D58",
    "jupyter": {
     "outputs_hidden": false
    },
    "notebookId": "66bd9a11f69c7398daacb180",
    "slideshow": {
     "slide_type": "slide"
    },
    "tags": []
   },
   "outputs": [
    {
     "data": {
      "text/plain": [
       "391"
      ]
     },
     "execution_count": 136,
     "metadata": {},
     "output_type": "execute_result"
    }
   ],
   "source": [
    "len(df_perf_exp['created_day'].unique())"
   ]
  },
  {
   "cell_type": "markdown",
   "metadata": {
    "id": "E1E71211B052409784CF3F662A2EA095",
    "jupyter": {},
    "notebookId": "66bd9a11f69c7398daacb180",
    "runtime": {
     "execution_status": null,
     "status": "default"
    },
    "scrolled": false,
    "slideshow": {
     "slide_type": "slide"
    },
    "tags": []
   },
   "source": [
    "## Test"
   ]
  },
  {
   "cell_type": "code",
   "execution_count": 132,
   "metadata": {
    "collapsed": false,
    "id": "10DBB013976A47438A6C30B815C62AB1",
    "jupyter": {
     "outputs_hidden": false
    },
    "notebookId": "66bd9a11f69c7398daacb180",
    "slideshow": {
     "slide_type": "slide"
    },
    "tags": []
   },
   "outputs": [],
   "source": [
    "from scipy.stats import pearsonr"
   ]
  },
  {
   "cell_type": "code",
   "execution_count": 133,
   "metadata": {
    "collapsed": false,
    "id": "899CCB1244194D6B8F91D053225F9307",
    "jupyter": {
     "outputs_hidden": false
    },
    "notebookId": "66bd9a11f69c7398daacb180",
    "slideshow": {
     "slide_type": "slide"
    },
    "tags": []
   },
   "outputs": [
    {
     "name": "stdout",
     "output_type": "stream",
     "text": [
      "Experience Window: 60 days...\n",
      "\n",
      "\n",
      "Performance Window: 7 days...\n",
      "Corr of success w/ perf.: 0.1051 (p=0.0000)\n",
      "Corr of failure w/ perf.: -0.0917 (p=0.0000)\n",
      "Corr of cnt w/ perf.: 0.0111 (p=0.0000)\n",
      "\n",
      "Performance Window: 30 days...\n",
      "Corr of success w/ perf.: 0.1549 (p=0.0000)\n",
      "Corr of failure w/ perf.: -0.1509 (p=0.0000)\n",
      "Corr of cnt w/ perf.: 0.0110 (p=0.0000)\n"
     ]
    }
   ],
   "source": [
    "window_r = 60\n",
    "print(\"Experience Window: {} days...\\n\".format(window_r))\n",
    "# window_t = 60\n",
    "for window_t in [7, 30]:\n",
    "    print(\"\\nPerformance Window: {} days...\".format(window_t))\n",
    "    x = 'perf_next{}'.format(window_t)\n",
    "    y = 'true_next{}_recent{}'.format(window_t, window_r)\n",
    "    flag = (df_perf_exp[[x,y]].isna().sum(axis = 1)==0) \n",
    "    sub = df_perf_exp[flag]\n",
    "    stat, p_value = pearsonr(sub[x],sub[y])\n",
    "    print(\"Corr of {} w/ perf.: {:.4f} (p={:.4f})\".format('success', stat, p_value))\n",
    "    ###\n",
    "    x = 'perf_next{}'.format(window_t)\n",
    "    y = 'false_next{}_recent{}'.format(window_t, window_r)\n",
    "    flag = (df_perf_exp[[x,y]].isna().sum(axis = 1)==0) \n",
    "    sub = df_perf_exp[flag]\n",
    "    stat, p_value = pearsonr(sub[x],sub[y])\n",
    "    print(\"Corr of {} w/ perf.: {:.4f} (p={:.4f})\".format('failure', stat, p_value))\n",
    "    ###\n",
    "    x = 'perf_next{}'.format(window_t)\n",
    "    y = 'cnt_recent{}'.format(window_r)\n",
    "    flag = (df_perf_exp[[x,y]].isna().sum(axis = 1)==0) \n",
    "    sub = df_perf_exp[flag]\n",
    "    stat, p_value = pearsonr(sub[x],sub[y])\n",
    "    print(\"Corr of {} w/ perf.: {:.4f} (p={:.4f})\".format('cnt', stat, p_value))"
   ]
  },
  {
   "cell_type": "markdown",
   "metadata": {
    "id": "7C160D8AAAD64632BC7BC7F9B329DBBA",
    "jupyter": {},
    "notebookId": "66bd9a11f69c7398daacb180",
    "runtime": {
     "execution_status": null,
     "status": "default"
    },
    "scrolled": false,
    "slideshow": {
     "slide_type": "slide"
    },
    "tags": []
   },
   "source": [
    "# Fixed Effects Model"
   ]
  },
  {
   "cell_type": "markdown",
   "metadata": {
    "id": "A4FCDFD3D520420F9602FE7603FF6E83",
    "jupyter": {},
    "notebookId": "66bd9a11f69c7398daacb180",
    "runtime": {
     "execution_status": null,
     "status": "default"
    },
    "scrolled": false,
    "slideshow": {
     "slide_type": "slide"
    },
    "tags": []
   },
   "source": [
    "- [Fixed Effects in Linear Regression](https://lost-stats.github.io/Model_Estimation/OLS/fixed_effects_in_linear_regression.html)"
   ]
  },
  {
   "cell_type": "code",
   "execution_count": 135,
   "metadata": {
    "collapsed": false,
    "id": "D872ACB92D1B4B62866C61CB5324C021",
    "jupyter": {
     "outputs_hidden": false
    },
    "notebookId": "66bd9a11f69c7398daacb180",
    "slideshow": {
     "slide_type": "slide"
    },
    "tags": []
   },
   "outputs": [
    {
     "name": "stdout",
     "output_type": "stream",
     "text": [
      "Looking in indexes: https://pypi.tuna.tsinghua.edu.cn/simple\n",
      "Collecting linearmodels\n",
      "  Downloading https://pypi.tuna.tsinghua.edu.cn/packages/e0/5d/6793b3e5cfa9f6f73a1b74f172ae5a087b2fd69e616ca3f434a1a5a33928/linearmodels-4.25-cp37-cp37m-manylinux_2_17_x86_64.manylinux2014_x86_64.whl (1.5 MB)\n",
      "\u001b[2K     \u001b[90m━━━━━━━━━━━━━━━━━━━━━━━━━━━━━━━━━━━━━━━━\u001b[0m \u001b[32m1.5/1.5 MB\u001b[0m \u001b[31m8.7 MB/s\u001b[0m eta \u001b[36m0:00:00\u001b[0ma \u001b[36m0:00:01\u001b[0m\n",
      "\u001b[?25hCollecting some-package\n",
      "  Downloading https://pypi.tuna.tsinghua.edu.cn/packages/e7/a2/d318a685319c3801db1ae0002fc8e095663a55546c62a6e30d9d0fc3289b/some-package-0.1.zip (2.8 kB)\n",
      "  Preparing metadata (setup.py) ... \u001b[?25ldone\n",
      "\u001b[?25hRequirement already satisfied: patsy in /opt/conda/lib/python3.7/site-packages (from linearmodels) (0.5.2)\n",
      "Requirement already satisfied: statsmodels>=0.11 in /opt/conda/lib/python3.7/site-packages (from linearmodels) (0.13.2)\n",
      "Requirement already satisfied: mypy-extensions>=0.4 in /opt/conda/lib/python3.7/site-packages (from linearmodels) (0.4.3)\n",
      "Requirement already satisfied: Cython>=0.29.21 in /opt/conda/lib/python3.7/site-packages (from linearmodels) (0.29.28)\n",
      "Collecting property-cached>=1.6.3\n",
      "  Downloading https://pypi.tuna.tsinghua.edu.cn/packages/5c/6c/94d8e520b20a2502e508e1c558f338061cf409cbee78fd6a3a5c6ae812bd/property_cached-1.6.4-py2.py3-none-any.whl (7.8 kB)\n",
      "Requirement already satisfied: pandas>=0.24 in /opt/conda/lib/python3.7/site-packages (from linearmodels) (1.3.5)\n",
      "Requirement already satisfied: numpy>=1.16 in /opt/conda/lib/python3.7/site-packages (from linearmodels) (1.21.5)\n",
      "Collecting formulaic\n",
      "  Downloading https://pypi.tuna.tsinghua.edu.cn/packages/ae/f0/ff275c0009f0037c381c6e3a94049b9792df7d7f437c5ccd0c7aefca5f22/formulaic-0.6.6-py3-none-any.whl (91 kB)\n",
      "\u001b[2K     \u001b[90m━━━━━━━━━━━━━━━━━━━━━━━━━━━━━━━━━━━━━━━━\u001b[0m \u001b[32m91.0/91.0 KB\u001b[0m \u001b[31m24.4 MB/s\u001b[0m eta \u001b[36m0:00:00\u001b[0m\n",
      "\u001b[?25hRequirement already satisfied: scipy>=1.2 in /opt/conda/lib/python3.7/site-packages (from linearmodels) (1.7.3)\n",
      "Collecting pyhdfe>=0.1\n",
      "  Downloading https://pypi.tuna.tsinghua.edu.cn/packages/2f/51/cb006fbc08c32f161035fb19ca718250eb5f6d0692ea6dcc1e62c3e556a2/pyhdfe-0.2.0-py3-none-any.whl (19 kB)\n",
      "Requirement already satisfied: python-dateutil>=2.7.3 in /opt/conda/lib/python3.7/site-packages (from pandas>=0.24->linearmodels) (2.8.2)\n",
      "Requirement already satisfied: pytz>=2017.3 in /opt/conda/lib/python3.7/site-packages (from pandas>=0.24->linearmodels) (2021.3)\n",
      "Requirement already satisfied: packaging>=21.3 in /opt/conda/lib/python3.7/site-packages (from statsmodels>=0.11->linearmodels) (21.3)\n",
      "Requirement already satisfied: six in /opt/conda/lib/python3.7/site-packages (from patsy->linearmodels) (1.16.0)\n",
      "Collecting interface-meta>=1.2.0\n",
      "  Downloading https://pypi.tuna.tsinghua.edu.cn/packages/02/3f/a6ec28c88e2d8e54d32598a1e0b5208a4baa72a8e7f6e241beab5731eb9d/interface_meta-1.3.0-py3-none-any.whl (14 kB)\n",
      "Collecting graphlib-backport>=1.0.0\n",
      "  Downloading https://pypi.tuna.tsinghua.edu.cn/packages/b0/2a/d77491343f72546943dd79974133a5261b9bc12a80806c34f51a058c0732/graphlib_backport-1.0.3-py3-none-any.whl (5.1 kB)\n",
      "Collecting typing-extensions>=4.2.0\n",
      "  Downloading https://pypi.tuna.tsinghua.edu.cn/packages/ec/6b/63cc3df74987c36fe26157ee12e09e8f9db4de771e0f3404263117e75b95/typing_extensions-4.7.1-py3-none-any.whl (33 kB)\n",
      "Requirement already satisfied: wrapt>=1.0 in /opt/conda/lib/python3.7/site-packages (from formulaic->linearmodels) (1.14.1)\n",
      "Requirement already satisfied: cached-property>=1.3.0 in /opt/conda/lib/python3.7/site-packages (from formulaic->linearmodels) (1.5.2)\n",
      "Collecting astor>=0.8\n",
      "  Downloading https://pypi.tuna.tsinghua.edu.cn/packages/c3/88/97eef84f48fa04fbd6750e62dcceafba6c63c81b7ac1420856c8dcc0a3f9/astor-0.8.1-py2.py3-none-any.whl (27 kB)\n",
      "Requirement already satisfied: pyparsing!=3.0.5,>=2.0.2 in /opt/conda/lib/python3.7/site-packages (from packaging>=21.3->statsmodels>=0.11->linearmodels) (3.0.7)\n",
      "Building wheels for collected packages: some-package\n",
      "  Building wheel for some-package (setup.py) ... \u001b[?25ldone\n",
      "\u001b[?25h  Created wheel for some-package: filename=some_package-0.1-py3-none-any.whl size=1442 sha256=310d298b4d80fe6aeb2301a9a2075e5194ed8525d738957f16c6553bf3f8af1e\n",
      "  Stored in directory: /home/mw/.cache/pip/wheels/5c/cd/43/c6d6f088fa8adbb0a90b8e8cea7066be87c9cb552cf867cd83\n",
      "Successfully built some-package\n",
      "Installing collected packages: some-package, typing-extensions, property-cached, interface-meta, graphlib-backport, astor, pyhdfe, formulaic, linearmodels\n",
      "  Attempting uninstall: typing-extensions\n",
      "    Found existing installation: typing_extensions 4.1.1\n",
      "    Uninstalling typing_extensions-4.1.1:\n",
      "      Successfully uninstalled typing_extensions-4.1.1\n",
      "Successfully installed astor-0.8.1 formulaic-0.6.6 graphlib-backport-1.0.3 interface-meta-1.3.0 linearmodels-4.25 property-cached-1.6.4 pyhdfe-0.2.0 some-package-0.1 typing-extensions-4.7.1\n",
      "Note: you may need to restart the kernel to use updated packages.\n"
     ]
    }
   ],
   "source": [
    "# pip install linearmodels -i https://pypi.tuna.tsinghua.edu.cn/simple some-package"
   ]
  },
  {
   "cell_type": "code",
   "execution_count": 5,
   "metadata": {
    "collapsed": false,
    "id": "08EA4F73DD954853BD9C230326B2F747",
    "jupyter": {
     "outputs_hidden": false
    },
    "notebookId": "66bd9a11f69c7398daacb180",
    "slideshow": {
     "slide_type": "slide"
    },
    "tags": []
   },
   "outputs": [],
   "source": [
    "# from linearmodels import PanelOLS"
   ]
  },
  {
   "cell_type": "code",
   "execution_count": 6,
   "metadata": {
    "collapsed": false,
    "id": "DFB4AAE5FAC74765810BDA7311179562",
    "jupyter": {
     "outputs_hidden": false
    },
    "notebookId": "66bd9a11f69c7398daacb180",
    "slideshow": {
     "slide_type": "slide"
    },
    "tags": []
   },
   "outputs": [],
   "source": [
    "# window_t = 7\n",
    "# window_r = 60\n",
    "# y = 'perf_next{}'.format(window_t)\n",
    "# x = 'true_next{}_recent{}'.format(window_t, window_r)\n",
    "# c = 'cnt_recent{}'.format(window_r)"
   ]
  },
  {
   "cell_type": "code",
   "execution_count": 7,
   "metadata": {
    "collapsed": false,
    "id": "9FA2B30A90C142A9BFF6082AD01EA62A",
    "jupyter": {
     "outputs_hidden": false
    },
    "notebookId": "66bd9a11f69c7398daacb180",
    "slideshow": {
     "slide_type": "slide"
    },
    "tags": []
   },
   "outputs": [
    {
     "ename": "NameError",
     "evalue": "name 'df_perf_exp' is not defined",
     "output_type": "error",
     "traceback": [
      "\u001b[0;31m---------------------------------------------------------------------------\u001b[0m",
      "\u001b[0;31mNameError\u001b[0m                                 Traceback (most recent call last)",
      "\u001b[0;32m/tmp/ipykernel_440/427112345.py\u001b[0m in \u001b[0;36m<module>\u001b[0;34m\u001b[0m\n\u001b[0;32m----> 1\u001b[0;31m \u001b[0mdata\u001b[0m \u001b[0;34m=\u001b[0m \u001b[0mdf_perf_exp\u001b[0m\u001b[0;34m.\u001b[0m\u001b[0mset_index\u001b[0m\u001b[0;34m(\u001b[0m\u001b[0;34m[\u001b[0m\u001b[0;34m'ticker_f'\u001b[0m\u001b[0;34m,\u001b[0m \u001b[0;34m't'\u001b[0m\u001b[0;34m]\u001b[0m\u001b[0;34m)\u001b[0m\u001b[0;34m\u001b[0m\u001b[0;34m\u001b[0m\u001b[0m\n\u001b[0m",
      "\u001b[0;31mNameError\u001b[0m: name 'df_perf_exp' is not defined"
     ]
    }
   ],
   "source": [
    "# data = df_perf_exp.set_index(['ticker_f', 't'])"
   ]
  },
  {
   "cell_type": "code",
   "execution_count": 139,
   "metadata": {
    "collapsed": false,
    "id": "0756FB4C11F34594A4409CEDB67BEB87",
    "jupyter": {
     "outputs_hidden": false
    },
    "notebookId": "66bd9a11f69c7398daacb180",
    "slideshow": {
     "slide_type": "slide"
    },
    "tags": []
   },
   "outputs": [
    {
     "data": {
      "text/html": [
       "<div>\n",
       "<style scoped>\n",
       "    .dataframe tbody tr th:only-of-type {\n",
       "        vertical-align: middle;\n",
       "    }\n",
       "\n",
       "    .dataframe tbody tr th {\n",
       "        vertical-align: top;\n",
       "    }\n",
       "\n",
       "    .dataframe thead th {\n",
       "        text-align: right;\n",
       "    }\n",
       "</style>\n",
       "<table border=\"1\" class=\"dataframe\">\n",
       "  <thead>\n",
       "    <tr style=\"text-align: right;\">\n",
       "      <th></th>\n",
       "      <th></th>\n",
       "      <th>user.id</th>\n",
       "      <th>created_day</th>\n",
       "      <th>label</th>\n",
       "      <th>prc</th>\n",
       "      <th>prc_next1</th>\n",
       "      <th>ret_next1</th>\n",
       "      <th>up_next1</th>\n",
       "      <th>prc_next7</th>\n",
       "      <th>ret_next7</th>\n",
       "      <th>up_next7</th>\n",
       "      <th>...</th>\n",
       "      <th>false_next30_recent60</th>\n",
       "      <th>cnt_recent90</th>\n",
       "      <th>true_next1_recent90</th>\n",
       "      <th>false_next1_recent90</th>\n",
       "      <th>true_next7_recent90</th>\n",
       "      <th>false_next7_recent90</th>\n",
       "      <th>true_next30_recent90</th>\n",
       "      <th>false_next30_recent90</th>\n",
       "      <th>true_next60_recent90</th>\n",
       "      <th>false_next60_recent90</th>\n",
       "    </tr>\n",
       "    <tr>\n",
       "      <th>ticker_f</th>\n",
       "      <th>t</th>\n",
       "      <th></th>\n",
       "      <th></th>\n",
       "      <th></th>\n",
       "      <th></th>\n",
       "      <th></th>\n",
       "      <th></th>\n",
       "      <th></th>\n",
       "      <th></th>\n",
       "      <th></th>\n",
       "      <th></th>\n",
       "      <th></th>\n",
       "      <th></th>\n",
       "      <th></th>\n",
       "      <th></th>\n",
       "      <th></th>\n",
       "      <th></th>\n",
       "      <th></th>\n",
       "      <th></th>\n",
       "      <th></th>\n",
       "      <th></th>\n",
       "      <th></th>\n",
       "    </tr>\n",
       "  </thead>\n",
       "  <tbody>\n",
       "    <tr>\n",
       "      <th rowspan=\"5\" valign=\"top\">A</th>\n",
       "      <th>2021-03-28</th>\n",
       "      <td>881</td>\n",
       "      <td>2021-03-28</td>\n",
       "      <td>1.0</td>\n",
       "      <td>125.64</td>\n",
       "      <td>125.42</td>\n",
       "      <td>0.998249</td>\n",
       "      <td>0</td>\n",
       "      <td>129.34</td>\n",
       "      <td>1.029449</td>\n",
       "      <td>1</td>\n",
       "      <td>...</td>\n",
       "      <td>0.0</td>\n",
       "      <td>1.0</td>\n",
       "      <td>0.0</td>\n",
       "      <td>1.0</td>\n",
       "      <td>1.0</td>\n",
       "      <td>0.0</td>\n",
       "      <td>1.0</td>\n",
       "      <td>0.0</td>\n",
       "      <td>1.0</td>\n",
       "      <td>0.0</td>\n",
       "    </tr>\n",
       "    <tr>\n",
       "      <th>2021-03-31</th>\n",
       "      <td>881</td>\n",
       "      <td>2021-03-31</td>\n",
       "      <td>1.0</td>\n",
       "      <td>127.14</td>\n",
       "      <td>127.69</td>\n",
       "      <td>1.004326</td>\n",
       "      <td>1</td>\n",
       "      <td>131.91</td>\n",
       "      <td>1.037518</td>\n",
       "      <td>1</td>\n",
       "      <td>...</td>\n",
       "      <td>0.0</td>\n",
       "      <td>2.0</td>\n",
       "      <td>1.0</td>\n",
       "      <td>1.0</td>\n",
       "      <td>2.0</td>\n",
       "      <td>0.0</td>\n",
       "      <td>2.0</td>\n",
       "      <td>0.0</td>\n",
       "      <td>2.0</td>\n",
       "      <td>0.0</td>\n",
       "    </tr>\n",
       "    <tr>\n",
       "      <th>2021-04-09</th>\n",
       "      <td>881</td>\n",
       "      <td>2021-04-09</td>\n",
       "      <td>1.0</td>\n",
       "      <td>131.91</td>\n",
       "      <td>131.91</td>\n",
       "      <td>1.000000</td>\n",
       "      <td>0</td>\n",
       "      <td>134.58</td>\n",
       "      <td>1.020241</td>\n",
       "      <td>1</td>\n",
       "      <td>...</td>\n",
       "      <td>1.0</td>\n",
       "      <td>3.0</td>\n",
       "      <td>1.0</td>\n",
       "      <td>2.0</td>\n",
       "      <td>3.0</td>\n",
       "      <td>0.0</td>\n",
       "      <td>2.0</td>\n",
       "      <td>1.0</td>\n",
       "      <td>3.0</td>\n",
       "      <td>0.0</td>\n",
       "    </tr>\n",
       "    <tr>\n",
       "      <th>2021-07-30</th>\n",
       "      <td>881</td>\n",
       "      <td>2021-07-30</td>\n",
       "      <td>1.0</td>\n",
       "      <td>153.23</td>\n",
       "      <td>153.23</td>\n",
       "      <td>1.000000</td>\n",
       "      <td>0</td>\n",
       "      <td>155.70</td>\n",
       "      <td>1.016120</td>\n",
       "      <td>1</td>\n",
       "      <td>...</td>\n",
       "      <td>0.0</td>\n",
       "      <td>1.0</td>\n",
       "      <td>0.0</td>\n",
       "      <td>1.0</td>\n",
       "      <td>1.0</td>\n",
       "      <td>0.0</td>\n",
       "      <td>1.0</td>\n",
       "      <td>0.0</td>\n",
       "      <td>1.0</td>\n",
       "      <td>0.0</td>\n",
       "    </tr>\n",
       "    <tr>\n",
       "      <th>2021-08-10</th>\n",
       "      <td>881</td>\n",
       "      <td>2021-08-10</td>\n",
       "      <td>1.0</td>\n",
       "      <td>156.52</td>\n",
       "      <td>156.52</td>\n",
       "      <td>1.000000</td>\n",
       "      <td>0</td>\n",
       "      <td>160.91</td>\n",
       "      <td>1.028048</td>\n",
       "      <td>1</td>\n",
       "      <td>...</td>\n",
       "      <td>0.0</td>\n",
       "      <td>2.0</td>\n",
       "      <td>0.0</td>\n",
       "      <td>2.0</td>\n",
       "      <td>2.0</td>\n",
       "      <td>0.0</td>\n",
       "      <td>2.0</td>\n",
       "      <td>0.0</td>\n",
       "      <td>1.0</td>\n",
       "      <td>1.0</td>\n",
       "    </tr>\n",
       "  </tbody>\n",
       "</table>\n",
       "<p>5 rows × 41 columns</p>\n",
       "</div>"
      ],
      "text/plain": [
       "                     user.id created_day  label     prc  prc_next1  ret_next1  \\\n",
       "ticker_f t                                                                      \n",
       "A        2021-03-28      881  2021-03-28    1.0  125.64     125.42   0.998249   \n",
       "         2021-03-31      881  2021-03-31    1.0  127.14     127.69   1.004326   \n",
       "         2021-04-09      881  2021-04-09    1.0  131.91     131.91   1.000000   \n",
       "         2021-07-30      881  2021-07-30    1.0  153.23     153.23   1.000000   \n",
       "         2021-08-10      881  2021-08-10    1.0  156.52     156.52   1.000000   \n",
       "\n",
       "                     up_next1  prc_next7  ret_next7  up_next7  ...  \\\n",
       "ticker_f t                                                     ...   \n",
       "A        2021-03-28         0     129.34   1.029449         1  ...   \n",
       "         2021-03-31         1     131.91   1.037518         1  ...   \n",
       "         2021-04-09         0     134.58   1.020241         1  ...   \n",
       "         2021-07-30         0     155.70   1.016120         1  ...   \n",
       "         2021-08-10         0     160.91   1.028048         1  ...   \n",
       "\n",
       "                     false_next30_recent60  cnt_recent90  true_next1_recent90  \\\n",
       "ticker_f t                                                                      \n",
       "A        2021-03-28                    0.0           1.0                  0.0   \n",
       "         2021-03-31                    0.0           2.0                  1.0   \n",
       "         2021-04-09                    1.0           3.0                  1.0   \n",
       "         2021-07-30                    0.0           1.0                  0.0   \n",
       "         2021-08-10                    0.0           2.0                  0.0   \n",
       "\n",
       "                     false_next1_recent90  true_next7_recent90  \\\n",
       "ticker_f t                                                       \n",
       "A        2021-03-28                   1.0                  1.0   \n",
       "         2021-03-31                   1.0                  2.0   \n",
       "         2021-04-09                   2.0                  3.0   \n",
       "         2021-07-30                   1.0                  1.0   \n",
       "         2021-08-10                   2.0                  2.0   \n",
       "\n",
       "                     false_next7_recent90  true_next30_recent90  \\\n",
       "ticker_f t                                                        \n",
       "A        2021-03-28                   0.0                   1.0   \n",
       "         2021-03-31                   0.0                   2.0   \n",
       "         2021-04-09                   0.0                   2.0   \n",
       "         2021-07-30                   0.0                   1.0   \n",
       "         2021-08-10                   0.0                   2.0   \n",
       "\n",
       "                     false_next30_recent90  true_next60_recent90  \\\n",
       "ticker_f t                                                         \n",
       "A        2021-03-28                    0.0                   1.0   \n",
       "         2021-03-31                    0.0                   2.0   \n",
       "         2021-04-09                    1.0                   3.0   \n",
       "         2021-07-30                    0.0                   1.0   \n",
       "         2021-08-10                    0.0                   1.0   \n",
       "\n",
       "                     false_next60_recent90  \n",
       "ticker_f t                                  \n",
       "A        2021-03-28                    0.0  \n",
       "         2021-03-31                    0.0  \n",
       "         2021-04-09                    0.0  \n",
       "         2021-07-30                    0.0  \n",
       "         2021-08-10                    1.0  \n",
       "\n",
       "[5 rows x 41 columns]"
      ]
     },
     "execution_count": 139,
     "metadata": {},
     "output_type": "execute_result"
    }
   ],
   "source": [
    "# data.head()"
   ]
  },
  {
   "cell_type": "code",
   "execution_count": 140,
   "metadata": {
    "collapsed": false,
    "id": "64A0BE3E94A8480A8C38D40A71B11269",
    "jupyter": {
     "outputs_hidden": false
    },
    "notebookId": "66bd9a11f69c7398daacb180",
    "slideshow": {
     "slide_type": "slide"
    },
    "tags": []
   },
   "outputs": [],
   "source": [
    "# FE = PanelOLS(\n",
    "#     data[y], \n",
    "#     data[[x, c]],\n",
    "#     entity_effects = True,\n",
    "#     time_effects = True\n",
    "# )"
   ]
  },
  {
   "cell_type": "code",
   "execution_count": 141,
   "metadata": {
    "collapsed": false,
    "id": "344A195271C740F58182DA6CB0970774",
    "jupyter": {
     "outputs_hidden": false
    },
    "notebookId": "66bd9a11f69c7398daacb180",
    "slideshow": {
     "slide_type": "slide"
    },
    "tags": []
   },
   "outputs": [],
   "source": [
    "# # Result\n",
    "# result = FE.fit(\n",
    "#     cov_type = 'clustered',\n",
    "#     cluster_entity=True,\n",
    "#     cluster_time=True\n",
    "# )"
   ]
  },
  {
   "cell_type": "code",
   "execution_count": 142,
   "metadata": {
    "collapsed": true,
    "id": "DFDA3376150F4BCC828DEC1C5ACA818F",
    "jupyter": {
     "outputs_hidden": true
    },
    "notebookId": "66bd9a11f69c7398daacb180",
    "slideshow": {
     "slide_type": "slide"
    },
    "tags": []
   },
   "outputs": [
    {
     "data": {
      "text/html": [
       "<table class=\"simpletable\">\n",
       "<caption>PanelOLS Estimation Summary</caption>\n",
       "<tr>\n",
       "  <th>Dep. Variable:</th>       <td>perf_next7</td>    <th>  R-squared:         </th>      <td>0.0649</td>   \n",
       "</tr>\n",
       "<tr>\n",
       "  <th>Estimator:</th>            <td>PanelOLS</td>     <th>  R-squared (Between):</th>     <td>0.0154</td>   \n",
       "</tr>\n",
       "<tr>\n",
       "  <th>No. Observations:</th>      <td>2048369</td>     <th>  R-squared (Within):</th>      <td>0.0679</td>   \n",
       "</tr>\n",
       "<tr>\n",
       "  <th>Date:</th>             <td>Sat, Dec 23 2023</td> <th>  R-squared (Overall):</th>     <td>0.0358</td>   \n",
       "</tr>\n",
       "<tr>\n",
       "  <th>Time:</th>                 <td>08:37:00</td>     <th>  Log-likelihood     </th>    <td>-1.341e+06</td> \n",
       "</tr>\n",
       "<tr>\n",
       "  <th>Cov. Estimator:</th>       <td>Clustered</td>    <th>                     </th>         <td></td>      \n",
       "</tr>\n",
       "<tr>\n",
       "  <th></th>                          <td></td>         <th>  F-statistic:       </th>     <td>7.107e+04</td> \n",
       "</tr>\n",
       "<tr>\n",
       "  <th>Entities:</th>                <td>367</td>       <th>  P-value            </th>      <td>0.0000</td>   \n",
       "</tr>\n",
       "<tr>\n",
       "  <th>Avg Obs:</th>               <td>5581.4</td>      <th>  Distribution:      </th>   <td>F(2,2047610)</td>\n",
       "</tr>\n",
       "<tr>\n",
       "  <th>Min Obs:</th>               <td>2.0000</td>      <th>                     </th>         <td></td>      \n",
       "</tr>\n",
       "<tr>\n",
       "  <th>Max Obs:</th>              <td>1.997e+05</td>    <th>  F-statistic (robust):</th>    <td>367.87</td>   \n",
       "</tr>\n",
       "<tr>\n",
       "  <th></th>                          <td></td>         <th>  P-value            </th>      <td>0.0000</td>   \n",
       "</tr>\n",
       "<tr>\n",
       "  <th>Time periods:</th>            <td>391</td>       <th>  Distribution:      </th>   <td>F(2,2047610)</td>\n",
       "</tr>\n",
       "<tr>\n",
       "  <th>Avg Obs:</th>               <td>5238.8</td>      <th>                     </th>         <td></td>      \n",
       "</tr>\n",
       "<tr>\n",
       "  <th>Min Obs:</th>               <td>1250.0</td>      <th>                     </th>         <td></td>      \n",
       "</tr>\n",
       "<tr>\n",
       "  <th>Max Obs:</th>              <td>2.011e+04</td>    <th>                     </th>         <td></td>      \n",
       "</tr>\n",
       "<tr>\n",
       "  <th></th>                          <td></td>         <th>                     </th>         <td></td>      \n",
       "</tr>\n",
       "</table>\n",
       "<table class=\"simpletable\">\n",
       "<caption>Parameter Estimates</caption>\n",
       "<tr>\n",
       "           <td></td>           <th>Parameter</th> <th>Std. Err.</th> <th>T-stat</th>  <th>P-value</th> <th>Lower CI</th> <th>Upper CI</th>\n",
       "</tr>\n",
       "<tr>\n",
       "  <th>true_next7_recent60</th>  <td>0.0521</td>    <td>0.0020</td>   <td>26.371</td>  <td>0.0000</td>   <td>0.0482</td>   <td>0.0559</td> \n",
       "</tr>\n",
       "<tr>\n",
       "  <th>cnt_recent60</th>         <td>-0.0270</td>   <td>0.0010</td>   <td>-27.023</td> <td>0.0000</td>   <td>-0.0290</td>  <td>-0.0250</td>\n",
       "</tr>\n",
       "</table><br/><br/>F-test for Poolability: 177.24<br/>P-value: 0.0000<br/>Distribution: F(756,2047610)<br/><br/>Included effects: Entity, Time<br/>id: 0x7fb9c0e2ba10"
      ],
      "text/plain": [
       "                          PanelOLS Estimation Summary                           \n",
       "================================================================================\n",
       "Dep. Variable:             perf_next7   R-squared:                        0.0649\n",
       "Estimator:                   PanelOLS   R-squared (Between):              0.0154\n",
       "No. Observations:             2048369   R-squared (Within):               0.0679\n",
       "Date:                Sat, Dec 23 2023   R-squared (Overall):              0.0358\n",
       "Time:                        08:37:00   Log-likelihood                -1.341e+06\n",
       "Cov. Estimator:             Clustered                                           \n",
       "                                        F-statistic:                   7.107e+04\n",
       "Entities:                         367   P-value                           0.0000\n",
       "Avg Obs:                       5581.4   Distribution:               F(2,2047610)\n",
       "Min Obs:                       2.0000                                           \n",
       "Max Obs:                    1.997e+05   F-statistic (robust):             367.87\n",
       "                                        P-value                           0.0000\n",
       "Time periods:                     391   Distribution:               F(2,2047610)\n",
       "Avg Obs:                       5238.8                                           \n",
       "Min Obs:                       1250.0                                           \n",
       "Max Obs:                    2.011e+04                                           \n",
       "                                                                                \n",
       "                                  Parameter Estimates                                  \n",
       "=======================================================================================\n",
       "                     Parameter  Std. Err.     T-stat    P-value    Lower CI    Upper CI\n",
       "---------------------------------------------------------------------------------------\n",
       "true_next7_recent60     0.0521     0.0020     26.371     0.0000      0.0482      0.0559\n",
       "cnt_recent60           -0.0270     0.0010    -27.023     0.0000     -0.0290     -0.0250\n",
       "=======================================================================================\n",
       "\n",
       "F-test for Poolability: 177.24\n",
       "P-value: 0.0000\n",
       "Distribution: F(756,2047610)\n",
       "\n",
       "Included effects: Entity, Time\n",
       "PanelEffectsResults, id: 0x7fb9c0e2ba10"
      ]
     },
     "execution_count": 142,
     "metadata": {},
     "output_type": "execute_result"
    }
   ],
   "source": [
    "# result"
   ]
  },
  {
   "cell_type": "code",
   "execution_count": 143,
   "metadata": {
    "collapsed": true,
    "id": "9031790A5459478F807BBCED1709B4A7",
    "jupyter": {
     "outputs_hidden": true
    },
    "notebookId": "66bd9a11f69c7398daacb180",
    "slideshow": {
     "slide_type": "slide"
    },
    "tags": []
   },
   "outputs": [
    {
     "name": "stdout",
     "output_type": "stream",
     "text": [
      "                          PanelOLS Estimation Summary                           \n",
      "================================================================================\n",
      "Dep. Variable:             perf_next7   R-squared:                        0.0649\n",
      "Estimator:                   PanelOLS   R-squared (Between):              0.0154\n",
      "No. Observations:             2048369   R-squared (Within):               0.0679\n",
      "Date:                Sat, Dec 23 2023   R-squared (Overall):              0.0358\n",
      "Time:                        08:37:00   Log-likelihood                -1.341e+06\n",
      "Cov. Estimator:             Clustered                                           \n",
      "                                        F-statistic:                   7.107e+04\n",
      "Entities:                         367   P-value                           0.0000\n",
      "Avg Obs:                       5581.4   Distribution:               F(2,2047610)\n",
      "Min Obs:                       2.0000                                           \n",
      "Max Obs:                    1.997e+05   F-statistic (robust):             367.87\n",
      "                                        P-value                           0.0000\n",
      "Time periods:                     391   Distribution:               F(2,2047610)\n",
      "Avg Obs:                       5238.8                                           \n",
      "Min Obs:                       1250.0                                           \n",
      "Max Obs:                    2.011e+04                                           \n",
      "                                                                                \n",
      "                                  Parameter Estimates                                  \n",
      "=======================================================================================\n",
      "                     Parameter  Std. Err.     T-stat    P-value    Lower CI    Upper CI\n",
      "---------------------------------------------------------------------------------------\n",
      "true_next7_recent60     0.0521     0.0020     26.371     0.0000      0.0482      0.0559\n",
      "cnt_recent60           -0.0270     0.0010    -27.023     0.0000     -0.0290     -0.0250\n",
      "=======================================================================================\n",
      "\n",
      "F-test for Poolability: 177.24\n",
      "P-value: 0.0000\n",
      "Distribution: F(756,2047610)\n",
      "\n",
      "Included effects: Entity, Time\n"
     ]
    }
   ],
   "source": [
    "# print(result)"
   ]
  },
  {
   "cell_type": "markdown",
   "metadata": {
    "id": "7646A21348EF40B095E7804C4D813BE5",
    "jupyter": {},
    "notebookId": "66bd9a11f69c7398daacb180",
    "runtime": {
     "execution_status": null,
     "status": "default"
    },
    "scrolled": false,
    "slideshow": {
     "slide_type": "slide"
    },
    "tags": []
   },
   "source": [
    "# Mixed Effects"
   ]
  },
  {
   "cell_type": "markdown",
   "metadata": {
    "id": "BB8A185CCE6346768F261983F112AE58",
    "jupyter": {},
    "notebookId": "66bd9a11f69c7398daacb180",
    "runtime": {
     "execution_status": null,
     "status": "default"
    },
    "scrolled": false,
    "slideshow": {
     "slide_type": "slide"
    },
    "tags": []
   },
   "source": [
    "- [MIXED EFFECT REGRESSION](https://www.pythonfordatascience.org/mixed-effects-regression-python/)"
   ]
  },
  {
   "cell_type": "code",
   "execution_count": 2,
   "metadata": {
    "collapsed": false,
    "id": "A52BE3359B5C4B64BAC835D5B6F92679",
    "jupyter": {
     "outputs_hidden": false
    },
    "notebookId": "66bd9a11f69c7398daacb180",
    "slideshow": {
     "slide_type": "slide"
    },
    "tags": []
   },
   "outputs": [],
   "source": [
    "# import statsmodels.api as sm\n",
    "# import statsmodels.formula.api as smf"
   ]
  },
  {
   "cell_type": "code",
   "execution_count": null,
   "metadata": {
    "collapsed": false,
    "id": "68EC82EADF3241CA974F54263885A708",
    "jupyter": {
     "outputs_hidden": false
    },
    "notebookId": "66bd9a11f69c7398daacb180",
    "slideshow": {
     "slide_type": "slide"
    },
    "tags": []
   },
   "outputs": [],
   "source": [
    "# help(smf.mixedlm)"
   ]
  },
  {
   "cell_type": "code",
   "execution_count": 3,
   "metadata": {
    "collapsed": false,
    "id": "171029E23D3D45A28BD0C04EEBAC5AD5",
    "jupyter": {
     "outputs_hidden": false
    },
    "notebookId": "66bd9a11f69c7398daacb180",
    "slideshow": {
     "slide_type": "slide"
    },
    "tags": []
   },
   "outputs": [],
   "source": [
    "# window_t = 7\n",
    "# window_r = 60\n",
    "# y = 'perf_next{}'.format(window_t)\n",
    "# x = 'true_next{}_recent{}'.format(window_t, window_r)"
   ]
  },
  {
   "cell_type": "code",
   "execution_count": 4,
   "metadata": {
    "collapsed": false,
    "id": "052B6CB2D3FD47518F19DC42AA8C51E8",
    "jupyter": {
     "outputs_hidden": false
    },
    "notebookId": "66bd9a11f69c7398daacb180",
    "slideshow": {
     "slide_type": "slide"
    },
    "tags": []
   },
   "outputs": [
    {
     "ename": "NameError",
     "evalue": "name 'df_perf_exp' is not defined",
     "output_type": "error",
     "traceback": [
      "\u001b[0;31m---------------------------------------------------------------------------\u001b[0m",
      "\u001b[0;31mNameError\u001b[0m                                 Traceback (most recent call last)",
      "\u001b[0;32m/tmp/ipykernel_440/3613666820.py\u001b[0m in \u001b[0;36m<module>\u001b[0;34m\u001b[0m\n\u001b[1;32m      1\u001b[0m \u001b[0;31m# mixed effects\u001b[0m\u001b[0;34m\u001b[0m\u001b[0;34m\u001b[0m\u001b[0;34m\u001b[0m\u001b[0m\n\u001b[0;32m----> 2\u001b[0;31m \u001b[0mdf_perf_exp\u001b[0m\u001b[0;34m[\u001b[0m\u001b[0;34m'userid'\u001b[0m\u001b[0;34m]\u001b[0m \u001b[0;34m=\u001b[0m \u001b[0mdf_perf_exp\u001b[0m\u001b[0;34m[\u001b[0m\u001b[0;34m'user.id'\u001b[0m\u001b[0;34m]\u001b[0m\u001b[0;34m.\u001b[0m\u001b[0mastype\u001b[0m\u001b[0;34m(\u001b[0m\u001b[0mint\u001b[0m\u001b[0;34m)\u001b[0m\u001b[0;34m.\u001b[0m\u001b[0mastype\u001b[0m\u001b[0;34m(\u001b[0m\u001b[0mstr\u001b[0m\u001b[0;34m)\u001b[0m\u001b[0;34m\u001b[0m\u001b[0;34m\u001b[0m\u001b[0m\n\u001b[0m\u001b[1;32m      3\u001b[0m \u001b[0mvc\u001b[0m \u001b[0;34m=\u001b[0m \u001b[0;34m{\u001b[0m\u001b[0;34m'user'\u001b[0m\u001b[0;34m:\u001b[0m \u001b[0;34m'0 + C(userid)'\u001b[0m\u001b[0;34m,\u001b[0m \u001b[0;34m'time'\u001b[0m\u001b[0;34m:\u001b[0m \u001b[0;34m'0 + C(created_day)'\u001b[0m\u001b[0;34m}\u001b[0m\u001b[0;34m\u001b[0m\u001b[0;34m\u001b[0m\u001b[0m\n\u001b[1;32m      4\u001b[0m md = smf.mixedlm('{} ~ {}'.format(y,x), \n\u001b[1;32m      5\u001b[0m                      \u001b[0mvc_formula\u001b[0m\u001b[0;34m=\u001b[0m\u001b[0mvc\u001b[0m\u001b[0;34m,\u001b[0m\u001b[0;34m\u001b[0m\u001b[0;34m\u001b[0m\u001b[0m\n",
      "\u001b[0;31mNameError\u001b[0m: name 'df_perf_exp' is not defined"
     ]
    }
   ],
   "source": [
    "# # mixed effects\n",
    "# df_perf_exp['userid'] = df_perf_exp['user.id'].astype(int).astype(str)\n",
    "# vc = {'user': '0 + C(userid)', 'time': '0 + C(created_day)'}\n",
    "# md = smf.mixedlm('{} ~ {}'.format(y,x), \n",
    "#                      vc_formula=vc,                                   \n",
    "#                      re_formula='1', \n",
    "#                      groups='ticker_f', \n",
    "#                      data=df_perf_exp\n",
    "#                     )\n",
    "# mdf = md.fit()\n",
    "# print(mdf.summary())"
   ]
  }
 ],
 "metadata": {
  "kernelspec": {
   "display_name": "Python 3 (ipykernel)",
   "language": "python",
   "name": "python3"
  },
  "language_info": {
   "codemirror_mode": {
    "name": "ipython",
    "version": 3
   },
   "file_extension": ".py",
   "mimetype": "text/x-python",
   "name": "python",
   "nbconvert_exporter": "python",
   "pygments_lexer": "ipython3",
   "version": "3.11.9"
  }
 },
 "nbformat": 4,
 "nbformat_minor": 4
}
